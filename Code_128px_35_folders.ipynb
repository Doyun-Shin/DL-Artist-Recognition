{
 "cells": [
  {
   "cell_type": "code",
   "execution_count": 1,
   "metadata": {},
   "outputs": [],
   "source": [
    "# Importing the Keras libraries and packages\n",
    "from matplotlib import pyplot\n",
    "from keras.models import Sequential\n",
    "from keras.layers import Conv2D\n",
    "from keras.layers import MaxPooling2D\n",
    "from keras.layers import Flatten\n",
    "from keras.layers import Dense\n",
    "from keras.layers.core import Dense, Dropout, Activation, Flatten\n",
    "import warnings\n",
    "warnings.filterwarnings(\"ignore\")\n",
    "import numpy as np\n",
    "import tensorflow\n",
    "from sklearn.metrics import classification_report, confusion_matrix\n",
    "from keras.optimizers import SGD\n",
    "from keras.preprocessing.image import ImageDataGenerator\n",
    "from numpy.random import seed\n",
    "import os\n",
    "import random\n"
   ]
  },
  {
   "cell_type": "code",
   "execution_count": 2,
   "metadata": {},
   "outputs": [],
   "source": [
    "# seed = 2\n",
    "# def reset_random_seeds():\n",
    "#     os.environ['PYTHONHASHSEED'] = str(seed)\n",
    "#     tensorflow.random.set_seed(seed)\n",
    "#     np.random.seed(seed)\n",
    "#     random.seed(seed)"
   ]
  },
  {
   "cell_type": "code",
   "execution_count": 8,
   "metadata": {},
   "outputs": [],
   "source": [
    "# Part 1 - Develop a Baseline CNN Model\n",
    "\n",
    "# A baseline model will show us a minimal model performance \n",
    "# to which other models will be compared\n",
    "\n",
    "\n",
    "img_rows = 128\n",
    "img_cols = 128\n",
    "epochs = 35\n",
    "batch_size = 64\n",
    "num_of_train_samples = 3360\n",
    "num_of_test_samples = 1440"
   ]
  },
  {
   "cell_type": "code",
   "execution_count": 4,
   "metadata": {},
   "outputs": [],
   "source": [
    "# plot diagnostic learning curves\n",
    "def summarize_diagnostics(history):\n",
    "    pyplot.figure(figsize=(10,5))\n",
    "    # plot loss\n",
    "    pyplot.subplot(121)\n",
    "    pyplot.title('Entropy Loss')\n",
    "    pyplot.plot(history.history['loss'], color='green', label='train')\n",
    "    pyplot.plot(history.history['val_loss'], color='blue', label='test')\n",
    "    pyplot.legend()\n",
    "    # plot accuracy\n",
    "    pyplot.subplot(122)\n",
    "    pyplot.title('\\nClassification Accuracy')\n",
    "    pyplot.plot(history.history['accuracy'], color='green', label='train')\n",
    "    pyplot.plot(history.history['val_accuracy'], color='blue', label='test')\n",
    "    pyplot.legend()\n",
    "    # save plot to file\n",
    "#     filename = sys.argv[0].split('/')[-1]\n",
    "#     pyplot.savefig(filename + '_plot.png')\n",
    "#     pyplot.close()\n",
    "    pyplot.show()"
   ]
  },
  {
   "cell_type": "code",
   "execution_count": 5,
   "metadata": {},
   "outputs": [],
   "source": [
    "# Function that calculates Confusion Matrix and shows Classification Report\n",
    "def class_report(test_set, model):\n",
    "    Y_pred = model.predict(test_set, num_of_test_samples // batch_size + 1)\n",
    "    y_pred = np.argmax(Y_pred, axis=1)\n",
    "    print('Confusion Matrix')\n",
    "    print(confusion_matrix(test_set.classes, y_pred))\n",
    "    print('Classification Report')\n",
    "    target_names = list(training_set.class_indices.keys())\n",
    "    print(classification_report(test_set.classes, y_pred, target_names=target_names))"
   ]
  },
  {
   "cell_type": "code",
   "execution_count": 6,
   "metadata": {},
   "outputs": [
    {
     "name": "stderr",
     "output_type": "stream",
     "text": [
      "Copying files: 4800 files [00:04, 1106.53 files/s]\n"
     ]
    }
   ],
   "source": [
    "import splitfolders #link - https://pypi.org/project/split-folders/\n",
    "\n",
    "# Divide all artists folders to train and val folders\n",
    "splitfolders.ratio(\"./artists\", output=\"./\", seed=42 , ratio=(.7, .3))"
   ]
  },
  {
   "cell_type": "code",
   "execution_count": 25,
   "metadata": {},
   "outputs": [
    {
     "name": "stdout",
     "output_type": "stream",
     "text": [
      "Found 3360 images belonging to 6 classes.\n",
      "Found 1440 images belonging to 6 classes.\n"
     ]
    }
   ],
   "source": [
    "# Prepare the data. Instanciate ImageDataGenerator that scalse the pixel values to the range of 0-1\n",
    "# We don't use data augmentation, dropout etc for the Baseline models to check a minimal model performance \n",
    "datagen = ImageDataGenerator(rescale=1. / 255)\n",
    "\n",
    "training_set = datagen.flow_from_directory('train', \n",
    "                                                 target_size=(img_rows, img_cols),\n",
    "                                                 batch_size=batch_size,\n",
    "                                                 class_mode='categorical')\n",
    "\n",
    "test_set = datagen.flow_from_directory('val',\n",
    "                                            target_size=(img_rows, img_cols),\n",
    "                                            batch_size=batch_size, shuffle = False,\n",
    "                                            class_mode='categorical')"
   ]
  },
  {
   "cell_type": "code",
   "execution_count": 26,
   "metadata": {},
   "outputs": [
    {
     "name": "stdout",
     "output_type": "stream",
     "text": [
      "{'Matisse': 0, 'Monet': 1, 'Pissaro': 2, 'Renoir': 3, 'Sargent': 4, 'VanGogh': 5}\n"
     ]
    }
   ],
   "source": [
    "print(test_set.class_indices)"
   ]
  },
  {
   "cell_type": "code",
   "execution_count": 27,
   "metadata": {},
   "outputs": [],
   "source": [
    "# VGG Blocks\n",
    "# The basic building block of classic CNNs is a sequence of the following: \n",
    "#     (i) a convolutional layer with padding to maintain the resolution, \n",
    "#     (ii) a nonlinearity such as a ReLU, \n",
    "#     (iii) a pooling layer such as a max pooling layer. \n",
    "# One VGG block consists of a sequence of convolutional layers, \n",
    "# followed by a max pooling layer for spatial downsampling. \n",
    "# In the original VGG paper [Simonyan & Zisserman, 2014], the authors employed convolutions with  3×3  kernels \n",
    "# with padding of 1 (keeping height and width) \n",
    "# and  2×2  max pooling with stride of 2 (halving the resolution after each block). "
   ]
  },
  {
   "cell_type": "code",
   "execution_count": 28,
   "metadata": {},
   "outputs": [],
   "source": [
    "# Define CNN model with one VGG-style block\n",
    "# The 1-block VGG model has a single convolutional layer with 32 filters \n",
    "# followed by a max pooling layer\n",
    "def baseline_model_1():\n",
    "    #reset_random_seeds()\n",
    "    model = Sequential()\n",
    "    \n",
    "    model.add(Conv2D(32, (3, 3), activation='relu', \n",
    "                     kernel_initializer='he_uniform', \n",
    "                     padding='same', input_shape=(img_rows, img_cols, 3)))\n",
    "    model.add(MaxPooling2D((2, 2)))\n",
    "    \n",
    "    model.add(Flatten())\n",
    "    model.add(Dense(128, activation='relu', \n",
    "                    kernel_initializer='he_uniform'))\n",
    "    model.add(Dense(6, activation='softmax'))\n",
    "    # Compilation of a model\n",
    "    opt = SGD(lr=0.001, momentum=0.9) # Gradient descent (with momentum) optimizer.\n",
    "    model.compile(optimizer=opt, loss='categorical_crossentropy', metrics=['accuracy'])\n",
    "    return model"
   ]
  },
  {
   "cell_type": "code",
   "execution_count": 29,
   "metadata": {},
   "outputs": [
    {
     "name": "stdout",
     "output_type": "stream",
     "text": [
      "Epoch 1/35\n",
      "53/53 [==============================] - 19s 345ms/step - loss: 2.1140 - accuracy: 0.1857 - val_loss: 1.7105 - val_accuracy: 0.2715\n",
      "Epoch 2/35\n",
      "53/53 [==============================] - 18s 341ms/step - loss: 1.6784 - accuracy: 0.2689 - val_loss: 1.6346 - val_accuracy: 0.3049\n",
      "Epoch 3/35\n",
      "53/53 [==============================] - 18s 339ms/step - loss: 1.5612 - accuracy: 0.3433 - val_loss: 1.5695 - val_accuracy: 0.3653\n",
      "Epoch 4/35\n",
      "53/53 [==============================] - 18s 338ms/step - loss: 1.5107 - accuracy: 0.4050 - val_loss: 1.5351 - val_accuracy: 0.3736\n",
      "Epoch 5/35\n",
      "53/53 [==============================] - 19s 367ms/step - loss: 1.4499 - accuracy: 0.4192 - val_loss: 1.5140 - val_accuracy: 0.3903\n",
      "Epoch 6/35\n",
      "53/53 [==============================] - 18s 334ms/step - loss: 1.4196 - accuracy: 0.4304 - val_loss: 1.6536 - val_accuracy: 0.3313\n",
      "Epoch 7/35\n",
      "53/53 [==============================] - 18s 336ms/step - loss: 1.4441 - accuracy: 0.4257 - val_loss: 1.4878 - val_accuracy: 0.4028\n",
      "Epoch 8/35\n",
      "53/53 [==============================] - 18s 335ms/step - loss: 1.3784 - accuracy: 0.4591 - val_loss: 1.4253 - val_accuracy: 0.4493\n",
      "Epoch 9/35\n",
      "53/53 [==============================] - 18s 335ms/step - loss: 1.3371 - accuracy: 0.4794 - val_loss: 1.4236 - val_accuracy: 0.4479\n",
      "Epoch 10/35\n",
      "53/53 [==============================] - 18s 336ms/step - loss: 1.3338 - accuracy: 0.4785 - val_loss: 1.3906 - val_accuracy: 0.4611\n",
      "Epoch 11/35\n",
      "53/53 [==============================] - 18s 337ms/step - loss: 1.2842 - accuracy: 0.5113 - val_loss: 1.4056 - val_accuracy: 0.4410\n",
      "Epoch 12/35\n",
      "53/53 [==============================] - 18s 335ms/step - loss: 1.2316 - accuracy: 0.5287 - val_loss: 1.3769 - val_accuracy: 0.4771\n",
      "Epoch 13/35\n",
      "53/53 [==============================] - 18s 336ms/step - loss: 1.1866 - accuracy: 0.5489 - val_loss: 1.3377 - val_accuracy: 0.4986\n",
      "Epoch 14/35\n",
      "53/53 [==============================] - 18s 337ms/step - loss: 1.1464 - accuracy: 0.5788 - val_loss: 1.4537 - val_accuracy: 0.4549\n",
      "Epoch 15/35\n",
      "53/53 [==============================] - 18s 338ms/step - loss: 1.2505 - accuracy: 0.5189 - val_loss: 1.4079 - val_accuracy: 0.4903\n",
      "Epoch 16/35\n",
      "53/53 [==============================] - 18s 337ms/step - loss: 1.1199 - accuracy: 0.5792 - val_loss: 1.3416 - val_accuracy: 0.5063\n",
      "Epoch 17/35\n",
      "53/53 [==============================] - 18s 340ms/step - loss: 1.0946 - accuracy: 0.5880 - val_loss: 1.3452 - val_accuracy: 0.4972\n",
      "Epoch 18/35\n",
      "53/53 [==============================] - 18s 337ms/step - loss: 1.0578 - accuracy: 0.6067 - val_loss: 1.2990 - val_accuracy: 0.5153\n",
      "Epoch 19/35\n",
      "53/53 [==============================] - 19s 353ms/step - loss: 1.0115 - accuracy: 0.6273 - val_loss: 1.3206 - val_accuracy: 0.5188\n",
      "Epoch 20/35\n",
      "53/53 [==============================] - 19s 351ms/step - loss: 0.9874 - accuracy: 0.6376 - val_loss: 1.3684 - val_accuracy: 0.5028\n",
      "Epoch 21/35\n",
      "53/53 [==============================] - 19s 358ms/step - loss: 0.9804 - accuracy: 0.6387 - val_loss: 1.3205 - val_accuracy: 0.5264\n",
      "Epoch 22/35\n",
      "53/53 [==============================] - 20s 369ms/step - loss: 0.9438 - accuracy: 0.6642 - val_loss: 1.3879 - val_accuracy: 0.5021\n",
      "Epoch 23/35\n",
      "53/53 [==============================] - 19s 356ms/step - loss: 0.8992 - accuracy: 0.6674 - val_loss: 1.3082 - val_accuracy: 0.5292\n",
      "Epoch 24/35\n",
      "53/53 [==============================] - 19s 355ms/step - loss: 0.8543 - accuracy: 0.6903 - val_loss: 1.2678 - val_accuracy: 0.5444\n",
      "Epoch 25/35\n",
      "53/53 [==============================] - 19s 358ms/step - loss: 0.7952 - accuracy: 0.7333 - val_loss: 1.2884 - val_accuracy: 0.5354\n",
      "Epoch 26/35\n",
      "53/53 [==============================] - 19s 358ms/step - loss: 0.7662 - accuracy: 0.7448 - val_loss: 1.3229 - val_accuracy: 0.5299\n",
      "Epoch 27/35\n",
      "53/53 [==============================] - 19s 358ms/step - loss: 0.8176 - accuracy: 0.7026 - val_loss: 1.3013 - val_accuracy: 0.5250\n",
      "Epoch 28/35\n",
      "53/53 [==============================] - 19s 359ms/step - loss: 0.7094 - accuracy: 0.7617 - val_loss: 1.2841 - val_accuracy: 0.5486\n",
      "Epoch 29/35\n",
      "53/53 [==============================] - 19s 355ms/step - loss: 0.6311 - accuracy: 0.8067 - val_loss: 1.3497 - val_accuracy: 0.5292\n",
      "Epoch 30/35\n",
      "53/53 [==============================] - 19s 356ms/step - loss: 0.5879 - accuracy: 0.8125 - val_loss: 1.3266 - val_accuracy: 0.5347\n",
      "Epoch 31/35\n",
      "53/53 [==============================] - 19s 356ms/step - loss: 0.5521 - accuracy: 0.8326 - val_loss: 1.3149 - val_accuracy: 0.5514\n",
      "Epoch 32/35\n",
      "53/53 [==============================] - 19s 358ms/step - loss: 0.5046 - accuracy: 0.8470 - val_loss: 1.3844 - val_accuracy: 0.5326\n",
      "Epoch 33/35\n",
      "53/53 [==============================] - 20s 372ms/step - loss: 0.4918 - accuracy: 0.8524 - val_loss: 1.3224 - val_accuracy: 0.5479\n",
      "Epoch 34/35\n",
      "53/53 [==============================] - 20s 368ms/step - loss: 0.4810 - accuracy: 0.8609 - val_loss: 1.3437 - val_accuracy: 0.5417\n",
      "Epoch 35/35\n",
      "53/53 [==============================] - 19s 357ms/step - loss: 0.4082 - accuracy: 0.8990 - val_loss: 1.3617 - val_accuracy: 0.5437\n"
     ]
    }
   ],
   "source": [
    "# The model will be fit for 35 epochs - to check if the model can learn the problem.\n",
    "# Define model\n",
    "model = baseline_model_1()\n",
    "# Fit model\n",
    "history = model.fit_generator(training_set, \n",
    "                              steps_per_epoch=len(training_set), # = num_of_train_samples // batch_size +1\n",
    "                              validation_data=test_set, \n",
    "                              validation_steps=len(test_set), # = num_of_test_samples // batch_size +1\n",
    "                              epochs= epochs)"
   ]
  },
  {
   "cell_type": "code",
   "execution_count": 30,
   "metadata": {},
   "outputs": [
    {
     "name": "stdout",
     "output_type": "stream",
     "text": [
      "Accuracy: 54.3750\n"
     ]
    }
   ],
   "source": [
    "# Evaluate model\n",
    "_, acc = model.evaluate_generator(test_set, steps=len(test_set), verbose=0)\n",
    "print(\"Accuracy: %.4f\" % (acc * 100.0))"
   ]
  },
  {
   "cell_type": "code",
   "execution_count": 31,
   "metadata": {},
   "outputs": [
    {
     "data": {
      "image/png": "[encoded data removed]",
      "text/plain": [
       "<Figure size 720x360 with 2 Axes>"
      ]
     },
     "metadata": {
      "needs_background": "light"
     },
     "output_type": "display_data"
    }
   ],
   "source": [
    "# Build graphs\n",
    "summarize_diagnostics(history)"
   ]
  },
  {
   "cell_type": "code",
   "execution_count": 32,
   "metadata": {},
   "outputs": [
    {
     "name": "stdout",
     "output_type": "stream",
     "text": [
      "Confusion Matrix\n",
      "[[130  51  10  15  22  12]\n",
      " [  8 160  26   9  11  26]\n",
      " [  7  60 136  15   5  17]\n",
      " [ 16  22  21 123  35  23]\n",
      " [ 23  47  11  20 125  14]\n",
      " [ 12  46  26  21  26 109]]\n",
      "Classification Report\n",
      "              precision    recall  f1-score   support\n",
      "\n",
      "     Matisse       0.66      0.54      0.60       240\n",
      "       Monet       0.41      0.67      0.51       240\n",
      "     Pissaro       0.59      0.57      0.58       240\n",
      "      Renoir       0.61      0.51      0.56       240\n",
      "     Sargent       0.56      0.52      0.54       240\n",
      "     VanGogh       0.54      0.45      0.49       240\n",
      "\n",
      "    accuracy                           0.54      1440\n",
      "   macro avg       0.56      0.54      0.55      1440\n",
      "weighted avg       0.56      0.54      0.55      1440\n",
      "\n"
     ]
    }
   ],
   "source": [
    "class_report(test_set, model)"
   ]
  },
  {
   "cell_type": "code",
   "execution_count": 33,
   "metadata": {},
   "outputs": [],
   "source": [
    "# Define CNN model with two VGG-style blocks\n",
    "def baseline_model_2():\n",
    "   # reset_random_seeds()\n",
    "    model = Sequential()\n",
    "# 1st block    \n",
    "    model.add(Conv2D(32, (3, 3), activation='relu', \n",
    "                     kernel_initializer='he_uniform', \n",
    "                     padding='same', input_shape=(img_rows, img_cols, 3)))\n",
    "    model.add(MaxPooling2D((2, 2)))\n",
    "# 2d block    \n",
    "    model.add(Conv2D(64, (3, 3), activation='relu', \n",
    "                     kernel_initializer='he_uniform', \n",
    "                     padding='same', input_shape=(img_rows, img_cols, 3)))\n",
    "    model.add(MaxPooling2D((2, 2)))\n",
    "   \n",
    "    model.add(Flatten())\n",
    "    model.add(Dense(128, activation='relu', \n",
    "                    kernel_initializer='he_uniform'))\n",
    "    model.add(Dense(6, activation='softmax'))\n",
    "    # Compilation of a model\n",
    "    opt = SGD(lr=0.001, momentum=0.9) # Gradient descent (with momentum) optimizer.\n",
    "    model.compile(optimizer=opt, loss='categorical_crossentropy', metrics=['accuracy'])\n",
    "    return model"
   ]
  },
  {
   "cell_type": "code",
   "execution_count": 34,
   "metadata": {},
   "outputs": [],
   "source": [
    "# The model will be fit for 20 epochs - to check if the model can learn the problem.\n",
    "# define model\n",
    "model = baseline_model_2()\n",
    "# fit model\n",
    "history = model.fit_generator(training_set, steps_per_epoch=len(training_set),\n",
    "                              validation_data=test_set, \n",
    "                              validation_steps=len(test_set), \n",
    "                              epochs= 30, \n",
    "                              verbose = 0)"
   ]
  },
  {
   "cell_type": "code",
   "execution_count": 35,
   "metadata": {},
   "outputs": [
    {
     "name": "stdout",
     "output_type": "stream",
     "text": [
      "Accuracy: 55.5556\n"
     ]
    }
   ],
   "source": [
    "# evaluate model\n",
    "_, acc = model.evaluate_generator(test_set, steps=len(test_set), verbose=0)\n",
    "print(\"Accuracy: %.4f\" % (acc * 100.0))"
   ]
  },
  {
   "cell_type": "code",
   "execution_count": 36,
   "metadata": {},
   "outputs": [
    {
     "name": "stdout",
     "output_type": "stream",
     "text": [
      "Confusion Matrix\n",
      "[[139   9  10  41  15  26]\n",
      " [ 12 139  31  11  10  37]\n",
      " [ 18  22 133  29   5  33]\n",
      " [ 22  10  15 153  14  26]\n",
      " [ 48  10  14  51 101  16]\n",
      " [ 16  16  35  25  13 135]]\n",
      "Classification Report\n",
      "              precision    recall  f1-score   support\n",
      "\n",
      "     Matisse       0.55      0.58      0.56       240\n",
      "       Monet       0.67      0.58      0.62       240\n",
      "     Pissaro       0.56      0.55      0.56       240\n",
      "      Renoir       0.49      0.64      0.56       240\n",
      "     Sargent       0.64      0.42      0.51       240\n",
      "     VanGogh       0.49      0.56      0.53       240\n",
      "\n",
      "    accuracy                           0.56      1440\n",
      "   macro avg       0.57      0.56      0.56      1440\n",
      "weighted avg       0.57      0.56      0.56      1440\n",
      "\n"
     ]
    }
   ],
   "source": [
    "class_report(test_set, model)"
   ]
  },
  {
   "cell_type": "code",
   "execution_count": 37,
   "metadata": {},
   "outputs": [
    {
     "data": {
      "image/png": "[encoded data removed]",
      "text/plain": [
       "<Figure size 720x360 with 2 Axes>"
      ]
     },
     "metadata": {
      "needs_background": "light"
     },
     "output_type": "display_data"
    }
   ],
   "source": [
    "# Build graphs\n",
    "summarize_diagnostics(history)"
   ]
  },
  {
   "cell_type": "code",
   "execution_count": null,
   "metadata": {},
   "outputs": [],
   "source": []
  },
  {
   "cell_type": "code",
   "execution_count": 38,
   "metadata": {},
   "outputs": [],
   "source": [
    "# Define CNN model with three VGG-style blocks\n",
    "def baseline_model_3():\n",
    "    #reset_random_seeds()\n",
    "    model = Sequential()\n",
    "# 1st block    \n",
    "    model.add(Conv2D(32, (3, 3), activation='relu', \n",
    "                     kernel_initializer='he_uniform', \n",
    "                     padding='same', input_shape=(img_rows, img_cols, 3)))\n",
    "    model.add(MaxPooling2D((2, 2)))\n",
    "# 2d block    \n",
    "    model.add(Conv2D(64, (3, 3), activation='relu', \n",
    "                     kernel_initializer='he_uniform', \n",
    "                     padding='same', input_shape=(img_rows, img_cols, 3)))\n",
    "    model.add(MaxPooling2D((2, 2)))\n",
    "# 3d block\n",
    "    model.add(Conv2D(128, (3, 3), activation='relu', \n",
    "                     kernel_initializer='he_uniform', \n",
    "                     padding='same', input_shape= (img_rows, img_cols, 3)))\n",
    "    model.add(MaxPooling2D((2, 2)))\n",
    "   \n",
    "    model.add(Flatten())\n",
    "    model.add(Dense(128, activation='relu', \n",
    "                    kernel_initializer='he_uniform'))\n",
    "    model.add(Dense(6, activation='softmax'))\n",
    "    # Compilation of a model\n",
    "    opt = SGD(lr=0.001, momentum=0.9) # Gradient descent (with momentum) optimizer.\n",
    "    model.compile(optimizer=opt, loss='categorical_crossentropy', metrics=['accuracy'])\n",
    "    return model"
   ]
  },
  {
   "cell_type": "code",
   "execution_count": 39,
   "metadata": {},
   "outputs": [
    {
     "name": "stdout",
     "output_type": "stream",
     "text": [
      "Epoch 1/30\n",
      "53/53 [==============================] - 39s 729ms/step - loss: 1.9867 - accuracy: 0.2299 - val_loss: 1.5857 - val_accuracy: 0.3417\n",
      "Epoch 2/30\n",
      "53/53 [==============================] - 38s 721ms/step - loss: 1.5481 - accuracy: 0.4025 - val_loss: 1.5672 - val_accuracy: 0.3611\n",
      "Epoch 3/30\n",
      "53/53 [==============================] - 40s 748ms/step - loss: 1.4497 - accuracy: 0.4265 - val_loss: 1.3631 - val_accuracy: 0.5007\n",
      "Epoch 4/30\n",
      "53/53 [==============================] - 41s 765ms/step - loss: 1.3197 - accuracy: 0.5067 - val_loss: 1.3331 - val_accuracy: 0.5014\n",
      "Epoch 5/30\n",
      "53/53 [==============================] - 41s 766ms/step - loss: 1.2888 - accuracy: 0.5229 - val_loss: 1.3639 - val_accuracy: 0.4743\n",
      "Epoch 6/30\n",
      "53/53 [==============================] - 42s 795ms/step - loss: 1.2608 - accuracy: 0.5329 - val_loss: 1.2899 - val_accuracy: 0.5215\n",
      "Epoch 7/30\n",
      "53/53 [==============================] - 41s 765ms/step - loss: 1.1867 - accuracy: 0.5587 - val_loss: 1.2574 - val_accuracy: 0.5201\n",
      "Epoch 8/30\n",
      "53/53 [==============================] - 40s 764ms/step - loss: 1.1334 - accuracy: 0.5801 - val_loss: 1.2322 - val_accuracy: 0.5382\n",
      "Epoch 9/30\n",
      "53/53 [==============================] - 41s 774ms/step - loss: 1.0864 - accuracy: 0.5945 - val_loss: 1.2559 - val_accuracy: 0.5208\n",
      "Epoch 10/30\n",
      "53/53 [==============================] - 41s 769ms/step - loss: 1.0988 - accuracy: 0.5969 - val_loss: 1.2273 - val_accuracy: 0.5486\n",
      "Epoch 11/30\n",
      "53/53 [==============================] - 41s 767ms/step - loss: 0.9875 - accuracy: 0.6458 - val_loss: 1.2333 - val_accuracy: 0.5410\n",
      "Epoch 12/30\n",
      "53/53 [==============================] - 41s 769ms/step - loss: 0.9438 - accuracy: 0.6560 - val_loss: 1.1673 - val_accuracy: 0.5771\n",
      "Epoch 13/30\n",
      "53/53 [==============================] - 40s 763ms/step - loss: 0.9012 - accuracy: 0.6874 - val_loss: 1.2288 - val_accuracy: 0.5493\n",
      "Epoch 14/30\n",
      "53/53 [==============================] - 40s 756ms/step - loss: 0.8939 - accuracy: 0.6947 - val_loss: 1.2059 - val_accuracy: 0.5514\n",
      "Epoch 15/30\n",
      "53/53 [==============================] - 39s 744ms/step - loss: 0.8544 - accuracy: 0.6995 - val_loss: 1.2080 - val_accuracy: 0.5500\n",
      "Epoch 16/30\n",
      "53/53 [==============================] - 40s 753ms/step - loss: 0.8210 - accuracy: 0.7098 - val_loss: 1.1701 - val_accuracy: 0.5660\n",
      "Epoch 17/30\n",
      "53/53 [==============================] - 40s 756ms/step - loss: 0.7276 - accuracy: 0.7514 - val_loss: 1.2163 - val_accuracy: 0.5590\n",
      "Epoch 18/30\n",
      "53/53 [==============================] - 40s 748ms/step - loss: 0.7019 - accuracy: 0.7542 - val_loss: 1.2769 - val_accuracy: 0.5382\n",
      "Epoch 19/30\n",
      "53/53 [==============================] - 40s 750ms/step - loss: 0.6906 - accuracy: 0.7715 - val_loss: 1.1979 - val_accuracy: 0.5639\n",
      "Epoch 20/30\n",
      "53/53 [==============================] - 40s 754ms/step - loss: 0.5925 - accuracy: 0.8108 - val_loss: 1.1608 - val_accuracy: 0.5903\n",
      "Epoch 21/30\n",
      "53/53 [==============================] - 40s 758ms/step - loss: 0.5692 - accuracy: 0.8077 - val_loss: 1.2132 - val_accuracy: 0.5694\n",
      "Epoch 22/30\n",
      "53/53 [==============================] - 38s 721ms/step - loss: 0.4925 - accuracy: 0.8458 - val_loss: 1.2797 - val_accuracy: 0.5854\n",
      "Epoch 23/30\n",
      "53/53 [==============================] - 38s 723ms/step - loss: 0.4851 - accuracy: 0.8520 - val_loss: 1.3270 - val_accuracy: 0.5639\n",
      "Epoch 24/30\n",
      "53/53 [==============================] - 38s 721ms/step - loss: 0.4293 - accuracy: 0.8755 - val_loss: 1.3497 - val_accuracy: 0.5479\n",
      "Epoch 25/30\n",
      "53/53 [==============================] - 39s 727ms/step - loss: 0.4408 - accuracy: 0.8548 - val_loss: 1.2049 - val_accuracy: 0.5771\n",
      "Epoch 26/30\n",
      "53/53 [==============================] - 38s 720ms/step - loss: 0.3340 - accuracy: 0.9107 - val_loss: 1.2822 - val_accuracy: 0.5826\n",
      "Epoch 27/30\n",
      "53/53 [==============================] - 38s 721ms/step - loss: 0.2965 - accuracy: 0.9226 - val_loss: 1.3518 - val_accuracy: 0.5903\n",
      "Epoch 28/30\n",
      "53/53 [==============================] - 38s 722ms/step - loss: 0.2649 - accuracy: 0.9368 - val_loss: 1.3848 - val_accuracy: 0.5861\n",
      "Epoch 29/30\n",
      "53/53 [==============================] - 38s 722ms/step - loss: 0.2483 - accuracy: 0.9450 - val_loss: 1.4175 - val_accuracy: 0.5785\n",
      "Epoch 30/30\n",
      "53/53 [==============================] - 38s 721ms/step - loss: 0.2429 - accuracy: 0.9338 - val_loss: 1.3580 - val_accuracy: 0.5882\n"
     ]
    }
   ],
   "source": [
    "# The model will be fit for 20 epochs - to check if the model can learn the problem.\n",
    "# Define model\n",
    "model = baseline_model_3()\n",
    "# Fit model\n",
    "history = model.fit_generator(training_set, steps_per_epoch=len(training_set),\n",
    "                              validation_data=test_set, \n",
    "                              validation_steps=len(test_set), \n",
    "                              epochs= 30)"
   ]
  },
  {
   "cell_type": "code",
   "execution_count": 40,
   "metadata": {},
   "outputs": [
    {
     "name": "stdout",
     "output_type": "stream",
     "text": [
      "Accuracy: 58.8194\n"
     ]
    }
   ],
   "source": [
    "# Evaluate model\n",
    "_, acc = model.evaluate_generator(test_set, steps=len(test_set), verbose=0)\n",
    "print(\"Accuracy: %.4f\" % (acc * 100.0))"
   ]
  },
  {
   "cell_type": "code",
   "execution_count": 41,
   "metadata": {},
   "outputs": [
    {
     "data": {
      "image/png": "[encoded data removed]",
      "text/plain": [
       "<Figure size 720x360 with 2 Axes>"
      ]
     },
     "metadata": {
      "needs_background": "light"
     },
     "output_type": "display_data"
    }
   ],
   "source": [
    "# Build graphs\n",
    "summarize_diagnostics(history)"
   ]
  },
  {
   "cell_type": "code",
   "execution_count": 42,
   "metadata": {},
   "outputs": [
    {
     "name": "stdout",
     "output_type": "stream",
     "text": [
      "Confusion Matrix\n",
      "[[160   4  10  28  18  20]\n",
      " [ 12 127  37  13  13  38]\n",
      " [ 18  15 135  20   6  46]\n",
      " [ 17   8  12 160  23  20]\n",
      " [ 40   3  14  36 130  17]\n",
      " [ 15  10  34  26  20 135]]\n",
      "Classification Report\n",
      "              precision    recall  f1-score   support\n",
      "\n",
      "     Matisse       0.61      0.67      0.64       240\n",
      "       Monet       0.76      0.53      0.62       240\n",
      "     Pissaro       0.56      0.56      0.56       240\n",
      "      Renoir       0.57      0.67      0.61       240\n",
      "     Sargent       0.62      0.54      0.58       240\n",
      "     VanGogh       0.49      0.56      0.52       240\n",
      "\n",
      "    accuracy                           0.59      1440\n",
      "   macro avg       0.60      0.59      0.59      1440\n",
      "weighted avg       0.60      0.59      0.59      1440\n",
      "\n"
     ]
    }
   ],
   "source": [
    "class_report(test_set, model)"
   ]
  },
  {
   "cell_type": "code",
   "execution_count": 43,
   "metadata": {},
   "outputs": [],
   "source": [
    "# Part 2 - Add Dropout Regularization and Data Augmentation\n",
    "# to our Baseline model step by step and evaluate an efficiency  \n",
    "# ___________________________________________________________\n",
    "\n",
    "\n",
    "# 1 step - Add Dropout"
   ]
  },
  {
   "cell_type": "code",
   "execution_count": 44,
   "metadata": {},
   "outputs": [
    {
     "name": "stdout",
     "output_type": "stream",
     "text": [
      "Found 3360 images belonging to 6 classes.\n",
      "Found 1440 images belonging to 6 classes.\n"
     ]
    }
   ],
   "source": [
    "# Prepare the data. Instanciate ImageDataGenerator that scalse the pixel values to the range of 0-1\n",
    "# We don't use data augmentation, dropout etc for the Baseline models to check a minimal model performance \n",
    "# Prepare the data. Instanciate ImageDataGenerator that scalse the pixel values to the range of 0-1\n",
    "# We don't use data augmentation, dropout etc for the Baseline models to check a minimal model performance \n",
    "datagen = ImageDataGenerator(rescale=1. / 255)\n",
    "\n",
    "training_set = datagen.flow_from_directory('train', \n",
    "                                                 target_size=(img_rows, img_cols),\n",
    "                                                 batch_size=batch_size,\n",
    "                                                 class_mode='categorical')\n",
    "\n",
    "test_set = datagen.flow_from_directory('val',\n",
    "                                            target_size=(img_rows, img_cols),\n",
    "                                            batch_size=batch_size, shuffle = False,\n",
    "                                            class_mode='categorical')"
   ]
  },
  {
   "cell_type": "code",
   "execution_count": 45,
   "metadata": {},
   "outputs": [],
   "source": [
    "# Define CNN model with Dropout Regularization\n",
    "def model_with_dropout():\n",
    "    #reset_random_seeds()\n",
    "    model = Sequential()\n",
    "   \n",
    "    model.add(Conv2D(32, (3, 3), activation='relu', \n",
    "                     kernel_initializer='he_uniform', \n",
    "                     padding='same', input_shape=(img_rows, img_cols, 3)))\n",
    "    model.add(MaxPooling2D((2, 2)))\n",
    "   \n",
    "   \n",
    "    model.add(Conv2D(64, (3, 3), activation='relu', \n",
    "                     kernel_initializer='he_uniform', \n",
    "                     padding='same', input_shape=(img_rows, img_cols, 3)))\n",
    "    model.add(MaxPooling2D((2, 2)))\n",
    "   \n",
    "\n",
    "    model.add(Conv2D(128, (3, 3), activation='relu', \n",
    "                     kernel_initializer='he_uniform', \n",
    "                     padding='same', input_shape= (img_rows, img_cols, 3)))\n",
    "    model.add(MaxPooling2D((2, 2)))\n",
    "    \n",
    "   \n",
    "    model.add(Flatten())\n",
    "    model.add(Dense(128, activation='relu', \n",
    "                    kernel_initializer='he_uniform'))\n",
    "    model.add(Dropout(0.5))\n",
    "    model.add(Dense(6, activation='softmax'))\n",
    "    # Compilation of a model\n",
    "    opt = SGD(lr=0.001, momentum=0.9) # Gradient descent (with momentum) optimizer.\n",
    "    model.compile(optimizer=opt, loss='categorical_crossentropy', metrics=['accuracy'])\n",
    "    return model"
   ]
  },
  {
   "cell_type": "code",
   "execution_count": 46,
   "metadata": {},
   "outputs": [
    {
     "name": "stdout",
     "output_type": "stream",
     "text": [
      "Epoch 1/35\n",
      "53/53 [==============================] - 39s 725ms/step - loss: 1.8930 - accuracy: 0.1958 - val_loss: 1.7151 - val_accuracy: 0.2861\n",
      "Epoch 2/35\n",
      "53/53 [==============================] - 38s 720ms/step - loss: 1.7257 - accuracy: 0.2424 - val_loss: 1.6637 - val_accuracy: 0.2715\n",
      "Epoch 3/35\n",
      "53/53 [==============================] - 38s 723ms/step - loss: 1.6878 - accuracy: 0.2789 - val_loss: 1.6007 - val_accuracy: 0.3500\n",
      "Epoch 4/35\n",
      "53/53 [==============================] - 39s 730ms/step - loss: 1.6356 - accuracy: 0.2901 - val_loss: 1.5867 - val_accuracy: 0.3417\n",
      "Epoch 5/35\n",
      "53/53 [==============================] - 40s 762ms/step - loss: 1.6136 - accuracy: 0.2976 - val_loss: 1.5770 - val_accuracy: 0.4243\n",
      "Epoch 6/35\n",
      "53/53 [==============================] - 40s 753ms/step - loss: 1.5816 - accuracy: 0.3426 - val_loss: 1.4951 - val_accuracy: 0.4465\n",
      "Epoch 7/35\n",
      "53/53 [==============================] - 38s 721ms/step - loss: 1.5522 - accuracy: 0.3685 - val_loss: 1.5153 - val_accuracy: 0.4139\n",
      "Epoch 8/35\n",
      "53/53 [==============================] - 38s 720ms/step - loss: 1.5155 - accuracy: 0.3843 - val_loss: 1.4641 - val_accuracy: 0.4563\n",
      "Epoch 9/35\n",
      "53/53 [==============================] - 38s 725ms/step - loss: 1.4958 - accuracy: 0.3956 - val_loss: 1.4101 - val_accuracy: 0.4931\n",
      "Epoch 10/35\n",
      "53/53 [==============================] - 43s 814ms/step - loss: 1.4526 - accuracy: 0.4281 - val_loss: 1.3724 - val_accuracy: 0.5035\n",
      "Epoch 11/35\n",
      "53/53 [==============================] - 42s 784ms/step - loss: 1.4154 - accuracy: 0.4411 - val_loss: 1.3516 - val_accuracy: 0.5063\n",
      "Epoch 12/35\n",
      "53/53 [==============================] - 40s 751ms/step - loss: 1.4055 - accuracy: 0.4355 - val_loss: 1.3876 - val_accuracy: 0.4778\n",
      "Epoch 13/35\n",
      "53/53 [==============================] - 40s 748ms/step - loss: 1.3822 - accuracy: 0.4587 - val_loss: 1.3647 - val_accuracy: 0.4958\n",
      "Epoch 14/35\n",
      "53/53 [==============================] - 40s 752ms/step - loss: 1.3523 - accuracy: 0.4947 - val_loss: 1.3032 - val_accuracy: 0.5299\n",
      "Epoch 15/35\n",
      "53/53 [==============================] - 40s 751ms/step - loss: 1.3029 - accuracy: 0.4968 - val_loss: 1.3817 - val_accuracy: 0.4625\n",
      "Epoch 16/35\n",
      "53/53 [==============================] - 40s 752ms/step - loss: 1.3362 - accuracy: 0.4946 - val_loss: 1.2904 - val_accuracy: 0.5271\n",
      "Epoch 17/35\n",
      "53/53 [==============================] - 40s 754ms/step - loss: 1.2903 - accuracy: 0.5150 - val_loss: 1.2470 - val_accuracy: 0.5424\n",
      "Epoch 18/35\n",
      "53/53 [==============================] - 40s 764ms/step - loss: 1.2461 - accuracy: 0.5292 - val_loss: 1.2639 - val_accuracy: 0.5278\n",
      "Epoch 19/35\n",
      "53/53 [==============================] - 40s 753ms/step - loss: 1.2206 - accuracy: 0.5469 - val_loss: 1.2517 - val_accuracy: 0.5250\n",
      "Epoch 20/35\n",
      "53/53 [==============================] - 40s 750ms/step - loss: 1.2261 - accuracy: 0.5327 - val_loss: 1.2329 - val_accuracy: 0.5507\n",
      "Epoch 21/35\n",
      "53/53 [==============================] - 42s 784ms/step - loss: 1.1041 - accuracy: 0.5921 - val_loss: 1.1840 - val_accuracy: 0.5611\n",
      "Epoch 22/35\n",
      "53/53 [==============================] - 40s 750ms/step - loss: 1.1135 - accuracy: 0.5741 - val_loss: 1.1675 - val_accuracy: 0.5708\n",
      "Epoch 23/35\n",
      "53/53 [==============================] - 40s 747ms/step - loss: 1.0962 - accuracy: 0.5797 - val_loss: 1.1692 - val_accuracy: 0.5785\n",
      "Epoch 24/35\n",
      "53/53 [==============================] - 40s 758ms/step - loss: 1.1001 - accuracy: 0.5788 - val_loss: 1.2095 - val_accuracy: 0.5639\n",
      "Epoch 25/35\n",
      "53/53 [==============================] - 40s 753ms/step - loss: 1.0462 - accuracy: 0.6264 - val_loss: 1.1580 - val_accuracy: 0.5729\n",
      "Epoch 26/35\n",
      "53/53 [==============================] - 40s 761ms/step - loss: 1.0224 - accuracy: 0.6267 - val_loss: 1.1708 - val_accuracy: 0.5688\n",
      "Epoch 27/35\n",
      "53/53 [==============================] - 40s 746ms/step - loss: 0.9889 - accuracy: 0.6461 - val_loss: 1.2862 - val_accuracy: 0.5007\n",
      "Epoch 28/35\n",
      "53/53 [==============================] - 40s 754ms/step - loss: 1.0563 - accuracy: 0.6133 - val_loss: 1.1612 - val_accuracy: 0.5681\n",
      "Epoch 29/35\n",
      "53/53 [==============================] - 40s 749ms/step - loss: 0.9755 - accuracy: 0.6315 - val_loss: 1.1396 - val_accuracy: 0.5750\n",
      "Epoch 30/35\n",
      "53/53 [==============================] - 40s 757ms/step - loss: 0.9371 - accuracy: 0.6647 - val_loss: 1.1806 - val_accuracy: 0.5569\n",
      "Epoch 31/35\n",
      "53/53 [==============================] - 40s 747ms/step - loss: 0.9576 - accuracy: 0.6485 - val_loss: 1.1460 - val_accuracy: 0.5694\n",
      "Epoch 32/35\n",
      "53/53 [==============================] - 40s 746ms/step - loss: 0.8709 - accuracy: 0.6821 - val_loss: 1.1866 - val_accuracy: 0.5542\n",
      "Epoch 33/35\n",
      "53/53 [==============================] - 39s 744ms/step - loss: 0.8269 - accuracy: 0.7033 - val_loss: 1.1483 - val_accuracy: 0.5708\n",
      "Epoch 34/35\n",
      "53/53 [==============================] - 40s 753ms/step - loss: 0.8364 - accuracy: 0.6921 - val_loss: 1.1184 - val_accuracy: 0.6014\n",
      "Epoch 35/35\n",
      "53/53 [==============================] - 39s 744ms/step - loss: 0.7584 - accuracy: 0.7252 - val_loss: 1.1676 - val_accuracy: 0.5681\n"
     ]
    }
   ],
   "source": [
    "# The model will be fit for 35 epochs - to check if the model can learn the problem.\n",
    "# Define model\n",
    "model_d = model_with_dropout()\n",
    "# Fit model\n",
    "history = model_d.fit_generator(training_set, steps_per_epoch=len(training_set),\n",
    "                                validation_data=test_set,\n",
    "                                validation_steps=len(test_set), \n",
    "                                epochs= epochs)"
   ]
  },
  {
   "cell_type": "code",
   "execution_count": 47,
   "metadata": {},
   "outputs": [
    {
     "name": "stdout",
     "output_type": "stream",
     "text": [
      "Accuracy: 56.8056\n"
     ]
    }
   ],
   "source": [
    "# Evaluate model\n",
    "_, acc = model_d.evaluate_generator(test_set, steps=len(test_set), verbose=0)\n",
    "print(\"Accuracy: %.4f\" % (acc * 100.0))"
   ]
  },
  {
   "cell_type": "code",
   "execution_count": 48,
   "metadata": {},
   "outputs": [
    {
     "data": {
      "image/png": "[encoded data removed]",
      "text/plain": [
       "<Figure size 720x360 with 2 Axes>"
      ]
     },
     "metadata": {
      "needs_background": "light"
     },
     "output_type": "display_data"
    }
   ],
   "source": [
    "# Build graphs\n",
    "summarize_diagnostics(history)"
   ]
  },
  {
   "cell_type": "code",
   "execution_count": 49,
   "metadata": {},
   "outputs": [
    {
     "name": "stdout",
     "output_type": "stream",
     "text": [
      "Confusion Matrix\n",
      "[[174  27   4   4  13  18]\n",
      " [  7 167  22   3   7  34]\n",
      " [ 18  50 112   3   4  53]\n",
      " [ 22  19  30 103  28  38]\n",
      " [ 46  33  13  13 113  22]\n",
      " [ 21  35  10  10  15 149]]\n",
      "Classification Report\n",
      "              precision    recall  f1-score   support\n",
      "\n",
      "     Matisse       0.60      0.72      0.66       240\n",
      "       Monet       0.50      0.70      0.58       240\n",
      "     Pissaro       0.59      0.47      0.52       240\n",
      "      Renoir       0.76      0.43      0.55       240\n",
      "     Sargent       0.63      0.47      0.54       240\n",
      "     VanGogh       0.47      0.62      0.54       240\n",
      "\n",
      "    accuracy                           0.57      1440\n",
      "   macro avg       0.59      0.57      0.56      1440\n",
      "weighted avg       0.59      0.57      0.56      1440\n",
      "\n"
     ]
    }
   ],
   "source": [
    "class_report(test_set, model_d)"
   ]
  },
  {
   "cell_type": "code",
   "execution_count": 50,
   "metadata": {},
   "outputs": [],
   "source": [
    "# 2 step - Add Data augmentation\n",
    "# Use our model with dropout"
   ]
  },
  {
   "cell_type": "code",
   "execution_count": 51,
   "metadata": {},
   "outputs": [],
   "source": [
    "# Create data generators \n",
    "# Train generator with data augmentation\n",
    "train_datagen = ImageDataGenerator(rescale=1. / 255,\n",
    "                                   rotation_range=20,\n",
    "                                   width_shift_range=0.2,\n",
    "                                   height_shift_range=0.2,\n",
    "                                   shear_range=0.2,\n",
    "                                   zoom_range=0.2,\n",
    "                                   horizontal_flip=True,\n",
    "                                   fill_mode='nearest')\n",
    "\n",
    "test_datagen = ImageDataGenerator(rescale=1. / 255)"
   ]
  },
  {
   "cell_type": "code",
   "execution_count": 52,
   "metadata": {},
   "outputs": [
    {
     "name": "stdout",
     "output_type": "stream",
     "text": [
      "Found 3360 images belonging to 6 classes.\n",
      "Found 1440 images belonging to 6 classes.\n"
     ]
    }
   ],
   "source": [
    "# Create sets\n",
    "training_set = train_datagen.flow_from_directory('train',\n",
    "                                                 target_size=(img_rows, img_cols),\n",
    "                                                 batch_size=batch_size,\n",
    "                                                 class_mode='categorical')\n",
    "\n",
    "\n",
    "test_set = test_datagen.flow_from_directory('val',\n",
    "                                            target_size=(img_rows, img_cols),\n",
    "                                            batch_size=batch_size, shuffle = False,\n",
    "                                            class_mode='categorical')"
   ]
  },
  {
   "cell_type": "code",
   "execution_count": 53,
   "metadata": {},
   "outputs": [
    {
     "name": "stdout",
     "output_type": "stream",
     "text": [
      "Epoch 1/35\n",
      "53/53 [==============================] - 43s 795ms/step - loss: 1.8587 - accuracy: 0.1924 - val_loss: 1.6800 - val_accuracy: 0.3167\n",
      "Epoch 2/35\n",
      "53/53 [==============================] - 41s 763ms/step - loss: 1.6954 - accuracy: 0.2624 - val_loss: 1.5971 - val_accuracy: 0.3986\n",
      "Epoch 3/35\n",
      "53/53 [==============================] - 40s 752ms/step - loss: 1.6354 - accuracy: 0.3268 - val_loss: 1.5288 - val_accuracy: 0.4424\n",
      "Epoch 4/35\n",
      "53/53 [==============================] - 41s 765ms/step - loss: 1.6327 - accuracy: 0.3401 - val_loss: 1.5021 - val_accuracy: 0.4396\n",
      "Epoch 5/35\n",
      "53/53 [==============================] - 41s 779ms/step - loss: 1.5733 - accuracy: 0.3511 - val_loss: 1.4806 - val_accuracy: 0.4437\n",
      "Epoch 6/35\n",
      "53/53 [==============================] - 49s 923ms/step - loss: 1.5594 - accuracy: 0.3820 - val_loss: 1.4980 - val_accuracy: 0.4521\n",
      "Epoch 7/35\n",
      "53/53 [==============================] - 48s 904ms/step - loss: 1.5288 - accuracy: 0.3919 - val_loss: 1.4346 - val_accuracy: 0.4764\n",
      "Epoch 8/35\n",
      "53/53 [==============================] - 48s 921ms/step - loss: 1.5401 - accuracy: 0.3897 - val_loss: 1.4094 - val_accuracy: 0.4965\n",
      "Epoch 9/35\n",
      "53/53 [==============================] - 48s 907ms/step - loss: 1.5036 - accuracy: 0.4091 - val_loss: 1.3621 - val_accuracy: 0.4951\n",
      "Epoch 10/35\n",
      "53/53 [==============================] - 40s 758ms/step - loss: 1.4917 - accuracy: 0.4234 - val_loss: 1.3558 - val_accuracy: 0.5160\n",
      "Epoch 11/35\n",
      "53/53 [==============================] - 41s 766ms/step - loss: 1.4674 - accuracy: 0.4333 - val_loss: 1.3763 - val_accuracy: 0.5007\n",
      "Epoch 12/35\n",
      "53/53 [==============================] - 40s 758ms/step - loss: 1.4515 - accuracy: 0.4487 - val_loss: 1.3914 - val_accuracy: 0.4917\n",
      "Epoch 13/35\n",
      "53/53 [==============================] - 41s 776ms/step - loss: 1.4370 - accuracy: 0.4373 - val_loss: 1.4174 - val_accuracy: 0.4521\n",
      "Epoch 14/35\n",
      "53/53 [==============================] - 41s 764ms/step - loss: 1.4464 - accuracy: 0.4523 - val_loss: 1.3521 - val_accuracy: 0.4993\n",
      "Epoch 15/35\n",
      "53/53 [==============================] - 43s 800ms/step - loss: 1.4118 - accuracy: 0.4720 - val_loss: 1.2927 - val_accuracy: 0.5299\n",
      "Epoch 16/35\n",
      "53/53 [==============================] - 40s 756ms/step - loss: 1.4239 - accuracy: 0.4628 - val_loss: 1.2857 - val_accuracy: 0.5312\n",
      "Epoch 17/35\n",
      "53/53 [==============================] - 40s 757ms/step - loss: 1.4012 - accuracy: 0.4760 - val_loss: 1.3202 - val_accuracy: 0.5007\n",
      "Epoch 18/35\n",
      "53/53 [==============================] - 41s 761ms/step - loss: 1.3718 - accuracy: 0.4698 - val_loss: 1.3044 - val_accuracy: 0.5326\n",
      "Epoch 19/35\n",
      "53/53 [==============================] - 40s 759ms/step - loss: 1.3450 - accuracy: 0.4959 - val_loss: 1.2969 - val_accuracy: 0.5299\n",
      "Epoch 20/35\n",
      "53/53 [==============================] - 40s 757ms/step - loss: 1.3857 - accuracy: 0.4682 - val_loss: 1.2624 - val_accuracy: 0.5375\n",
      "Epoch 21/35\n",
      "53/53 [==============================] - 41s 766ms/step - loss: 1.3569 - accuracy: 0.4867 - val_loss: 1.2398 - val_accuracy: 0.5500\n",
      "Epoch 22/35\n",
      "53/53 [==============================] - 40s 760ms/step - loss: 1.3101 - accuracy: 0.5062 - val_loss: 1.2219 - val_accuracy: 0.5521\n",
      "Epoch 23/35\n",
      "53/53 [==============================] - 40s 757ms/step - loss: 1.3568 - accuracy: 0.4943 - val_loss: 1.2582 - val_accuracy: 0.5306\n",
      "Epoch 24/35\n",
      "53/53 [==============================] - 41s 768ms/step - loss: 1.3260 - accuracy: 0.4975 - val_loss: 1.2455 - val_accuracy: 0.5319\n",
      "Epoch 25/35\n",
      "53/53 [==============================] - 40s 761ms/step - loss: 1.2841 - accuracy: 0.5336 - val_loss: 1.3222 - val_accuracy: 0.5069\n",
      "Epoch 26/35\n",
      "53/53 [==============================] - 41s 764ms/step - loss: 1.2892 - accuracy: 0.5135 - val_loss: 1.4903 - val_accuracy: 0.4326\n",
      "Epoch 27/35\n",
      "53/53 [==============================] - 41s 767ms/step - loss: 1.2814 - accuracy: 0.5133 - val_loss: 1.2188 - val_accuracy: 0.5528\n",
      "Epoch 28/35\n",
      "53/53 [==============================] - 41s 764ms/step - loss: 1.2813 - accuracy: 0.5213 - val_loss: 1.2576 - val_accuracy: 0.5208\n",
      "Epoch 29/35\n",
      "53/53 [==============================] - 41s 764ms/step - loss: 1.2724 - accuracy: 0.5238 - val_loss: 1.3076 - val_accuracy: 0.5236\n",
      "Epoch 30/35\n",
      "53/53 [==============================] - 42s 784ms/step - loss: 1.2281 - accuracy: 0.5509 - val_loss: 1.2093 - val_accuracy: 0.5583\n",
      "Epoch 31/35\n",
      "53/53 [==============================] - 39s 737ms/step - loss: 1.2380 - accuracy: 0.5311 - val_loss: 1.1568 - val_accuracy: 0.5875\n",
      "Epoch 32/35\n",
      "53/53 [==============================] - 39s 739ms/step - loss: 1.2421 - accuracy: 0.5254 - val_loss: 1.2485 - val_accuracy: 0.5292\n",
      "Epoch 33/35\n",
      "53/53 [==============================] - 39s 737ms/step - loss: 1.1901 - accuracy: 0.5423 - val_loss: 1.1774 - val_accuracy: 0.5681\n",
      "Epoch 34/35\n",
      "53/53 [==============================] - 39s 735ms/step - loss: 1.2133 - accuracy: 0.5535 - val_loss: 1.1856 - val_accuracy: 0.5618\n",
      "Epoch 35/35\n",
      "53/53 [==============================] - 39s 734ms/step - loss: 1.2272 - accuracy: 0.5427 - val_loss: 1.2094 - val_accuracy: 0.5479\n"
     ]
    }
   ],
   "source": [
    "# Define model\n",
    "model1 = model_with_dropout()\n",
    "# Fit model\n",
    "history = model1.fit_generator(training_set, \n",
    "                              steps_per_epoch=len(training_set),\n",
    "                              validation_data=test_set, \n",
    "                              validation_steps=len(test_set), \n",
    "                              epochs= epochs)"
   ]
  },
  {
   "cell_type": "code",
   "execution_count": 54,
   "metadata": {},
   "outputs": [
    {
     "name": "stdout",
     "output_type": "stream",
     "text": [
      "Accuracy: 54.7917\n"
     ]
    }
   ],
   "source": [
    "# Evaluate model\n",
    "_, acc = model1.evaluate_generator(test_set, steps=len(test_set), verbose=0)\n",
    "print(\"Accuracy: %.4f\" % (acc * 100.0))"
   ]
  },
  {
   "cell_type": "code",
   "execution_count": 55,
   "metadata": {
    "scrolled": true
   },
   "outputs": [
    {
     "data": {
      "image/png": "[encoded data removed]",
      "text/plain": [
       "<Figure size 720x360 with 2 Axes>"
      ]
     },
     "metadata": {
      "needs_background": "light"
     },
     "output_type": "display_data"
    }
   ],
   "source": [
    "# Build graphs\n",
    "summarize_diagnostics(history)"
   ]
  },
  {
   "cell_type": "code",
   "execution_count": 56,
   "metadata": {},
   "outputs": [
    {
     "name": "stdout",
     "output_type": "stream",
     "text": [
      "Confusion Matrix\n",
      "[[164   5   9   1  16  45]\n",
      " [  4  94  50   0  14  78]\n",
      " [  9   9 143   1   5  73]\n",
      " [ 22   2  34  69  43  70]\n",
      " [ 50   5  10   4 128  43]\n",
      " [ 13   4  22   0  10 191]]\n",
      "Classification Report\n",
      "              precision    recall  f1-score   support\n",
      "\n",
      "     Matisse       0.63      0.68      0.65       240\n",
      "       Monet       0.79      0.39      0.52       240\n",
      "     Pissaro       0.53      0.60      0.56       240\n",
      "      Renoir       0.92      0.29      0.44       240\n",
      "     Sargent       0.59      0.53      0.56       240\n",
      "     VanGogh       0.38      0.80      0.52       240\n",
      "\n",
      "    accuracy                           0.55      1440\n",
      "   macro avg       0.64      0.55      0.54      1440\n",
      "weighted avg       0.64      0.55      0.54      1440\n",
      "\n"
     ]
    }
   ],
   "source": [
    "class_report(test_set, model1)"
   ]
  },
  {
   "cell_type": "code",
   "execution_count": null,
   "metadata": {},
   "outputs": [],
   "source": [
    "# Let's check how modek learns after 50 epochs"
   ]
  },
  {
   "cell_type": "code",
   "execution_count": null,
   "metadata": {},
   "outputs": [
    {
     "name": "stdout",
     "output_type": "stream",
     "text": [
      "Epoch 1/50\n",
      "36/53 [===================>..........] - ETA: 13s - loss: 1.8587 - accuracy: 0.2119"
     ]
    }
   ],
   "source": [
    "# Create data generators \n",
    "# Train generator with data augmentation\n",
    "train_datagen = ImageDataGenerator(rescale=1. / 255,\n",
    "                                   rotation_range=20,\n",
    "                                   width_shift_range=0.2,\n",
    "                                   height_shift_range=0.2,\n",
    "                                   shear_range=0.2,\n",
    "                                   zoom_range=0.2,\n",
    "                                   horizontal_flip=True,\n",
    "                                   fill_mode='nearest')\n",
    "\n",
    "test_datagen = ImageDataGenerator(rescale=1. / 255)\n",
    "# Define model\n",
    "model50 = model_with_dropout()\n",
    "# Fit model\n",
    "history = model50.fit_generator(training_set, \n",
    "                              steps_per_epoch=len(training_set),\n",
    "                              validation_data=test_set, \n",
    "                              validation_steps=len(test_set), \n",
    "                              epochs= 50)"
   ]
  },
  {
   "cell_type": "code",
   "execution_count": null,
   "metadata": {},
   "outputs": [],
   "source": []
  },
  {
   "cell_type": "code",
   "execution_count": null,
   "metadata": {},
   "outputs": [],
   "source": []
  },
  {
   "cell_type": "code",
   "execution_count": null,
   "metadata": {},
   "outputs": [],
   "source": []
  },
  {
   "cell_type": "code",
   "execution_count": null,
   "metadata": {},
   "outputs": [],
   "source": []
  },
  {
   "cell_type": "code",
   "execution_count": null,
   "metadata": {},
   "outputs": [],
   "source": []
  },
  {
   "cell_type": "code",
   "execution_count": null,
   "metadata": {},
   "outputs": [],
   "source": [
    "# model = Sequential()\n",
    "# model.add(Conv2D(32, (5, 5), input_shape=(img_rows, img_cols, 3), padding='valid'))\n",
    "# model.add(Activation('relu'))\n",
    "# model.add(MaxPooling2D(pool_size=(2, 2)))\n",
    "\n",
    "# model.add(Conv2D(32, (5, 5), padding='valid'))\n",
    "# model.add(Activation('relu'))\n",
    "# model.add(MaxPooling2D(pool_size=(2, 2)))\n",
    "\n",
    "# model.add(Conv2D(64, (5, 5), padding='valid'))\n",
    "# model.add(Activation('relu'))\n",
    "# model.add(MaxPooling2D(pool_size=(2, 2)))\n",
    "\n",
    "# model.add(Flatten())\n",
    "# model.add(Dense(64))\n",
    "# model.add(Activation('relu'))\n",
    "# model.add(Dropout(0.5))\n",
    "# model.add(Dense(11))\n",
    "# model.add(Activation('softmax'))\n",
    "\n",
    "# model.compile(loss='categorical_crossentropy',\n",
    "#               optimizer='rmsprop',\n",
    "#               metrics=['accuracy'])\n",
    "\n",
    "# #Train\n",
    "# model.fit(training_set,\n",
    "#                     steps_per_epoch=num_of_train_samples // batch_size,\n",
    "#                     epochs=epochs,\n",
    "#                     validation_data=test_set,\n",
    "#                     validation_steps=num_of_test_samples // batch_size)"
   ]
  },
  {
   "cell_type": "code",
   "execution_count": null,
   "metadata": {},
   "outputs": [],
   "source": []
  }
 ],
 "metadata": {
  "kernelspec": {
   "display_name": "Python 3",
   "language": "python",
   "name": "python3"
  },
  "language_info": {
   "codemirror_mode": {
    "name": "ipython",
    "version": 3
   },
   "file_extension": ".py",
   "mimetype": "text/x-python",
   "name": "python",
   "nbconvert_exporter": "python",
   "pygments_lexer": "ipython3",
   "version": "3.8.5"
  }
 },
 "nbformat": 4,
 "nbformat_minor": 5
}
