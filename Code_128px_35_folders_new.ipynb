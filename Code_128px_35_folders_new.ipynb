{
 "cells": [
  {
   "cell_type": "code",
   "execution_count": 50,
   "metadata": {},
   "outputs": [],
   "source": [
    "# Importing the Keras libraries and packages\n",
    "from matplotlib import pyplot\n",
    "from keras.models import Sequential\n",
    "from keras.layers import Conv2D\n",
    "from keras.layers import MaxPooling2D\n",
    "from keras.layers import Flatten\n",
    "from keras.layers import Dense\n",
    "from keras.layers.core import Dense, Dropout, Activation, Flatten\n",
    "\n",
    "from keras.callbacks import EarlyStopping\n",
    "from keras.callbacks import ModelCheckpoint\n",
    "import warnings\n",
    "warnings.filterwarnings(\"ignore\")\n",
    "import numpy as np\n",
    "import tensorflow\n",
    "from sklearn.metrics import classification_report, confusion_matrix\n",
    "from keras.optimizers import SGD\n",
    "from keras.preprocessing.image import ImageDataGenerator\n",
    "from numpy.random import seed\n",
    "import os\n",
    "import random\n",
    "from keras.optimizers import Adam"
   ]
  },
  {
   "cell_type": "code",
   "execution_count": 2,
   "metadata": {},
   "outputs": [],
   "source": [
    "# seed = 2\n",
    "# def reset_random_seeds():\n",
    "#     os.environ['PYTHONHASHSEED'] = str(seed)\n",
    "#     tensorflow.random.set_seed(seed)\n",
    "#     np.random.seed(seed)\n",
    "#     random.seed(seed)"
   ]
  },
  {
   "cell_type": "code",
   "execution_count": 7,
   "metadata": {},
   "outputs": [],
   "source": [
    "# Part 1 - Develop a Baseline CNN Model\n",
    "\n",
    "# A baseline model will show us a minimal model performance \n",
    "# to which other models will be compared\n",
    "\n",
    "\n",
    "img_rows = 128\n",
    "img_cols = 128\n",
    "epochs = 35\n",
    "batch_size = 64\n",
    "num_of_train_samples = 3360\n",
    "num_of_test_samples = 1440"
   ]
  },
  {
   "cell_type": "code",
   "execution_count": 10,
   "metadata": {},
   "outputs": [],
   "source": [
    "# plot diagnostic learning curves\n",
    "def summarize_diagnostics(history):\n",
    "    pyplot.figure(figsize=(10,5))\n",
    "    # plot loss\n",
    "    pyplot.subplot(121)\n",
    "    pyplot.title('Entropy Loss')\n",
    "    pyplot.plot(history.history['loss'], color='green', label='train')\n",
    "    pyplot.plot(history.history['val_loss'], color='blue', label='test')\n",
    "    pyplot.legend()\n",
    "    # plot accuracy\n",
    "    pyplot.subplot(122)\n",
    "    pyplot.title('\\nClassification Accuracy')\n",
    "    pyplot.plot(history.history['accuracy'], color='green', label='train')\n",
    "    pyplot.plot(history.history['val_accuracy'], color='blue', label='test')\n",
    "    pyplot.legend()\n",
    "    # save plot to file\n",
    "#     filename = sys.argv[0].split('/')[-1]\n",
    "#     pyplot.savefig(filename + '_plot.png')\n",
    "#     pyplot.close()\n",
    "    pyplot.show()"
   ]
  },
  {
   "cell_type": "code",
   "execution_count": 11,
   "metadata": {},
   "outputs": [],
   "source": [
    "# Function that calculates Confusion Matrix and shows Classification Report\n",
    "def class_report(test_set, model):\n",
    "    Y_pred = model.predict(test_set, num_of_test_samples // batch_size + 1)\n",
    "    y_pred = np.argmax(Y_pred, axis=1)\n",
    "    print('Confusion Matrix')\n",
    "    print(confusion_matrix(test_set.classes, y_pred))\n",
    "    print('Classification Report')\n",
    "    target_names = list(training_set.class_indices.keys())\n",
    "    print(classification_report(test_set.classes, y_pred, target_names=target_names))"
   ]
  },
  {
   "cell_type": "code",
   "execution_count": 13,
   "metadata": {},
   "outputs": [
    {
     "name": "stderr",
     "output_type": "stream",
     "text": [
      "Copying files: 4800 files [00:04, 1141.62 files/s]\n"
     ]
    }
   ],
   "source": [
    "import splitfolders #link - https://pypi.org/project/split-folders/\n",
    "\n",
    "# Divide all artists folders to train and val folders\n",
    "splitfolders.ratio(\"./artists\", output=\"./\", seed=42 , ratio=(.7, .3))"
   ]
  },
  {
   "cell_type": "code",
   "execution_count": 14,
   "metadata": {},
   "outputs": [
    {
     "name": "stdout",
     "output_type": "stream",
     "text": [
      "Found 3360 images belonging to 6 classes.\n",
      "Found 1440 images belonging to 6 classes.\n"
     ]
    }
   ],
   "source": [
    "# Prepare the data. Instanciate ImageDataGenerator that scalse the pixel values to the range of 0-1\n",
    "# We don't use data augmentation, dropout etc for the Baseline models to check a minimal model performance \n",
    "datagen = ImageDataGenerator(rescale=1. / 255)\n",
    "\n",
    "training_set = datagen.flow_from_directory('train', \n",
    "                                                 target_size=(img_rows, img_cols),\n",
    "                                                 batch_size=batch_size,\n",
    "                                                 class_mode='categorical')\n",
    "\n",
    "test_set = datagen.flow_from_directory('val',\n",
    "                                            target_size=(img_rows, img_cols),\n",
    "                                            batch_size=batch_size, shuffle = False,\n",
    "                                            class_mode='categorical')"
   ]
  },
  {
   "cell_type": "code",
   "execution_count": 15,
   "metadata": {},
   "outputs": [
    {
     "name": "stdout",
     "output_type": "stream",
     "text": [
      "{'Matisse': 0, 'Monet': 1, 'Pissaro': 2, 'Renoir': 3, 'Sargent': 4, 'VanGogh': 5}\n"
     ]
    }
   ],
   "source": [
    "print(test_set.class_indices)"
   ]
  },
  {
   "cell_type": "code",
   "execution_count": 16,
   "metadata": {},
   "outputs": [],
   "source": [
    "# VGG Blocks\n",
    "# The basic building block of classic CNNs is a sequence of the following: \n",
    "#     (i) a convolutional layer with padding to maintain the resolution, \n",
    "#     (ii) a nonlinearity such as a ReLU, \n",
    "#     (iii) a pooling layer such as a max pooling layer. \n",
    "# One VGG block consists of a sequence of convolutional layers, \n",
    "# followed by a max pooling layer for spatial downsampling. \n",
    "# In the original VGG paper [Simonyan & Zisserman, 2014], the authors employed convolutions with  3×3  kernels \n",
    "# with padding of 1 (keeping height and width) \n",
    "# and  2×2  max pooling with stride of 2 (halving the resolution after each block). "
   ]
  },
  {
   "cell_type": "code",
   "execution_count": 18,
   "metadata": {},
   "outputs": [],
   "source": [
    "# Define CNN model with one VGG-style block\n",
    "# The 1-block VGG model has a single convolutional layer with 32 filters \n",
    "# followed by a max pooling layer\n",
    "def baseline_model_1():\n",
    "    #reset_random_seeds()\n",
    "    model = Sequential()\n",
    "    \n",
    "    model.add(Conv2D(32, (3, 3), activation='relu', kernel_initializer='he_uniform', padding='same', \n",
    "                     input_shape=(img_rows, img_cols, 3)))\n",
    "    model.add(MaxPooling2D((2, 2)))\n",
    "    \n",
    "    model.add(Flatten())\n",
    "    model.add(Dense(128, activation='relu', \n",
    "                    kernel_initializer='he_uniform'))\n",
    "    model.add(Dense(6, activation='softmax'))\n",
    "    # Compilation of a model\n",
    "    opt = SGD(lr=0.001, momentum=0.9) # Gradient descent (with momentum) optimizer.\n",
    "    model.compile(optimizer=opt, loss='categorical_crossentropy', metrics=['accuracy'])\n",
    "    return model"
   ]
  },
  {
   "cell_type": "markdown",
   "metadata": {},
   "source": [
    "<h3>Baseline model with 1 VGG block without dropout</h3>\n"
   ]
  },
  {
   "cell_type": "code",
   "execution_count": 29,
   "metadata": {},
   "outputs": [
    {
     "name": "stdout",
     "output_type": "stream",
     "text": [
      "Epoch 1/35\n",
      "53/53 [==============================] - 19s 345ms/step - loss: 2.1140 - accuracy: 0.1857 - val_loss: 1.7105 - val_accuracy: 0.2715\n",
      "Epoch 2/35\n",
      "53/53 [==============================] - 18s 341ms/step - loss: 1.6784 - accuracy: 0.2689 - val_loss: 1.6346 - val_accuracy: 0.3049\n",
      "Epoch 3/35\n",
      "53/53 [==============================] - 18s 339ms/step - loss: 1.5612 - accuracy: 0.3433 - val_loss: 1.5695 - val_accuracy: 0.3653\n",
      "Epoch 4/35\n",
      "53/53 [==============================] - 18s 338ms/step - loss: 1.5107 - accuracy: 0.4050 - val_loss: 1.5351 - val_accuracy: 0.3736\n",
      "Epoch 5/35\n",
      "53/53 [==============================] - 19s 367ms/step - loss: 1.4499 - accuracy: 0.4192 - val_loss: 1.5140 - val_accuracy: 0.3903\n",
      "Epoch 6/35\n",
      "53/53 [==============================] - 18s 334ms/step - loss: 1.4196 - accuracy: 0.4304 - val_loss: 1.6536 - val_accuracy: 0.3313\n",
      "Epoch 7/35\n",
      "53/53 [==============================] - 18s 336ms/step - loss: 1.4441 - accuracy: 0.4257 - val_loss: 1.4878 - val_accuracy: 0.4028\n",
      "Epoch 8/35\n",
      "53/53 [==============================] - 18s 335ms/step - loss: 1.3784 - accuracy: 0.4591 - val_loss: 1.4253 - val_accuracy: 0.4493\n",
      "Epoch 9/35\n",
      "53/53 [==============================] - 18s 335ms/step - loss: 1.3371 - accuracy: 0.4794 - val_loss: 1.4236 - val_accuracy: 0.4479\n",
      "Epoch 10/35\n",
      "53/53 [==============================] - 18s 336ms/step - loss: 1.3338 - accuracy: 0.4785 - val_loss: 1.3906 - val_accuracy: 0.4611\n",
      "Epoch 11/35\n",
      "53/53 [==============================] - 18s 337ms/step - loss: 1.2842 - accuracy: 0.5113 - val_loss: 1.4056 - val_accuracy: 0.4410\n",
      "Epoch 12/35\n",
      "53/53 [==============================] - 18s 335ms/step - loss: 1.2316 - accuracy: 0.5287 - val_loss: 1.3769 - val_accuracy: 0.4771\n",
      "Epoch 13/35\n",
      "53/53 [==============================] - 18s 336ms/step - loss: 1.1866 - accuracy: 0.5489 - val_loss: 1.3377 - val_accuracy: 0.4986\n",
      "Epoch 14/35\n",
      "53/53 [==============================] - 18s 337ms/step - loss: 1.1464 - accuracy: 0.5788 - val_loss: 1.4537 - val_accuracy: 0.4549\n",
      "Epoch 15/35\n",
      "53/53 [==============================] - 18s 338ms/step - loss: 1.2505 - accuracy: 0.5189 - val_loss: 1.4079 - val_accuracy: 0.4903\n",
      "Epoch 16/35\n",
      "53/53 [==============================] - 18s 337ms/step - loss: 1.1199 - accuracy: 0.5792 - val_loss: 1.3416 - val_accuracy: 0.5063\n",
      "Epoch 17/35\n",
      "53/53 [==============================] - 18s 340ms/step - loss: 1.0946 - accuracy: 0.5880 - val_loss: 1.3452 - val_accuracy: 0.4972\n",
      "Epoch 18/35\n",
      "53/53 [==============================] - 18s 337ms/step - loss: 1.0578 - accuracy: 0.6067 - val_loss: 1.2990 - val_accuracy: 0.5153\n",
      "Epoch 19/35\n",
      "53/53 [==============================] - 19s 353ms/step - loss: 1.0115 - accuracy: 0.6273 - val_loss: 1.3206 - val_accuracy: 0.5188\n",
      "Epoch 20/35\n",
      "53/53 [==============================] - 19s 351ms/step - loss: 0.9874 - accuracy: 0.6376 - val_loss: 1.3684 - val_accuracy: 0.5028\n",
      "Epoch 21/35\n",
      "53/53 [==============================] - 19s 358ms/step - loss: 0.9804 - accuracy: 0.6387 - val_loss: 1.3205 - val_accuracy: 0.5264\n",
      "Epoch 22/35\n",
      "53/53 [==============================] - 20s 369ms/step - loss: 0.9438 - accuracy: 0.6642 - val_loss: 1.3879 - val_accuracy: 0.5021\n",
      "Epoch 23/35\n",
      "53/53 [==============================] - 19s 356ms/step - loss: 0.8992 - accuracy: 0.6674 - val_loss: 1.3082 - val_accuracy: 0.5292\n",
      "Epoch 24/35\n",
      "53/53 [==============================] - 19s 355ms/step - loss: 0.8543 - accuracy: 0.6903 - val_loss: 1.2678 - val_accuracy: 0.5444\n",
      "Epoch 25/35\n",
      "53/53 [==============================] - 19s 358ms/step - loss: 0.7952 - accuracy: 0.7333 - val_loss: 1.2884 - val_accuracy: 0.5354\n",
      "Epoch 26/35\n",
      "53/53 [==============================] - 19s 358ms/step - loss: 0.7662 - accuracy: 0.7448 - val_loss: 1.3229 - val_accuracy: 0.5299\n",
      "Epoch 27/35\n",
      "53/53 [==============================] - 19s 358ms/step - loss: 0.8176 - accuracy: 0.7026 - val_loss: 1.3013 - val_accuracy: 0.5250\n",
      "Epoch 28/35\n",
      "53/53 [==============================] - 19s 359ms/step - loss: 0.7094 - accuracy: 0.7617 - val_loss: 1.2841 - val_accuracy: 0.5486\n",
      "Epoch 29/35\n",
      "53/53 [==============================] - 19s 355ms/step - loss: 0.6311 - accuracy: 0.8067 - val_loss: 1.3497 - val_accuracy: 0.5292\n",
      "Epoch 30/35\n",
      "53/53 [==============================] - 19s 356ms/step - loss: 0.5879 - accuracy: 0.8125 - val_loss: 1.3266 - val_accuracy: 0.5347\n",
      "Epoch 31/35\n",
      "53/53 [==============================] - 19s 356ms/step - loss: 0.5521 - accuracy: 0.8326 - val_loss: 1.3149 - val_accuracy: 0.5514\n",
      "Epoch 32/35\n",
      "53/53 [==============================] - 19s 358ms/step - loss: 0.5046 - accuracy: 0.8470 - val_loss: 1.3844 - val_accuracy: 0.5326\n",
      "Epoch 33/35\n",
      "53/53 [==============================] - 20s 372ms/step - loss: 0.4918 - accuracy: 0.8524 - val_loss: 1.3224 - val_accuracy: 0.5479\n",
      "Epoch 34/35\n",
      "53/53 [==============================] - 20s 368ms/step - loss: 0.4810 - accuracy: 0.8609 - val_loss: 1.3437 - val_accuracy: 0.5417\n",
      "Epoch 35/35\n",
      "53/53 [==============================] - 19s 357ms/step - loss: 0.4082 - accuracy: 0.8990 - val_loss: 1.3617 - val_accuracy: 0.5437\n"
     ]
    }
   ],
   "source": [
    "# The model will be fit for 35 epochs - to check if the model can learn the problem.\n",
    "# Define model\n",
    "model = baseline_model_1()\n",
    "# Fit model\n",
    "history = model.fit_generator(training_set, \n",
    "                              steps_per_epoch=len(training_set), # = num_of_train_samples // batch_size +1\n",
    "                              validation_data=test_set, \n",
    "                              validation_steps=len(test_set), # = num_of_test_samples // batch_size +1\n",
    "                              epochs= epochs)"
   ]
  },
  {
   "cell_type": "code",
   "execution_count": 30,
   "metadata": {},
   "outputs": [
    {
     "name": "stdout",
     "output_type": "stream",
     "text": [
      "Accuracy: 54.3750\n"
     ]
    }
   ],
   "source": [
    "# Evaluate model\n",
    "_, acc = model.evaluate_generator(test_set, steps=len(test_set), verbose=0)\n",
    "print(\"Accuracy: %.4f\" % (acc * 100.0))"
   ]
  },
  {
   "cell_type": "code",
   "execution_count": 31,
   "metadata": {},
   "outputs": [
    {
     "data": {
      "image/png": "[encoded data removed]",
      "text/plain": [
       "<Figure size 720x360 with 2 Axes>"
      ]
     },
     "metadata": {
      "needs_background": "light"
     },
     "output_type": "display_data"
    }
   ],
   "source": [
    "# Build graphs\n",
    "summarize_diagnostics(history)"
   ]
  },
  {
   "cell_type": "code",
   "execution_count": 32,
   "metadata": {},
   "outputs": [
    {
     "name": "stdout",
     "output_type": "stream",
     "text": [
      "Confusion Matrix\n",
      "[[130  51  10  15  22  12]\n",
      " [  8 160  26   9  11  26]\n",
      " [  7  60 136  15   5  17]\n",
      " [ 16  22  21 123  35  23]\n",
      " [ 23  47  11  20 125  14]\n",
      " [ 12  46  26  21  26 109]]\n",
      "Classification Report\n",
      "              precision    recall  f1-score   support\n",
      "\n",
      "     Matisse       0.66      0.54      0.60       240\n",
      "       Monet       0.41      0.67      0.51       240\n",
      "     Pissaro       0.59      0.57      0.58       240\n",
      "      Renoir       0.61      0.51      0.56       240\n",
      "     Sargent       0.56      0.52      0.54       240\n",
      "     VanGogh       0.54      0.45      0.49       240\n",
      "\n",
      "    accuracy                           0.54      1440\n",
      "   macro avg       0.56      0.54      0.55      1440\n",
      "weighted avg       0.56      0.54      0.55      1440\n",
      "\n"
     ]
    }
   ],
   "source": [
    "class_report(test_set, model)"
   ]
  },
  {
   "cell_type": "markdown",
   "metadata": {},
   "source": [
    "<h3>Baseline model with 2 VGG blocks without dropout</h3>\n"
   ]
  },
  {
   "cell_type": "code",
   "execution_count": 19,
   "metadata": {},
   "outputs": [],
   "source": [
    "# Define CNN model with two VGG-style blocks\n",
    "def baseline_model_2():\n",
    "   # reset_random_seeds()\n",
    "    model = Sequential()\n",
    "# 1st block    \n",
    "    model.add(Conv2D(32, (3, 3), activation='relu', kernel_initializer='he_uniform', padding='same', \n",
    "                     input_shape=(img_rows, img_cols, 3)))\n",
    "    model.add(MaxPooling2D((2, 2)))\n",
    "# 2d block    \n",
    "    model.add(Conv2D(64, (3, 3), activation='relu', kernel_initializer='he_uniform', padding='same'))\n",
    "    model.add(MaxPooling2D((2, 2)))\n",
    "   \n",
    "    model.add(Flatten())\n",
    "    model.add(Dense(128, activation='relu', kernel_initializer='he_uniform'))\n",
    "    model.add(Dense(6, activation='softmax'))\n",
    "    # Compilation of a model\n",
    "    opt = SGD(lr=0.001, momentum=0.9) # Gradient descent (with momentum) optimizer.\n",
    "    model.compile(optimizer=opt, loss='categorical_crossentropy', metrics=['accuracy'])\n",
    "    return model"
   ]
  },
  {
   "cell_type": "code",
   "execution_count": 20,
   "metadata": {},
   "outputs": [],
   "source": [
    "# The model will be fit for 20 epochs - to check if the model can learn the problem.\n",
    "# define model\n",
    "model = baseline_model_2()\n",
    "# fit model\n",
    "history = model.fit_generator(training_set, steps_per_epoch=len(training_set),\n",
    "                              validation_data=test_set, \n",
    "                              validation_steps=len(test_set), \n",
    "                              epochs= 30, \n",
    "                              verbose = 0)"
   ]
  },
  {
   "cell_type": "code",
   "execution_count": 21,
   "metadata": {},
   "outputs": [
    {
     "name": "stdout",
     "output_type": "stream",
     "text": [
      "Accuracy: 56.7361\n"
     ]
    }
   ],
   "source": [
    "# evaluate model\n",
    "_, acc = model.evaluate_generator(test_set, steps=len(test_set), verbose=0)\n",
    "print(\"Accuracy: %.4f\" % (acc * 100.0))"
   ]
  },
  {
   "cell_type": "code",
   "execution_count": 22,
   "metadata": {},
   "outputs": [
    {
     "name": "stdout",
     "output_type": "stream",
     "text": [
      "Confusion Matrix\n",
      "[[137  22  10  35  14  22]\n",
      " [  8 152  31   9   8  32]\n",
      " [ 13  38 123  26   6  34]\n",
      " [ 23  12  15 158  15  17]\n",
      " [ 39  19  17  39 110  16]\n",
      " [ 14  17  34  24  14 137]]\n",
      "Classification Report\n",
      "              precision    recall  f1-score   support\n",
      "\n",
      "     Matisse       0.59      0.57      0.58       240\n",
      "       Monet       0.58      0.63      0.61       240\n",
      "     Pissaro       0.53      0.51      0.52       240\n",
      "      Renoir       0.54      0.66      0.60       240\n",
      "     Sargent       0.66      0.46      0.54       240\n",
      "     VanGogh       0.53      0.57      0.55       240\n",
      "\n",
      "    accuracy                           0.57      1440\n",
      "   macro avg       0.57      0.57      0.57      1440\n",
      "weighted avg       0.57      0.57      0.57      1440\n",
      "\n"
     ]
    }
   ],
   "source": [
    "class_report(test_set, model)"
   ]
  },
  {
   "cell_type": "code",
   "execution_count": null,
   "metadata": {},
   "outputs": [],
   "source": [
    "# Build graphs\n",
    "summarize_diagnostics(history)"
   ]
  },
  {
   "cell_type": "markdown",
   "metadata": {},
   "source": [
    "<h3>Baseline model with 3 VGG blocks without dropout</h3>\n"
   ]
  },
  {
   "cell_type": "code",
   "execution_count": 38,
   "metadata": {},
   "outputs": [],
   "source": [
    "# Define CNN model with three VGG-style blocks\n",
    "def baseline_model_3():\n",
    "    #reset_random_seeds()\n",
    "    model = Sequential()\n",
    "# 1st block    \n",
    "    model.add(Conv2D(32, (3, 3), activation='relu', \n",
    "                     kernel_initializer='he_uniform', \n",
    "                     padding='same', input_shape=(img_rows, img_cols, 3)))\n",
    "    model.add(MaxPooling2D((2, 2)))\n",
    "# 2d block    \n",
    "    model.add(Conv2D(64, (3, 3), activation='relu', kernel_initializer='he_uniform', padding='same'))\n",
    "    model.add(MaxPooling2D((2, 2)))\n",
    "# 3d block\n",
    "    model.add(Conv2D(128, (3, 3), activation='relu', kernel_initializer='he_uniform', padding='same'))\n",
    "    model.add(MaxPooling2D((2, 2)))\n",
    "   \n",
    "    model.add(Flatten())\n",
    "    model.add(Dense(128, activation='relu', \n",
    "                    kernel_initializer='he_uniform'))\n",
    "    model.add(Dense(6, activation='softmax'))\n",
    "    # Compilation of a model\n",
    "    opt = SGD(lr=0.001, momentum=0.9) # Gradient descent (with momentum) optimizer.\n",
    "    model.compile(optimizer=opt, loss='categorical_crossentropy', metrics=['accuracy'])\n",
    "    return model"
   ]
  },
  {
   "cell_type": "code",
   "execution_count": 39,
   "metadata": {},
   "outputs": [
    {
     "name": "stdout",
     "output_type": "stream",
     "text": [
      "Epoch 1/30\n",
      "53/53 [==============================] - 39s 729ms/step - loss: 1.9867 - accuracy: 0.2299 - val_loss: 1.5857 - val_accuracy: 0.3417\n",
      "Epoch 2/30\n",
      "53/53 [==============================] - 38s 721ms/step - loss: 1.5481 - accuracy: 0.4025 - val_loss: 1.5672 - val_accuracy: 0.3611\n",
      "Epoch 3/30\n",
      "53/53 [==============================] - 40s 748ms/step - loss: 1.4497 - accuracy: 0.4265 - val_loss: 1.3631 - val_accuracy: 0.5007\n",
      "Epoch 4/30\n",
      "53/53 [==============================] - 41s 765ms/step - loss: 1.3197 - accuracy: 0.5067 - val_loss: 1.3331 - val_accuracy: 0.5014\n",
      "Epoch 5/30\n",
      "53/53 [==============================] - 41s 766ms/step - loss: 1.2888 - accuracy: 0.5229 - val_loss: 1.3639 - val_accuracy: 0.4743\n",
      "Epoch 6/30\n",
      "53/53 [==============================] - 42s 795ms/step - loss: 1.2608 - accuracy: 0.5329 - val_loss: 1.2899 - val_accuracy: 0.5215\n",
      "Epoch 7/30\n",
      "53/53 [==============================] - 41s 765ms/step - loss: 1.1867 - accuracy: 0.5587 - val_loss: 1.2574 - val_accuracy: 0.5201\n",
      "Epoch 8/30\n",
      "53/53 [==============================] - 40s 764ms/step - loss: 1.1334 - accuracy: 0.5801 - val_loss: 1.2322 - val_accuracy: 0.5382\n",
      "Epoch 9/30\n",
      "53/53 [==============================] - 41s 774ms/step - loss: 1.0864 - accuracy: 0.5945 - val_loss: 1.2559 - val_accuracy: 0.5208\n",
      "Epoch 10/30\n",
      "53/53 [==============================] - 41s 769ms/step - loss: 1.0988 - accuracy: 0.5969 - val_loss: 1.2273 - val_accuracy: 0.5486\n",
      "Epoch 11/30\n",
      "53/53 [==============================] - 41s 767ms/step - loss: 0.9875 - accuracy: 0.6458 - val_loss: 1.2333 - val_accuracy: 0.5410\n",
      "Epoch 12/30\n",
      "53/53 [==============================] - 41s 769ms/step - loss: 0.9438 - accuracy: 0.6560 - val_loss: 1.1673 - val_accuracy: 0.5771\n",
      "Epoch 13/30\n",
      "53/53 [==============================] - 40s 763ms/step - loss: 0.9012 - accuracy: 0.6874 - val_loss: 1.2288 - val_accuracy: 0.5493\n",
      "Epoch 14/30\n",
      "53/53 [==============================] - 40s 756ms/step - loss: 0.8939 - accuracy: 0.6947 - val_loss: 1.2059 - val_accuracy: 0.5514\n",
      "Epoch 15/30\n",
      "53/53 [==============================] - 39s 744ms/step - loss: 0.8544 - accuracy: 0.6995 - val_loss: 1.2080 - val_accuracy: 0.5500\n",
      "Epoch 16/30\n",
      "53/53 [==============================] - 40s 753ms/step - loss: 0.8210 - accuracy: 0.7098 - val_loss: 1.1701 - val_accuracy: 0.5660\n",
      "Epoch 17/30\n",
      "53/53 [==============================] - 40s 756ms/step - loss: 0.7276 - accuracy: 0.7514 - val_loss: 1.2163 - val_accuracy: 0.5590\n",
      "Epoch 18/30\n",
      "53/53 [==============================] - 40s 748ms/step - loss: 0.7019 - accuracy: 0.7542 - val_loss: 1.2769 - val_accuracy: 0.5382\n",
      "Epoch 19/30\n",
      "53/53 [==============================] - 40s 750ms/step - loss: 0.6906 - accuracy: 0.7715 - val_loss: 1.1979 - val_accuracy: 0.5639\n",
      "Epoch 20/30\n",
      "53/53 [==============================] - 40s 754ms/step - loss: 0.5925 - accuracy: 0.8108 - val_loss: 1.1608 - val_accuracy: 0.5903\n",
      "Epoch 21/30\n",
      "53/53 [==============================] - 40s 758ms/step - loss: 0.5692 - accuracy: 0.8077 - val_loss: 1.2132 - val_accuracy: 0.5694\n",
      "Epoch 22/30\n",
      "53/53 [==============================] - 38s 721ms/step - loss: 0.4925 - accuracy: 0.8458 - val_loss: 1.2797 - val_accuracy: 0.5854\n",
      "Epoch 23/30\n",
      "53/53 [==============================] - 38s 723ms/step - loss: 0.4851 - accuracy: 0.8520 - val_loss: 1.3270 - val_accuracy: 0.5639\n",
      "Epoch 24/30\n",
      "53/53 [==============================] - 38s 721ms/step - loss: 0.4293 - accuracy: 0.8755 - val_loss: 1.3497 - val_accuracy: 0.5479\n",
      "Epoch 25/30\n",
      "53/53 [==============================] - 39s 727ms/step - loss: 0.4408 - accuracy: 0.8548 - val_loss: 1.2049 - val_accuracy: 0.5771\n",
      "Epoch 26/30\n",
      "53/53 [==============================] - 38s 720ms/step - loss: 0.3340 - accuracy: 0.9107 - val_loss: 1.2822 - val_accuracy: 0.5826\n",
      "Epoch 27/30\n",
      "53/53 [==============================] - 38s 721ms/step - loss: 0.2965 - accuracy: 0.9226 - val_loss: 1.3518 - val_accuracy: 0.5903\n",
      "Epoch 28/30\n",
      "53/53 [==============================] - 38s 722ms/step - loss: 0.2649 - accuracy: 0.9368 - val_loss: 1.3848 - val_accuracy: 0.5861\n",
      "Epoch 29/30\n",
      "53/53 [==============================] - 38s 722ms/step - loss: 0.2483 - accuracy: 0.9450 - val_loss: 1.4175 - val_accuracy: 0.5785\n",
      "Epoch 30/30\n",
      "53/53 [==============================] - 38s 721ms/step - loss: 0.2429 - accuracy: 0.9338 - val_loss: 1.3580 - val_accuracy: 0.5882\n"
     ]
    }
   ],
   "source": [
    "# The model will be fit for 20 epochs - to check if the model can learn the problem.\n",
    "# Define model\n",
    "model = baseline_model_3()\n",
    "# Fit model\n",
    "history = model.fit_generator(training_set, steps_per_epoch=len(training_set),\n",
    "                              validation_data=test_set, \n",
    "                              validation_steps=len(test_set), \n",
    "                              epochs= 30)"
   ]
  },
  {
   "cell_type": "code",
   "execution_count": 40,
   "metadata": {},
   "outputs": [
    {
     "name": "stdout",
     "output_type": "stream",
     "text": [
      "Accuracy: 58.8194\n"
     ]
    }
   ],
   "source": [
    "# Evaluate model\n",
    "_, acc = model.evaluate_generator(test_set, steps=len(test_set), verbose=0)\n",
    "print(\"Accuracy: %.4f\" % (acc * 100.0))"
   ]
  },
  {
   "cell_type": "code",
   "execution_count": 41,
   "metadata": {},
   "outputs": [
    {
     "data": {
      "image/png": "[encoded data removed]",
      "text/plain": [
       "<Figure size 720x360 with 2 Axes>"
      ]
     },
     "metadata": {
      "needs_background": "light"
     },
     "output_type": "display_data"
    }
   ],
   "source": [
    "# Build graphs\n",
    "summarize_diagnostics(history)"
   ]
  },
  {
   "cell_type": "code",
   "execution_count": 42,
   "metadata": {},
   "outputs": [
    {
     "name": "stdout",
     "output_type": "stream",
     "text": [
      "Confusion Matrix\n",
      "[[160   4  10  28  18  20]\n",
      " [ 12 127  37  13  13  38]\n",
      " [ 18  15 135  20   6  46]\n",
      " [ 17   8  12 160  23  20]\n",
      " [ 40   3  14  36 130  17]\n",
      " [ 15  10  34  26  20 135]]\n",
      "Classification Report\n",
      "              precision    recall  f1-score   support\n",
      "\n",
      "     Matisse       0.61      0.67      0.64       240\n",
      "       Monet       0.76      0.53      0.62       240\n",
      "     Pissaro       0.56      0.56      0.56       240\n",
      "      Renoir       0.57      0.67      0.61       240\n",
      "     Sargent       0.62      0.54      0.58       240\n",
      "     VanGogh       0.49      0.56      0.52       240\n",
      "\n",
      "    accuracy                           0.59      1440\n",
      "   macro avg       0.60      0.59      0.59      1440\n",
      "weighted avg       0.60      0.59      0.59      1440\n",
      "\n"
     ]
    }
   ],
   "source": [
    "class_report(test_set, model)"
   ]
  },
  {
   "cell_type": "code",
   "execution_count": 43,
   "metadata": {},
   "outputs": [],
   "source": [
    "# Part 2 - Add Dropout Regularization and Data Augmentation\n",
    "# to our Baseline model step by step and evaluate an efficiency  \n",
    "# ___________________________________________________________\n",
    "\n",
    "\n",
    "# 1 step - Add Dropout"
   ]
  },
  {
   "cell_type": "markdown",
   "metadata": {},
   "source": [
    "<h3>Model with 3 VGG blocks with dropout</h3>"
   ]
  },
  {
   "cell_type": "code",
   "execution_count": 24,
   "metadata": {},
   "outputs": [
    {
     "name": "stdout",
     "output_type": "stream",
     "text": [
      "Found 3360 images belonging to 6 classes.\n",
      "Found 1440 images belonging to 6 classes.\n"
     ]
    }
   ],
   "source": [
    "# Prepare the data. Instanciate ImageDataGenerator that scalse the pixel values to the range of 0-1\n",
    "# We don't use data augmentation, dropout etc for the Baseline models to check a minimal model performance \n",
    "# Prepare the data. Instanciate ImageDataGenerator that scalse the pixel values to the range of 0-1\n",
    "# We don't use data augmentation, dropout etc for the Baseline models to check a minimal model performance \n",
    "datagen = ImageDataGenerator(rescale=1. / 255)\n",
    "\n",
    "training_set = datagen.flow_from_directory('train', \n",
    "                                                 target_size=(img_rows, img_cols),\n",
    "                                                 batch_size=batch_size,\n",
    "                                                 class_mode='categorical')\n",
    "\n",
    "test_set = datagen.flow_from_directory('val',\n",
    "                                            target_size=(img_rows, img_cols),\n",
    "                                            batch_size=batch_size, shuffle = False,\n",
    "                                            class_mode='categorical')"
   ]
  },
  {
   "cell_type": "code",
   "execution_count": 25,
   "metadata": {},
   "outputs": [],
   "source": [
    "# Define CNN model with Dropout Regularization\n",
    "def model_with_dropout():\n",
    "    #reset_random_seeds()\n",
    "    model = Sequential()\n",
    "   \n",
    "    model.add(Conv2D(32, (3, 3), activation='relu', kernel_initializer='he_uniform', \n",
    "                     padding='same', input_shape=(img_rows, img_cols, 3)))\n",
    "    model.add(MaxPooling2D((2, 2)))\n",
    "   \n",
    "   \n",
    "    model.add(Conv2D(64, (3, 3), activation='relu',  kernel_initializer='he_uniform', padding='same'))\n",
    "    model.add(MaxPooling2D((2, 2)))\n",
    "   \n",
    "\n",
    "    model.add(Conv2D(128, (3, 3), activation='relu', kernel_initializer='he_uniform', padding='same'))\n",
    "    model.add(MaxPooling2D((2, 2)))\n",
    "    \n",
    "   \n",
    "    model.add(Flatten())\n",
    "    model.add(Dense(128, activation='relu', \n",
    "                    kernel_initializer='he_uniform'))\n",
    "    model.add(Dropout(0.5))\n",
    "    model.add(Dense(6, activation='softmax'))\n",
    "    # Compilation of a model\n",
    "    opt = SGD(lr=0.001, momentum=0.9) # Gradient descent (with momentum) optimizer.\n",
    "    model.compile(optimizer=opt, loss='categorical_crossentropy', metrics=['accuracy'])\n",
    "    return model"
   ]
  },
  {
   "cell_type": "code",
   "execution_count": 26,
   "metadata": {},
   "outputs": [
    {
     "name": "stdout",
     "output_type": "stream",
     "text": [
      "Epoch 1/35\n",
      "53/53 [==============================] - 40s 754ms/step - loss: 1.9414 - accuracy: 0.1856 - val_loss: 1.7258 - val_accuracy: 0.2493\n",
      "Epoch 2/35\n",
      "53/53 [==============================] - 40s 751ms/step - loss: 1.7287 - accuracy: 0.2379 - val_loss: 1.6876 - val_accuracy: 0.2931\n",
      "Epoch 3/35\n",
      "53/53 [==============================] - 40s 751ms/step - loss: 1.7063 - accuracy: 0.2569 - val_loss: 1.6729 - val_accuracy: 0.2556\n",
      "Epoch 4/35\n",
      "53/53 [==============================] - 40s 755ms/step - loss: 1.6772 - accuracy: 0.2790 - val_loss: 1.6171 - val_accuracy: 0.3625\n",
      "Epoch 5/35\n",
      "53/53 [==============================] - 40s 748ms/step - loss: 1.6373 - accuracy: 0.3176 - val_loss: 1.5768 - val_accuracy: 0.4139\n",
      "Epoch 6/35\n",
      "53/53 [==============================] - 41s 774ms/step - loss: 1.6099 - accuracy: 0.3437 - val_loss: 1.5822 - val_accuracy: 0.4007\n",
      "Epoch 7/35\n",
      "53/53 [==============================] - 40s 750ms/step - loss: 1.6008 - accuracy: 0.3514 - val_loss: 1.5438 - val_accuracy: 0.4215\n",
      "Epoch 8/35\n",
      "53/53 [==============================] - 40s 755ms/step - loss: 1.5604 - accuracy: 0.3690 - val_loss: 1.5503 - val_accuracy: 0.4417\n",
      "Epoch 9/35\n",
      "53/53 [==============================] - 41s 776ms/step - loss: 1.5643 - accuracy: 0.3641 - val_loss: 1.4679 - val_accuracy: 0.4688\n",
      "Epoch 10/35\n",
      "53/53 [==============================] - 41s 768ms/step - loss: 1.5206 - accuracy: 0.4096 - val_loss: 1.4452 - val_accuracy: 0.4736\n",
      "Epoch 11/35\n",
      "53/53 [==============================] - 39s 741ms/step - loss: 1.4725 - accuracy: 0.4277 - val_loss: 1.4741 - val_accuracy: 0.4722\n",
      "Epoch 12/35\n",
      "53/53 [==============================] - 40s 746ms/step - loss: 1.4887 - accuracy: 0.4242 - val_loss: 1.4343 - val_accuracy: 0.4986\n",
      "Epoch 13/35\n",
      "53/53 [==============================] - 39s 741ms/step - loss: 1.4565 - accuracy: 0.4355 - val_loss: 1.3580 - val_accuracy: 0.5000\n",
      "Epoch 14/35\n",
      "53/53 [==============================] - 41s 769ms/step - loss: 1.4385 - accuracy: 0.4325 - val_loss: 1.3682 - val_accuracy: 0.4979\n",
      "Epoch 15/35\n",
      "53/53 [==============================] - 41s 776ms/step - loss: 1.3865 - accuracy: 0.4728 - val_loss: 1.3531 - val_accuracy: 0.5278\n",
      "Epoch 16/35\n",
      "53/53 [==============================] - 40s 759ms/step - loss: 1.3643 - accuracy: 0.4731 - val_loss: 1.3184 - val_accuracy: 0.5049\n",
      "Epoch 17/35\n",
      "53/53 [==============================] - 40s 754ms/step - loss: 1.3216 - accuracy: 0.4970 - val_loss: 1.2952 - val_accuracy: 0.5396\n",
      "Epoch 18/35\n",
      "53/53 [==============================] - 41s 767ms/step - loss: 1.2926 - accuracy: 0.5053 - val_loss: 1.2935 - val_accuracy: 0.5306\n",
      "Epoch 19/35\n",
      "53/53 [==============================] - 39s 742ms/step - loss: 1.2695 - accuracy: 0.5280 - val_loss: 1.3333 - val_accuracy: 0.5097\n",
      "Epoch 20/35\n",
      "53/53 [==============================] - 41s 778ms/step - loss: 1.2497 - accuracy: 0.5356 - val_loss: 1.2724 - val_accuracy: 0.5299\n",
      "Epoch 21/35\n",
      "53/53 [==============================] - 40s 752ms/step - loss: 1.1999 - accuracy: 0.5541 - val_loss: 1.2013 - val_accuracy: 0.5583\n",
      "Epoch 22/35\n",
      "53/53 [==============================] - 42s 787ms/step - loss: 1.2079 - accuracy: 0.5389 - val_loss: 1.1996 - val_accuracy: 0.5681\n",
      "Epoch 23/35\n",
      "53/53 [==============================] - 41s 776ms/step - loss: 1.1549 - accuracy: 0.5674 - val_loss: 1.1772 - val_accuracy: 0.5750\n",
      "Epoch 24/35\n",
      "53/53 [==============================] - 42s 797ms/step - loss: 1.1648 - accuracy: 0.5657 - val_loss: 1.2039 - val_accuracy: 0.5646\n",
      "Epoch 25/35\n",
      "53/53 [==============================] - 41s 775ms/step - loss: 1.0939 - accuracy: 0.5931 - val_loss: 1.1541 - val_accuracy: 0.5729\n",
      "Epoch 26/35\n",
      "53/53 [==============================] - 41s 780ms/step - loss: 1.0629 - accuracy: 0.5992 - val_loss: 1.1436 - val_accuracy: 0.5917\n",
      "Epoch 27/35\n",
      "53/53 [==============================] - 40s 744ms/step - loss: 1.0432 - accuracy: 0.6150 - val_loss: 1.1999 - val_accuracy: 0.5583\n",
      "Epoch 28/35\n",
      "53/53 [==============================] - 39s 734ms/step - loss: 1.0354 - accuracy: 0.6193 - val_loss: 1.1754 - val_accuracy: 0.5771\n",
      "Epoch 29/35\n",
      "53/53 [==============================] - 40s 751ms/step - loss: 1.0154 - accuracy: 0.6209 - val_loss: 1.1504 - val_accuracy: 0.5847\n",
      "Epoch 30/35\n",
      "53/53 [==============================] - 41s 779ms/step - loss: 0.9631 - accuracy: 0.6494 - val_loss: 1.1602 - val_accuracy: 0.5743\n",
      "Epoch 31/35\n",
      "53/53 [==============================] - 40s 758ms/step - loss: 0.9303 - accuracy: 0.6595 - val_loss: 1.1003 - val_accuracy: 0.6104\n",
      "Epoch 32/35\n",
      "53/53 [==============================] - 41s 766ms/step - loss: 0.8877 - accuracy: 0.6811 - val_loss: 1.1006 - val_accuracy: 0.6076\n",
      "Epoch 33/35\n",
      "53/53 [==============================] - 41s 772ms/step - loss: 0.8288 - accuracy: 0.6965 - val_loss: 1.1040 - val_accuracy: 0.6111\n",
      "Epoch 34/35\n",
      "53/53 [==============================] - 42s 790ms/step - loss: 0.8373 - accuracy: 0.6952 - val_loss: 1.1361 - val_accuracy: 0.5813\n",
      "Epoch 35/35\n",
      "53/53 [==============================] - 43s 813ms/step - loss: 0.8077 - accuracy: 0.7146 - val_loss: 1.0991 - val_accuracy: 0.6125\n"
     ]
    }
   ],
   "source": [
    "# The model will be fit for 35 epochs - to check if the model can learn the problem.\n",
    "# Define model\n",
    "model_d = model_with_dropout()\n",
    "# Fit model\n",
    "history = model_d.fit_generator(training_set, steps_per_epoch=len(training_set),\n",
    "                                validation_data=test_set,\n",
    "                                validation_steps=len(test_set), \n",
    "                                epochs= epochs)"
   ]
  },
  {
   "cell_type": "code",
   "execution_count": 27,
   "metadata": {},
   "outputs": [
    {
     "name": "stdout",
     "output_type": "stream",
     "text": [
      "Accuracy: 61.2500\n"
     ]
    }
   ],
   "source": [
    "# Evaluate model\n",
    "_, acc = model_d.evaluate_generator(test_set, steps=len(test_set), verbose=0)\n",
    "print(\"Accuracy: %.4f\" % (acc * 100.0))"
   ]
  },
  {
   "cell_type": "code",
   "execution_count": 28,
   "metadata": {},
   "outputs": [
    {
     "data": {
      "image/png": "[encoded data removed]",
      "text/plain": [
       "<Figure size 720x360 with 2 Axes>"
      ]
     },
     "metadata": {
      "needs_background": "light"
     },
     "output_type": "display_data"
    }
   ],
   "source": [
    "# Build graphs\n",
    "summarize_diagnostics(history)"
   ]
  },
  {
   "cell_type": "code",
   "execution_count": 29,
   "metadata": {},
   "outputs": [],
   "source": [
    "# As we see model overfitts less after usage of dropout"
   ]
  },
  {
   "cell_type": "code",
   "execution_count": 30,
   "metadata": {},
   "outputs": [
    {
     "name": "stdout",
     "output_type": "stream",
     "text": [
      "Confusion Matrix\n",
      "[[157  13   1  28  32   9]\n",
      " [ 16 147  33  10  15  19]\n",
      " [ 15  28 145  17  15  20]\n",
      " [ 15   8  14 165  26  12]\n",
      " [ 32   7  10  34 149   8]\n",
      " [ 18  24  28  24  27 119]]\n",
      "Classification Report\n",
      "              precision    recall  f1-score   support\n",
      "\n",
      "     Matisse       0.62      0.65      0.64       240\n",
      "       Monet       0.65      0.61      0.63       240\n",
      "     Pissaro       0.63      0.60      0.62       240\n",
      "      Renoir       0.59      0.69      0.64       240\n",
      "     Sargent       0.56      0.62      0.59       240\n",
      "     VanGogh       0.64      0.50      0.56       240\n",
      "\n",
      "    accuracy                           0.61      1440\n",
      "   macro avg       0.62      0.61      0.61      1440\n",
      "weighted avg       0.62      0.61      0.61      1440\n",
      "\n"
     ]
    }
   ],
   "source": [
    "class_report(test_set, model_d)"
   ]
  },
  {
   "cell_type": "code",
   "execution_count": 50,
   "metadata": {},
   "outputs": [],
   "source": [
    "# 2 step - Add Data augmentation\n",
    "# Use our model with dropout"
   ]
  },
  {
   "cell_type": "markdown",
   "metadata": {},
   "source": [
    "<h3>Model with 3 VGG blocks with dropout and data augmentation</h3>\n"
   ]
  },
  {
   "cell_type": "markdown",
   "metadata": {},
   "source": [
    "<h4>Trained for 35 epochs</h4>\n"
   ]
  },
  {
   "cell_type": "code",
   "execution_count": 51,
   "metadata": {},
   "outputs": [],
   "source": [
    "# Create data generators \n",
    "# Train generator with data augmentation\n",
    "train_datagen = ImageDataGenerator(rescale=1. / 255,\n",
    "                                   rotation_range=20,\n",
    "                                   width_shift_range=0.2,\n",
    "                                   height_shift_range=0.2,\n",
    "                                   shear_range=0.2,\n",
    "                                   zoom_range=0.2,\n",
    "                                   horizontal_flip=True,\n",
    "                                   fill_mode='nearest')\n",
    "\n",
    "test_datagen = ImageDataGenerator(rescale=1. / 255)"
   ]
  },
  {
   "cell_type": "code",
   "execution_count": 52,
   "metadata": {},
   "outputs": [
    {
     "name": "stdout",
     "output_type": "stream",
     "text": [
      "Found 3360 images belonging to 6 classes.\n",
      "Found 1440 images belonging to 6 classes.\n"
     ]
    }
   ],
   "source": [
    "# Create sets\n",
    "training_set = train_datagen.flow_from_directory('train',\n",
    "                                                 target_size=(img_rows, img_cols),\n",
    "                                                 batch_size=batch_size,\n",
    "                                                 class_mode='categorical')\n",
    "\n",
    "\n",
    "test_set = test_datagen.flow_from_directory('val',\n",
    "                                            target_size=(img_rows, img_cols),\n",
    "                                            batch_size=batch_size, shuffle = False,\n",
    "                                            class_mode='categorical')"
   ]
  },
  {
   "cell_type": "code",
   "execution_count": 53,
   "metadata": {},
   "outputs": [
    {
     "name": "stdout",
     "output_type": "stream",
     "text": [
      "Epoch 1/35\n",
      "53/53 [==============================] - 43s 795ms/step - loss: 1.8587 - accuracy: 0.1924 - val_loss: 1.6800 - val_accuracy: 0.3167\n",
      "Epoch 2/35\n",
      "53/53 [==============================] - 41s 763ms/step - loss: 1.6954 - accuracy: 0.2624 - val_loss: 1.5971 - val_accuracy: 0.3986\n",
      "Epoch 3/35\n",
      "53/53 [==============================] - 40s 752ms/step - loss: 1.6354 - accuracy: 0.3268 - val_loss: 1.5288 - val_accuracy: 0.4424\n",
      "Epoch 4/35\n",
      "53/53 [==============================] - 41s 765ms/step - loss: 1.6327 - accuracy: 0.3401 - val_loss: 1.5021 - val_accuracy: 0.4396\n",
      "Epoch 5/35\n",
      "53/53 [==============================] - 41s 779ms/step - loss: 1.5733 - accuracy: 0.3511 - val_loss: 1.4806 - val_accuracy: 0.4437\n",
      "Epoch 6/35\n",
      "53/53 [==============================] - 49s 923ms/step - loss: 1.5594 - accuracy: 0.3820 - val_loss: 1.4980 - val_accuracy: 0.4521\n",
      "Epoch 7/35\n",
      "53/53 [==============================] - 48s 904ms/step - loss: 1.5288 - accuracy: 0.3919 - val_loss: 1.4346 - val_accuracy: 0.4764\n",
      "Epoch 8/35\n",
      "53/53 [==============================] - 48s 921ms/step - loss: 1.5401 - accuracy: 0.3897 - val_loss: 1.4094 - val_accuracy: 0.4965\n",
      "Epoch 9/35\n",
      "53/53 [==============================] - 48s 907ms/step - loss: 1.5036 - accuracy: 0.4091 - val_loss: 1.3621 - val_accuracy: 0.4951\n",
      "Epoch 10/35\n",
      "53/53 [==============================] - 40s 758ms/step - loss: 1.4917 - accuracy: 0.4234 - val_loss: 1.3558 - val_accuracy: 0.5160\n",
      "Epoch 11/35\n",
      "53/53 [==============================] - 41s 766ms/step - loss: 1.4674 - accuracy: 0.4333 - val_loss: 1.3763 - val_accuracy: 0.5007\n",
      "Epoch 12/35\n",
      "53/53 [==============================] - 40s 758ms/step - loss: 1.4515 - accuracy: 0.4487 - val_loss: 1.3914 - val_accuracy: 0.4917\n",
      "Epoch 13/35\n",
      "53/53 [==============================] - 41s 776ms/step - loss: 1.4370 - accuracy: 0.4373 - val_loss: 1.4174 - val_accuracy: 0.4521\n",
      "Epoch 14/35\n",
      "53/53 [==============================] - 41s 764ms/step - loss: 1.4464 - accuracy: 0.4523 - val_loss: 1.3521 - val_accuracy: 0.4993\n",
      "Epoch 15/35\n",
      "53/53 [==============================] - 43s 800ms/step - loss: 1.4118 - accuracy: 0.4720 - val_loss: 1.2927 - val_accuracy: 0.5299\n",
      "Epoch 16/35\n",
      "53/53 [==============================] - 40s 756ms/step - loss: 1.4239 - accuracy: 0.4628 - val_loss: 1.2857 - val_accuracy: 0.5312\n",
      "Epoch 17/35\n",
      "53/53 [==============================] - 40s 757ms/step - loss: 1.4012 - accuracy: 0.4760 - val_loss: 1.3202 - val_accuracy: 0.5007\n",
      "Epoch 18/35\n",
      "53/53 [==============================] - 41s 761ms/step - loss: 1.3718 - accuracy: 0.4698 - val_loss: 1.3044 - val_accuracy: 0.5326\n",
      "Epoch 19/35\n",
      "53/53 [==============================] - 40s 759ms/step - loss: 1.3450 - accuracy: 0.4959 - val_loss: 1.2969 - val_accuracy: 0.5299\n",
      "Epoch 20/35\n",
      "53/53 [==============================] - 40s 757ms/step - loss: 1.3857 - accuracy: 0.4682 - val_loss: 1.2624 - val_accuracy: 0.5375\n",
      "Epoch 21/35\n",
      "53/53 [==============================] - 41s 766ms/step - loss: 1.3569 - accuracy: 0.4867 - val_loss: 1.2398 - val_accuracy: 0.5500\n",
      "Epoch 22/35\n",
      "53/53 [==============================] - 40s 760ms/step - loss: 1.3101 - accuracy: 0.5062 - val_loss: 1.2219 - val_accuracy: 0.5521\n",
      "Epoch 23/35\n",
      "53/53 [==============================] - 40s 757ms/step - loss: 1.3568 - accuracy: 0.4943 - val_loss: 1.2582 - val_accuracy: 0.5306\n",
      "Epoch 24/35\n",
      "53/53 [==============================] - 41s 768ms/step - loss: 1.3260 - accuracy: 0.4975 - val_loss: 1.2455 - val_accuracy: 0.5319\n",
      "Epoch 25/35\n",
      "53/53 [==============================] - 40s 761ms/step - loss: 1.2841 - accuracy: 0.5336 - val_loss: 1.3222 - val_accuracy: 0.5069\n",
      "Epoch 26/35\n",
      "53/53 [==============================] - 41s 764ms/step - loss: 1.2892 - accuracy: 0.5135 - val_loss: 1.4903 - val_accuracy: 0.4326\n",
      "Epoch 27/35\n",
      "53/53 [==============================] - 41s 767ms/step - loss: 1.2814 - accuracy: 0.5133 - val_loss: 1.2188 - val_accuracy: 0.5528\n",
      "Epoch 28/35\n",
      "53/53 [==============================] - 41s 764ms/step - loss: 1.2813 - accuracy: 0.5213 - val_loss: 1.2576 - val_accuracy: 0.5208\n",
      "Epoch 29/35\n",
      "53/53 [==============================] - 41s 764ms/step - loss: 1.2724 - accuracy: 0.5238 - val_loss: 1.3076 - val_accuracy: 0.5236\n",
      "Epoch 30/35\n",
      "53/53 [==============================] - 42s 784ms/step - loss: 1.2281 - accuracy: 0.5509 - val_loss: 1.2093 - val_accuracy: 0.5583\n",
      "Epoch 31/35\n",
      "53/53 [==============================] - 39s 737ms/step - loss: 1.2380 - accuracy: 0.5311 - val_loss: 1.1568 - val_accuracy: 0.5875\n",
      "Epoch 32/35\n",
      "53/53 [==============================] - 39s 739ms/step - loss: 1.2421 - accuracy: 0.5254 - val_loss: 1.2485 - val_accuracy: 0.5292\n",
      "Epoch 33/35\n",
      "53/53 [==============================] - 39s 737ms/step - loss: 1.1901 - accuracy: 0.5423 - val_loss: 1.1774 - val_accuracy: 0.5681\n",
      "Epoch 34/35\n",
      "53/53 [==============================] - 39s 735ms/step - loss: 1.2133 - accuracy: 0.5535 - val_loss: 1.1856 - val_accuracy: 0.5618\n",
      "Epoch 35/35\n",
      "53/53 [==============================] - 39s 734ms/step - loss: 1.2272 - accuracy: 0.5427 - val_loss: 1.2094 - val_accuracy: 0.5479\n"
     ]
    }
   ],
   "source": [
    "# Define model\n",
    "model1 = model_with_dropout()\n",
    "# Fit model\n",
    "history = model1.fit_generator(training_set, \n",
    "                              steps_per_epoch=len(training_set),\n",
    "                              validation_data=test_set, \n",
    "                              validation_steps=len(test_set), \n",
    "                              epochs= epochs)"
   ]
  },
  {
   "cell_type": "code",
   "execution_count": 54,
   "metadata": {},
   "outputs": [
    {
     "name": "stdout",
     "output_type": "stream",
     "text": [
      "Accuracy: 54.7917\n"
     ]
    }
   ],
   "source": [
    "# Evaluate model\n",
    "_, acc = model1.evaluate_generator(test_set, steps=len(test_set), verbose=0)\n",
    "print(\"Accuracy: %.4f\" % (acc * 100.0))"
   ]
  },
  {
   "cell_type": "code",
   "execution_count": 56,
   "metadata": {},
   "outputs": [
    {
     "name": "stdout",
     "output_type": "stream",
     "text": [
      "Confusion Matrix\n",
      "[[164   5   9   1  16  45]\n",
      " [  4  94  50   0  14  78]\n",
      " [  9   9 143   1   5  73]\n",
      " [ 22   2  34  69  43  70]\n",
      " [ 50   5  10   4 128  43]\n",
      " [ 13   4  22   0  10 191]]\n",
      "Classification Report\n",
      "              precision    recall  f1-score   support\n",
      "\n",
      "     Matisse       0.63      0.68      0.65       240\n",
      "       Monet       0.79      0.39      0.52       240\n",
      "     Pissaro       0.53      0.60      0.56       240\n",
      "      Renoir       0.92      0.29      0.44       240\n",
      "     Sargent       0.59      0.53      0.56       240\n",
      "     VanGogh       0.38      0.80      0.52       240\n",
      "\n",
      "    accuracy                           0.55      1440\n",
      "   macro avg       0.64      0.55      0.54      1440\n",
      "weighted avg       0.64      0.55      0.54      1440\n",
      "\n"
     ]
    }
   ],
   "source": [
    "class_report(test_set, model1)"
   ]
  },
  {
   "cell_type": "code",
   "execution_count": 55,
   "metadata": {
    "scrolled": true
   },
   "outputs": [
    {
     "data": {
      "image/png": "[encoded data removed]",
      "text/plain": [
       "<Figure size 720x360 with 2 Axes>"
      ]
     },
     "metadata": {
      "needs_background": "light"
     },
     "output_type": "display_data"
    }
   ],
   "source": [
    "# Build graphs\n",
    "summarize_diagnostics(history)"
   ]
  },
  {
   "cell_type": "code",
   "execution_count": null,
   "metadata": {},
   "outputs": [],
   "source": [
    "# As we see from out graphs number of epochs could be increased to higher than 35 epochs"
   ]
  },
  {
   "cell_type": "markdown",
   "metadata": {},
   "source": [
    "<h4>Trained for 50 epochs</h4>\n"
   ]
  },
  {
   "cell_type": "code",
   "execution_count": null,
   "metadata": {},
   "outputs": [],
   "source": [
    "# Let's check how modek learns after 50 epochs"
   ]
  },
  {
   "cell_type": "code",
   "execution_count": 57,
   "metadata": {},
   "outputs": [
    {
     "name": "stdout",
     "output_type": "stream",
     "text": [
      "Epoch 1/50\n",
      "53/53 [==============================] - 48s 889ms/step - loss: 1.8340 - accuracy: 0.2161 - val_loss: 1.6630 - val_accuracy: 0.3688\n",
      "Epoch 2/50\n",
      "53/53 [==============================] - 41s 763ms/step - loss: 1.6916 - accuracy: 0.2810 - val_loss: 1.6091 - val_accuracy: 0.3986\n",
      "Epoch 3/50\n",
      "53/53 [==============================] - 42s 785ms/step - loss: 1.6664 - accuracy: 0.3160 - val_loss: 1.5569 - val_accuracy: 0.4139\n",
      "Epoch 4/50\n",
      "53/53 [==============================] - 42s 796ms/step - loss: 1.6505 - accuracy: 0.3353 - val_loss: 1.5367 - val_accuracy: 0.4257\n",
      "Epoch 5/50\n",
      "53/53 [==============================] - 42s 795ms/step - loss: 1.6290 - accuracy: 0.3298 - val_loss: 1.5351 - val_accuracy: 0.4250\n",
      "Epoch 6/50\n",
      "53/53 [==============================] - 41s 770ms/step - loss: 1.5817 - accuracy: 0.3610 - val_loss: 1.5082 - val_accuracy: 0.4521\n",
      "Epoch 7/50\n",
      "53/53 [==============================] - 41s 774ms/step - loss: 1.5935 - accuracy: 0.3641 - val_loss: 1.4731 - val_accuracy: 0.4549\n",
      "Epoch 8/50\n",
      "53/53 [==============================] - 41s 761ms/step - loss: 1.5637 - accuracy: 0.3668 - val_loss: 1.4639 - val_accuracy: 0.4757\n",
      "Epoch 9/50\n",
      "53/53 [==============================] - 42s 788ms/step - loss: 1.5315 - accuracy: 0.4060 - val_loss: 1.4196 - val_accuracy: 0.4896\n",
      "Epoch 10/50\n",
      "53/53 [==============================] - 41s 771ms/step - loss: 1.5110 - accuracy: 0.4069 - val_loss: 1.3930 - val_accuracy: 0.4806\n",
      "Epoch 11/50\n",
      "53/53 [==============================] - 42s 794ms/step - loss: 1.4648 - accuracy: 0.4293 - val_loss: 1.4160 - val_accuracy: 0.4694\n",
      "Epoch 12/50\n",
      "53/53 [==============================] - 42s 784ms/step - loss: 1.4585 - accuracy: 0.4275 - val_loss: 1.3632 - val_accuracy: 0.5056\n",
      "Epoch 13/50\n",
      "53/53 [==============================] - 41s 775ms/step - loss: 1.4793 - accuracy: 0.4235 - val_loss: 1.3341 - val_accuracy: 0.5146\n",
      "Epoch 14/50\n",
      "53/53 [==============================] - 41s 760ms/step - loss: 1.4832 - accuracy: 0.4207 - val_loss: 1.3767 - val_accuracy: 0.4896\n",
      "Epoch 15/50\n",
      "53/53 [==============================] - 41s 770ms/step - loss: 1.4592 - accuracy: 0.4430 - val_loss: 1.3867 - val_accuracy: 0.4854\n",
      "Epoch 16/50\n",
      "53/53 [==============================] - 41s 763ms/step - loss: 1.4382 - accuracy: 0.4457 - val_loss: 1.3204 - val_accuracy: 0.5069\n",
      "Epoch 17/50\n",
      "53/53 [==============================] - 41s 763ms/step - loss: 1.4255 - accuracy: 0.4513 - val_loss: 1.3240 - val_accuracy: 0.5236\n",
      "Epoch 18/50\n",
      "53/53 [==============================] - 41s 766ms/step - loss: 1.4383 - accuracy: 0.4557 - val_loss: 1.2861 - val_accuracy: 0.5347\n",
      "Epoch 19/50\n",
      "53/53 [==============================] - 41s 764ms/step - loss: 1.3900 - accuracy: 0.4594 - val_loss: 1.3119 - val_accuracy: 0.5042\n",
      "Epoch 20/50\n",
      "53/53 [==============================] - 43s 808ms/step - loss: 1.3870 - accuracy: 0.4584 - val_loss: 1.3380 - val_accuracy: 0.4889\n",
      "Epoch 21/50\n",
      "53/53 [==============================] - 42s 778ms/step - loss: 1.3647 - accuracy: 0.4771 - val_loss: 1.2625 - val_accuracy: 0.5361\n",
      "Epoch 22/50\n",
      "53/53 [==============================] - 42s 783ms/step - loss: 1.4154 - accuracy: 0.4595 - val_loss: 1.2659 - val_accuracy: 0.5271\n",
      "Epoch 23/50\n",
      "53/53 [==============================] - 41s 768ms/step - loss: 1.3362 - accuracy: 0.4888 - val_loss: 1.2761 - val_accuracy: 0.5215\n",
      "Epoch 24/50\n",
      "53/53 [==============================] - 41s 765ms/step - loss: 1.3456 - accuracy: 0.4939 - val_loss: 1.2365 - val_accuracy: 0.5417\n",
      "Epoch 25/50\n",
      "53/53 [==============================] - 42s 788ms/step - loss: 1.3121 - accuracy: 0.5069 - val_loss: 1.2156 - val_accuracy: 0.5472\n",
      "Epoch 26/50\n",
      "53/53 [==============================] - 42s 788ms/step - loss: 1.3384 - accuracy: 0.5014 - val_loss: 1.2312 - val_accuracy: 0.5382\n",
      "Epoch 27/50\n",
      "53/53 [==============================] - 42s 776ms/step - loss: 1.3202 - accuracy: 0.5079 - val_loss: 1.2305 - val_accuracy: 0.5368\n",
      "Epoch 28/50\n",
      "53/53 [==============================] - 41s 769ms/step - loss: 1.2972 - accuracy: 0.5015 - val_loss: 1.3490 - val_accuracy: 0.4611\n",
      "Epoch 29/50\n",
      "53/53 [==============================] - 41s 770ms/step - loss: 1.2924 - accuracy: 0.5182 - val_loss: 1.2513 - val_accuracy: 0.5229\n",
      "Epoch 30/50\n",
      "53/53 [==============================] - 40s 757ms/step - loss: 1.2859 - accuracy: 0.5133 - val_loss: 1.2729 - val_accuracy: 0.5201\n",
      "Epoch 31/50\n",
      "53/53 [==============================] - 40s 757ms/step - loss: 1.2830 - accuracy: 0.5204 - val_loss: 1.3310 - val_accuracy: 0.4736\n",
      "Epoch 32/50\n",
      "53/53 [==============================] - 41s 761ms/step - loss: 1.2715 - accuracy: 0.5322 - val_loss: 1.2498 - val_accuracy: 0.5306\n",
      "Epoch 33/50\n",
      "53/53 [==============================] - 40s 760ms/step - loss: 1.2630 - accuracy: 0.5172 - val_loss: 1.1721 - val_accuracy: 0.5632\n",
      "Epoch 34/50\n",
      "53/53 [==============================] - 41s 765ms/step - loss: 1.2730 - accuracy: 0.5270 - val_loss: 1.2454 - val_accuracy: 0.5333\n",
      "Epoch 35/50\n",
      "53/53 [==============================] - 41s 769ms/step - loss: 1.2405 - accuracy: 0.5425 - val_loss: 1.2322 - val_accuracy: 0.5271\n",
      "Epoch 36/50\n",
      "53/53 [==============================] - 41s 764ms/step - loss: 1.2526 - accuracy: 0.5162 - val_loss: 1.1502 - val_accuracy: 0.5729\n",
      "Epoch 37/50\n",
      "53/53 [==============================] - 40s 753ms/step - loss: 1.2500 - accuracy: 0.5426 - val_loss: 1.1245 - val_accuracy: 0.5924\n",
      "Epoch 38/50\n",
      "53/53 [==============================] - 42s 784ms/step - loss: 1.2388 - accuracy: 0.5407 - val_loss: 1.1783 - val_accuracy: 0.5625\n",
      "Epoch 39/50\n",
      "53/53 [==============================] - 41s 769ms/step - loss: 1.2251 - accuracy: 0.5541 - val_loss: 1.1833 - val_accuracy: 0.5486\n",
      "Epoch 40/50\n",
      "53/53 [==============================] - 41s 762ms/step - loss: 1.2115 - accuracy: 0.5377 - val_loss: 1.1346 - val_accuracy: 0.5833\n",
      "Epoch 41/50\n",
      "53/53 [==============================] - 41s 765ms/step - loss: 1.2158 - accuracy: 0.5405 - val_loss: 1.2924 - val_accuracy: 0.4993\n",
      "Epoch 42/50\n",
      "53/53 [==============================] - 41s 774ms/step - loss: 1.2230 - accuracy: 0.5501 - val_loss: 1.1431 - val_accuracy: 0.5792\n",
      "Epoch 43/50\n",
      "53/53 [==============================] - 41s 774ms/step - loss: 1.2196 - accuracy: 0.5325 - val_loss: 1.1657 - val_accuracy: 0.5667\n",
      "Epoch 44/50\n",
      "53/53 [==============================] - 41s 777ms/step - loss: 1.2303 - accuracy: 0.5398 - val_loss: 1.2232 - val_accuracy: 0.5389\n",
      "Epoch 45/50\n",
      "53/53 [==============================] - 43s 806ms/step - loss: 1.2001 - accuracy: 0.5650 - val_loss: 1.1762 - val_accuracy: 0.5646\n",
      "Epoch 46/50\n",
      "53/53 [==============================] - 43s 802ms/step - loss: 1.1824 - accuracy: 0.5617 - val_loss: 1.1725 - val_accuracy: 0.5625\n",
      "Epoch 47/50\n",
      "53/53 [==============================] - 41s 779ms/step - loss: 1.1745 - accuracy: 0.5762 - val_loss: 1.3743 - val_accuracy: 0.4778\n",
      "Epoch 48/50\n",
      "53/53 [==============================] - 41s 769ms/step - loss: 1.1598 - accuracy: 0.5769 - val_loss: 1.1418 - val_accuracy: 0.5868\n",
      "Epoch 49/50\n",
      "53/53 [==============================] - 43s 807ms/step - loss: 1.1891 - accuracy: 0.5662 - val_loss: 1.1595 - val_accuracy: 0.5688\n",
      "Epoch 50/50\n",
      "53/53 [==============================] - 42s 780ms/step - loss: 1.1402 - accuracy: 0.5758 - val_loss: 1.1235 - val_accuracy: 0.5993\n"
     ]
    }
   ],
   "source": [
    "# Create data generators \n",
    "# Train generator with data augmentation\n",
    "train_datagen = ImageDataGenerator(rescale=1. / 255,\n",
    "                                   rotation_range=20,\n",
    "                                   width_shift_range=0.2,\n",
    "                                   height_shift_range=0.2,\n",
    "                                   shear_range=0.2,\n",
    "                                   zoom_range=0.2,\n",
    "                                   horizontal_flip=True,\n",
    "                                   fill_mode='nearest')\n",
    "\n",
    "\n",
    "test_datagen = ImageDataGenerator(rescale=1. / 255)\n",
    "\n",
    "# Create sets\n",
    "training_set = train_datagen.flow_from_directory('train',\n",
    "                                                 target_size=(img_rows, img_cols),\n",
    "                                                 batch_size=batch_size,\n",
    "                                                 class_mode='categorical')\n",
    "\n",
    "\n",
    "test_set = test_datagen.flow_from_directory('val',\n",
    "                                            target_size=(img_rows, img_cols),\n",
    "                                            batch_size=batch_size, shuffle = False,\n",
    "                                            class_mode='categorical')\n",
    "# Define model\n",
    "model50 = model_with_dropout()\n",
    "# Fit model\n",
    "history = model50.fit_generator(training_set, \n",
    "                              steps_per_epoch=len(training_set),\n",
    "                              validation_data=test_set, \n",
    "                              validation_steps=len(test_set), \n",
    "                              epochs= 50)"
   ]
  },
  {
   "cell_type": "code",
   "execution_count": 58,
   "metadata": {},
   "outputs": [
    {
     "data": {
      "image/png": "[encoded data removed]",
      "text/plain": [
       "<Figure size 720x360 with 2 Axes>"
      ]
     },
     "metadata": {
      "needs_background": "light"
     },
     "output_type": "display_data"
    }
   ],
   "source": [
    "# Build graphs\n",
    "summarize_diagnostics(history)"
   ]
  },
  {
   "cell_type": "code",
   "execution_count": 60,
   "metadata": {},
   "outputs": [
    {
     "name": "stdout",
     "output_type": "stream",
     "text": [
      "Accuracy: 59.9306\n"
     ]
    }
   ],
   "source": [
    "# Evaluate model\n",
    "_, acc = model50.evaluate_generator(test_set, steps=len(test_set), verbose=0)\n",
    "print(\"Accuracy: %.4f\" % (acc * 100.0))"
   ]
  },
  {
   "cell_type": "markdown",
   "metadata": {},
   "source": [
    "<h4>Trained for max 85 epochs with different data augmentation (using Early Stopping)</h4>\n"
   ]
  },
  {
   "cell_type": "code",
   "execution_count": 43,
   "metadata": {},
   "outputs": [],
   "source": [
    "# Implementing Early stoping\n",
    "ES = EarlyStopping(monitor='val_loss', mode='min', verbose=1, patience=10)\n",
    "MC = ModelCheckpoint('best_model_augmentation.h5', monitor='val_accuracy', mode='max', verbose=1, save_best_only=True, \n",
    "                     save_weights_only=False, mode='auto')"
   ]
  },
  {
   "cell_type": "code",
   "execution_count": 44,
   "metadata": {},
   "outputs": [
    {
     "name": "stdout",
     "output_type": "stream",
     "text": [
      "Found 3360 images belonging to 6 classes.\n",
      "Found 1440 images belonging to 6 classes.\n",
      "Epoch 1/85\n",
      "53/53 [==============================] - 44s 807ms/step - loss: 1.9243 - accuracy: 0.1870 - val_loss: 1.7485 - val_accuracy: 0.2764\n",
      "\n",
      "Epoch 00001: val_accuracy improved from -inf to 0.27639, saving model to best_model.h5\n",
      "Epoch 2/85\n",
      "53/53 [==============================] - 43s 807ms/step - loss: 1.7444 - accuracy: 0.2401 - val_loss: 1.6744 - val_accuracy: 0.3063\n",
      "\n",
      "Epoch 00002: val_accuracy improved from 0.27639 to 0.30625, saving model to best_model.h5\n",
      "Epoch 3/85\n",
      "53/53 [==============================] - 42s 792ms/step - loss: 1.7069 - accuracy: 0.2466 - val_loss: 1.6744 - val_accuracy: 0.3167\n",
      "\n",
      "Epoch 00003: val_accuracy improved from 0.30625 to 0.31667, saving model to best_model.h5\n",
      "Epoch 4/85\n",
      "53/53 [==============================] - 46s 859ms/step - loss: 1.6744 - accuracy: 0.3005 - val_loss: 1.6115 - val_accuracy: 0.3799\n",
      "\n",
      "Epoch 00004: val_accuracy improved from 0.31667 to 0.37986, saving model to best_model.h5\n",
      "Epoch 5/85\n",
      "53/53 [==============================] - 44s 827ms/step - loss: 1.6454 - accuracy: 0.3161 - val_loss: 1.5854 - val_accuracy: 0.4049\n",
      "\n",
      "Epoch 00005: val_accuracy improved from 0.37986 to 0.40486, saving model to best_model.h5\n",
      "Epoch 6/85\n",
      "53/53 [==============================] - 43s 815ms/step - loss: 1.6166 - accuracy: 0.3283 - val_loss: 1.5709 - val_accuracy: 0.3958\n",
      "\n",
      "Epoch 00006: val_accuracy did not improve from 0.40486\n",
      "Epoch 7/85\n",
      "53/53 [==============================] - 44s 834ms/step - loss: 1.6051 - accuracy: 0.3373 - val_loss: 1.5467 - val_accuracy: 0.3681\n",
      "\n",
      "Epoch 00007: val_accuracy did not improve from 0.40486\n",
      "Epoch 8/85\n",
      "53/53 [==============================] - 42s 779ms/step - loss: 1.5689 - accuracy: 0.3600 - val_loss: 1.5355 - val_accuracy: 0.4167\n",
      "\n",
      "Epoch 00008: val_accuracy improved from 0.40486 to 0.41667, saving model to best_model.h5\n",
      "Epoch 9/85\n",
      "53/53 [==============================] - 42s 806ms/step - loss: 1.5787 - accuracy: 0.3438 - val_loss: 1.4947 - val_accuracy: 0.4486\n",
      "\n",
      "Epoch 00009: val_accuracy improved from 0.41667 to 0.44861, saving model to best_model.h5\n",
      "Epoch 10/85\n",
      "53/53 [==============================] - 45s 847ms/step - loss: 1.5568 - accuracy: 0.3664 - val_loss: 1.4995 - val_accuracy: 0.4507\n",
      "\n",
      "Epoch 00010: val_accuracy improved from 0.44861 to 0.45069, saving model to best_model.h5\n",
      "Epoch 11/85\n",
      "53/53 [==============================] - 43s 803ms/step - loss: 1.5452 - accuracy: 0.3794 - val_loss: 1.4792 - val_accuracy: 0.4299\n",
      "\n",
      "Epoch 00011: val_accuracy did not improve from 0.45069\n",
      "Epoch 12/85\n",
      "53/53 [==============================] - 44s 822ms/step - loss: 1.5438 - accuracy: 0.3783 - val_loss: 1.4363 - val_accuracy: 0.4611\n",
      "\n",
      "Epoch 00012: val_accuracy improved from 0.45069 to 0.46111, saving model to best_model.h5\n",
      "Epoch 13/85\n",
      "53/53 [==============================] - 43s 802ms/step - loss: 1.5420 - accuracy: 0.3775 - val_loss: 1.4333 - val_accuracy: 0.4715\n",
      "\n",
      "Epoch 00013: val_accuracy improved from 0.46111 to 0.47153, saving model to best_model.h5\n",
      "Epoch 14/85\n",
      "53/53 [==============================] - 41s 777ms/step - loss: 1.5105 - accuracy: 0.3865 - val_loss: 1.4046 - val_accuracy: 0.4924\n",
      "\n",
      "Epoch 00014: val_accuracy improved from 0.47153 to 0.49236, saving model to best_model.h5\n",
      "Epoch 15/85\n",
      "53/53 [==============================] - 42s 780ms/step - loss: 1.5060 - accuracy: 0.3845 - val_loss: 1.4755 - val_accuracy: 0.4646\n",
      "\n",
      "Epoch 00015: val_accuracy did not improve from 0.49236\n",
      "Epoch 16/85\n",
      "53/53 [==============================] - 42s 783ms/step - loss: 1.4924 - accuracy: 0.3818 - val_loss: 1.4076 - val_accuracy: 0.4792\n",
      "\n",
      "Epoch 00016: val_accuracy did not improve from 0.49236\n",
      "Epoch 17/85\n",
      "53/53 [==============================] - 42s 782ms/step - loss: 1.4918 - accuracy: 0.3900 - val_loss: 1.4197 - val_accuracy: 0.4979\n",
      "\n",
      "Epoch 00017: val_accuracy improved from 0.49236 to 0.49792, saving model to best_model.h5\n",
      "Epoch 18/85\n",
      "53/53 [==============================] - 44s 825ms/step - loss: 1.5017 - accuracy: 0.3922 - val_loss: 1.3971 - val_accuracy: 0.4972\n",
      "\n",
      "Epoch 00018: val_accuracy did not improve from 0.49792\n",
      "Epoch 19/85\n",
      "53/53 [==============================] - 41s 778ms/step - loss: 1.4758 - accuracy: 0.4014 - val_loss: 1.4049 - val_accuracy: 0.4944\n",
      "\n",
      "Epoch 00019: val_accuracy did not improve from 0.49792\n",
      "Epoch 20/85\n",
      "53/53 [==============================] - 44s 829ms/step - loss: 1.4410 - accuracy: 0.4258 - val_loss: 1.3527 - val_accuracy: 0.5132\n",
      "\n",
      "Epoch 00020: val_accuracy improved from 0.49792 to 0.51319, saving model to best_model.h5\n",
      "Epoch 21/85\n",
      "53/53 [==============================] - 44s 829ms/step - loss: 1.4343 - accuracy: 0.4132 - val_loss: 1.3608 - val_accuracy: 0.4979\n",
      "\n",
      "Epoch 00021: val_accuracy did not improve from 0.51319\n",
      "Epoch 22/85\n",
      "53/53 [==============================] - 43s 809ms/step - loss: 1.4351 - accuracy: 0.4144 - val_loss: 1.3729 - val_accuracy: 0.4979\n",
      "\n",
      "Epoch 00022: val_accuracy did not improve from 0.51319\n",
      "Epoch 23/85\n",
      "53/53 [==============================] - 43s 805ms/step - loss: 1.4210 - accuracy: 0.4204 - val_loss: 1.3525 - val_accuracy: 0.5056\n",
      "\n",
      "Epoch 00023: val_accuracy did not improve from 0.51319\n",
      "Epoch 24/85\n",
      "53/53 [==============================] - 43s 800ms/step - loss: 1.4113 - accuracy: 0.4462 - val_loss: 1.3457 - val_accuracy: 0.5083\n",
      "\n",
      "Epoch 00024: val_accuracy did not improve from 0.51319\n",
      "Epoch 25/85\n",
      "53/53 [==============================] - 43s 801ms/step - loss: 1.4415 - accuracy: 0.4316 - val_loss: 1.4466 - val_accuracy: 0.4472\n",
      "\n",
      "Epoch 00025: val_accuracy did not improve from 0.51319\n",
      "Epoch 26/85\n",
      "53/53 [==============================] - 42s 790ms/step - loss: 1.4183 - accuracy: 0.4338 - val_loss: 1.3520 - val_accuracy: 0.5090\n",
      "\n",
      "Epoch 00026: val_accuracy did not improve from 0.51319\n",
      "Epoch 27/85\n",
      "53/53 [==============================] - 44s 829ms/step - loss: 1.4110 - accuracy: 0.4496 - val_loss: 1.3288 - val_accuracy: 0.5236\n",
      "\n",
      "Epoch 00027: val_accuracy improved from 0.51319 to 0.52361, saving model to best_model.h5\n",
      "Epoch 28/85\n",
      "53/53 [==============================] - 43s 802ms/step - loss: 1.4304 - accuracy: 0.4364 - val_loss: 1.3179 - val_accuracy: 0.5229\n",
      "\n",
      "Epoch 00028: val_accuracy did not improve from 0.52361\n",
      "Epoch 29/85\n",
      "53/53 [==============================] - 44s 829ms/step - loss: 1.4067 - accuracy: 0.4469 - val_loss: 1.2612 - val_accuracy: 0.5424\n",
      "\n",
      "Epoch 00029: val_accuracy improved from 0.52361 to 0.54236, saving model to best_model.h5\n",
      "Epoch 30/85\n",
      "53/53 [==============================] - 42s 794ms/step - loss: 1.3581 - accuracy: 0.4694 - val_loss: 1.3438 - val_accuracy: 0.5153\n",
      "\n",
      "Epoch 00030: val_accuracy did not improve from 0.54236\n",
      "Epoch 31/85\n",
      "53/53 [==============================] - 43s 803ms/step - loss: 1.3657 - accuracy: 0.4493 - val_loss: 1.2891 - val_accuracy: 0.5236\n",
      "\n",
      "Epoch 00031: val_accuracy did not improve from 0.54236\n",
      "Epoch 32/85\n",
      "53/53 [==============================] - 44s 820ms/step - loss: 1.3831 - accuracy: 0.4595 - val_loss: 1.2516 - val_accuracy: 0.5396\n",
      "\n",
      "Epoch 00032: val_accuracy did not improve from 0.54236\n",
      "Epoch 33/85\n",
      "53/53 [==============================] - 42s 791ms/step - loss: 1.3525 - accuracy: 0.4742 - val_loss: 1.2584 - val_accuracy: 0.5285\n",
      "\n",
      "Epoch 00033: val_accuracy did not improve from 0.54236\n",
      "Epoch 34/85\n",
      "53/53 [==============================] - 45s 850ms/step - loss: 1.3206 - accuracy: 0.4861 - val_loss: 1.2108 - val_accuracy: 0.5437\n",
      "\n",
      "Epoch 00034: val_accuracy improved from 0.54236 to 0.54375, saving model to best_model.h5\n",
      "Epoch 35/85\n",
      "53/53 [==============================] - 43s 808ms/step - loss: 1.3030 - accuracy: 0.5004 - val_loss: 1.2745 - val_accuracy: 0.5326\n",
      "\n",
      "Epoch 00035: val_accuracy did not improve from 0.54375\n",
      "Epoch 36/85\n",
      "53/53 [==============================] - 42s 797ms/step - loss: 1.2903 - accuracy: 0.5105 - val_loss: 1.2618 - val_accuracy: 0.5326\n",
      "\n",
      "Epoch 00036: val_accuracy did not improve from 0.54375\n",
      "Epoch 37/85\n",
      "53/53 [==============================] - 43s 807ms/step - loss: 1.2651 - accuracy: 0.5131 - val_loss: 1.2719 - val_accuracy: 0.5201\n",
      "\n",
      "Epoch 00037: val_accuracy did not improve from 0.54375\n",
      "Epoch 38/85\n",
      "53/53 [==============================] - 43s 806ms/step - loss: 1.3006 - accuracy: 0.5172 - val_loss: 1.3149 - val_accuracy: 0.4868\n",
      "\n",
      "Epoch 00038: val_accuracy did not improve from 0.54375\n",
      "Epoch 39/85\n"
     ]
    },
    {
     "name": "stdout",
     "output_type": "stream",
     "text": [
      "53/53 [==============================] - 42s 790ms/step - loss: 1.3057 - accuracy: 0.5095 - val_loss: 1.2508 - val_accuracy: 0.5236\n",
      "\n",
      "Epoch 00039: val_accuracy did not improve from 0.54375\n",
      "Epoch 40/85\n",
      "53/53 [==============================] - 42s 791ms/step - loss: 1.2778 - accuracy: 0.5100 - val_loss: 1.1658 - val_accuracy: 0.5701\n",
      "\n",
      "Epoch 00040: val_accuracy improved from 0.54375 to 0.57014, saving model to best_model.h5\n",
      "Epoch 41/85\n",
      "53/53 [==============================] - 43s 799ms/step - loss: 1.2343 - accuracy: 0.5205 - val_loss: 1.1645 - val_accuracy: 0.5604\n",
      "\n",
      "Epoch 00041: val_accuracy did not improve from 0.57014\n",
      "Epoch 42/85\n",
      "53/53 [==============================] - 43s 805ms/step - loss: 1.2396 - accuracy: 0.5306 - val_loss: 1.3044 - val_accuracy: 0.5063\n",
      "\n",
      "Epoch 00042: val_accuracy did not improve from 0.57014\n",
      "Epoch 43/85\n",
      "53/53 [==============================] - 42s 796ms/step - loss: 1.2286 - accuracy: 0.5333 - val_loss: 1.1498 - val_accuracy: 0.5896\n",
      "\n",
      "Epoch 00043: val_accuracy improved from 0.57014 to 0.58958, saving model to best_model.h5\n",
      "Epoch 44/85\n",
      "53/53 [==============================] - 43s 805ms/step - loss: 1.1970 - accuracy: 0.5482 - val_loss: 1.1709 - val_accuracy: 0.5625\n",
      "\n",
      "Epoch 00044: val_accuracy did not improve from 0.58958\n",
      "Epoch 45/85\n",
      "53/53 [==============================] - 44s 819ms/step - loss: 1.1827 - accuracy: 0.5670 - val_loss: 1.1787 - val_accuracy: 0.5549\n",
      "\n",
      "Epoch 00045: val_accuracy did not improve from 0.58958\n",
      "Epoch 46/85\n",
      "53/53 [==============================] - 43s 803ms/step - loss: 1.2061 - accuracy: 0.5413 - val_loss: 1.1309 - val_accuracy: 0.5771\n",
      "\n",
      "Epoch 00046: val_accuracy did not improve from 0.58958\n",
      "Epoch 47/85\n",
      "53/53 [==============================] - 42s 792ms/step - loss: 1.1758 - accuracy: 0.5750 - val_loss: 1.2794 - val_accuracy: 0.5292\n",
      "\n",
      "Epoch 00047: val_accuracy did not improve from 0.58958\n",
      "Epoch 48/85\n",
      "53/53 [==============================] - 44s 822ms/step - loss: 1.1969 - accuracy: 0.5517 - val_loss: 1.1226 - val_accuracy: 0.5931\n",
      "\n",
      "Epoch 00048: val_accuracy improved from 0.58958 to 0.59306, saving model to best_model.h5\n",
      "Epoch 49/85\n",
      "53/53 [==============================] - 42s 781ms/step - loss: 1.1600 - accuracy: 0.5562 - val_loss: 1.2133 - val_accuracy: 0.5437\n",
      "\n",
      "Epoch 00049: val_accuracy did not improve from 0.59306\n",
      "Epoch 50/85\n",
      "53/53 [==============================] - 42s 783ms/step - loss: 1.1786 - accuracy: 0.5601 - val_loss: 1.1696 - val_accuracy: 0.5521\n",
      "\n",
      "Epoch 00050: val_accuracy did not improve from 0.59306\n",
      "Epoch 51/85\n",
      "53/53 [==============================] - 42s 795ms/step - loss: 1.1493 - accuracy: 0.5642 - val_loss: 1.1558 - val_accuracy: 0.5562\n",
      "\n",
      "Epoch 00051: val_accuracy did not improve from 0.59306\n",
      "Epoch 52/85\n",
      "53/53 [==============================] - 42s 794ms/step - loss: 1.1285 - accuracy: 0.5886 - val_loss: 1.2338 - val_accuracy: 0.5181\n",
      "\n",
      "Epoch 00052: val_accuracy did not improve from 0.59306\n",
      "Epoch 53/85\n",
      "53/53 [==============================] - 42s 784ms/step - loss: 1.1686 - accuracy: 0.5567 - val_loss: 1.3016 - val_accuracy: 0.5167\n",
      "\n",
      "Epoch 00053: val_accuracy did not improve from 0.59306\n",
      "Epoch 54/85\n",
      "53/53 [==============================] - 43s 799ms/step - loss: 1.1224 - accuracy: 0.5736 - val_loss: 1.1515 - val_accuracy: 0.5590\n",
      "\n",
      "Epoch 00054: val_accuracy did not improve from 0.59306\n",
      "Epoch 55/85\n",
      "53/53 [==============================] - 44s 818ms/step - loss: 1.1137 - accuracy: 0.5862 - val_loss: 1.1101 - val_accuracy: 0.5944\n",
      "\n",
      "Epoch 00055: val_accuracy improved from 0.59306 to 0.59444, saving model to best_model.h5\n",
      "Epoch 56/85\n",
      "53/53 [==============================] - 50s 949ms/step - loss: 1.1300 - accuracy: 0.5793 - val_loss: 1.1160 - val_accuracy: 0.5778\n",
      "\n",
      "Epoch 00056: val_accuracy did not improve from 0.59444\n",
      "Epoch 57/85\n",
      "53/53 [==============================] - 61s 1s/step - loss: 1.1238 - accuracy: 0.5908 - val_loss: 1.2416 - val_accuracy: 0.5292\n",
      "\n",
      "Epoch 00057: val_accuracy did not improve from 0.59444\n",
      "Epoch 58/85\n",
      "53/53 [==============================] - 61s 1s/step - loss: 1.0960 - accuracy: 0.5872 - val_loss: 1.1024 - val_accuracy: 0.5993\n",
      "\n",
      "Epoch 00058: val_accuracy improved from 0.59444 to 0.59931, saving model to best_model.h5\n",
      "Epoch 59/85\n",
      "53/53 [==============================] - 60s 1s/step - loss: 1.0735 - accuracy: 0.5979 - val_loss: 1.1165 - val_accuracy: 0.5778\n",
      "\n",
      "Epoch 00059: val_accuracy did not improve from 0.59931\n",
      "Epoch 60/85\n",
      "53/53 [==============================] - 60s 1s/step - loss: 1.0667 - accuracy: 0.6021 - val_loss: 1.0904 - val_accuracy: 0.5882\n",
      "\n",
      "Epoch 00060: val_accuracy did not improve from 0.59931\n",
      "Epoch 61/85\n",
      "53/53 [==============================] - 61s 1s/step - loss: 1.0961 - accuracy: 0.5919 - val_loss: 1.1652 - val_accuracy: 0.5625\n",
      "\n",
      "Epoch 00061: val_accuracy did not improve from 0.59931\n",
      "Epoch 62/85\n",
      "53/53 [==============================] - 60s 1s/step - loss: 1.0637 - accuracy: 0.6175 - val_loss: 1.1509 - val_accuracy: 0.5694\n",
      "\n",
      "Epoch 00062: val_accuracy did not improve from 0.59931\n",
      "Epoch 63/85\n",
      "53/53 [==============================] - 60s 1s/step - loss: 1.0670 - accuracy: 0.6052 - val_loss: 1.1187 - val_accuracy: 0.5826\n",
      "\n",
      "Epoch 00063: val_accuracy did not improve from 0.59931\n",
      "Epoch 64/85\n",
      "53/53 [==============================] - 60s 1s/step - loss: 1.0452 - accuracy: 0.6230 - val_loss: 1.0625 - val_accuracy: 0.6062\n",
      "\n",
      "Epoch 00064: val_accuracy improved from 0.59931 to 0.60625, saving model to best_model.h5\n",
      "Epoch 65/85\n",
      "53/53 [==============================] - 60s 1s/step - loss: 1.0463 - accuracy: 0.6072 - val_loss: 1.1006 - val_accuracy: 0.5958\n",
      "\n",
      "Epoch 00065: val_accuracy did not improve from 0.60625\n",
      "Epoch 66/85\n",
      "53/53 [==============================] - 61s 1s/step - loss: 1.0296 - accuracy: 0.6223 - val_loss: 1.0926 - val_accuracy: 0.5847\n",
      "\n",
      "Epoch 00066: val_accuracy did not improve from 0.60625\n",
      "Epoch 67/85\n",
      "53/53 [==============================] - 61s 1s/step - loss: 1.0328 - accuracy: 0.6192 - val_loss: 1.0690 - val_accuracy: 0.6104\n",
      "\n",
      "Epoch 00067: val_accuracy improved from 0.60625 to 0.61042, saving model to best_model.h5\n",
      "Epoch 68/85\n",
      "53/53 [==============================] - 61s 1s/step - loss: 1.0654 - accuracy: 0.6063 - val_loss: 1.0960 - val_accuracy: 0.5965\n",
      "\n",
      "Epoch 00068: val_accuracy did not improve from 0.61042\n",
      "Epoch 69/85\n",
      "53/53 [==============================] - 60s 1s/step - loss: 0.9978 - accuracy: 0.6328 - val_loss: 1.1857 - val_accuracy: 0.5653\n",
      "\n",
      "Epoch 00069: val_accuracy did not improve from 0.61042\n",
      "Epoch 70/85\n",
      "53/53 [==============================] - 60s 1s/step - loss: 0.9950 - accuracy: 0.6330 - val_loss: 1.0483 - val_accuracy: 0.6181\n",
      "\n",
      "Epoch 00070: val_accuracy improved from 0.61042 to 0.61806, saving model to best_model.h5\n",
      "Epoch 71/85\n",
      "53/53 [==============================] - 61s 1s/step - loss: 1.0118 - accuracy: 0.6281 - val_loss: 1.1821 - val_accuracy: 0.5694\n",
      "\n",
      "Epoch 00071: val_accuracy did not improve from 0.61806\n",
      "Epoch 72/85\n",
      "53/53 [==============================] - 61s 1s/step - loss: 1.0015 - accuracy: 0.6422 - val_loss: 1.0742 - val_accuracy: 0.6083\n",
      "\n",
      "Epoch 00072: val_accuracy did not improve from 0.61806\n",
      "Epoch 73/85\n",
      "53/53 [==============================] - 45s 831ms/step - loss: 0.9915 - accuracy: 0.6375 - val_loss: 1.0259 - val_accuracy: 0.6194\n",
      "\n",
      "Epoch 00073: val_accuracy improved from 0.61806 to 0.61944, saving model to best_model.h5\n",
      "Epoch 74/85\n",
      "53/53 [==============================] - 43s 801ms/step - loss: 0.9742 - accuracy: 0.6471 - val_loss: 1.1756 - val_accuracy: 0.5715\n",
      "\n",
      "Epoch 00074: val_accuracy did not improve from 0.61944\n",
      "Epoch 75/85\n",
      "53/53 [==============================] - 42s 782ms/step - loss: 1.0016 - accuracy: 0.6387 - val_loss: 1.1592 - val_accuracy: 0.5861\n",
      "\n",
      "Epoch 00075: val_accuracy did not improve from 0.61944\n",
      "Epoch 76/85\n",
      "53/53 [==============================] - 41s 771ms/step - loss: 0.9708 - accuracy: 0.6450 - val_loss: 1.1795 - val_accuracy: 0.5674\n",
      "\n",
      "Epoch 00076: val_accuracy did not improve from 0.61944\n",
      "Epoch 77/85\n",
      "53/53 [==============================] - 42s 796ms/step - loss: 0.9601 - accuracy: 0.6652 - val_loss: 1.3493 - val_accuracy: 0.5403\n",
      "\n",
      "Epoch 00077: val_accuracy did not improve from 0.61944\n",
      "Epoch 78/85\n",
      "53/53 [==============================] - 42s 780ms/step - loss: 0.9455 - accuracy: 0.6486 - val_loss: 1.0731 - val_accuracy: 0.6083\n"
     ]
    },
    {
     "name": "stdout",
     "output_type": "stream",
     "text": [
      "\n",
      "Epoch 00078: val_accuracy did not improve from 0.61944\n",
      "Epoch 79/85\n",
      "53/53 [==============================] - 41s 776ms/step - loss: 0.9499 - accuracy: 0.6489 - val_loss: 1.1928 - val_accuracy: 0.5889\n",
      "\n",
      "Epoch 00079: val_accuracy did not improve from 0.61944\n",
      "Epoch 80/85\n",
      "53/53 [==============================] - 41s 772ms/step - loss: 0.9296 - accuracy: 0.6614 - val_loss: 1.1745 - val_accuracy: 0.5660\n",
      "\n",
      "Epoch 00080: val_accuracy did not improve from 0.61944\n",
      "Epoch 81/85\n",
      "53/53 [==============================] - 44s 819ms/step - loss: 0.9472 - accuracy: 0.6531 - val_loss: 1.0670 - val_accuracy: 0.6146\n",
      "\n",
      "Epoch 00081: val_accuracy did not improve from 0.61944\n",
      "Epoch 82/85\n",
      "53/53 [==============================] - 43s 801ms/step - loss: 0.9125 - accuracy: 0.6575 - val_loss: 1.0579 - val_accuracy: 0.6167\n",
      "\n",
      "Epoch 00082: val_accuracy did not improve from 0.61944\n",
      "Epoch 83/85\n",
      "53/53 [==============================] - 41s 778ms/step - loss: 0.9163 - accuracy: 0.6688 - val_loss: 1.0235 - val_accuracy: 0.6326\n",
      "\n",
      "Epoch 00083: val_accuracy improved from 0.61944 to 0.63264, saving model to best_model.h5\n",
      "Epoch 84/85\n",
      "53/53 [==============================] - 48s 904ms/step - loss: 0.9166 - accuracy: 0.6619 - val_loss: 1.0991 - val_accuracy: 0.5965\n",
      "\n",
      "Epoch 00084: val_accuracy did not improve from 0.63264\n",
      "Epoch 85/85\n",
      "53/53 [==============================] - 44s 830ms/step - loss: 0.9026 - accuracy: 0.6702 - val_loss: 1.0578 - val_accuracy: 0.6250\n",
      "\n",
      "Epoch 00085: val_accuracy did not improve from 0.63264\n"
     ]
    }
   ],
   "source": [
    "# Version with different data augmentation to check accuracy\n",
    "\n",
    "# Create data generators\n",
    "train_datagen = ImageDataGenerator(rescale=1. / 255,\n",
    "                                   shear_range=0.2,\n",
    "                                   zoom_range=0.2,\n",
    "                                   horizontal_flip=True,\n",
    "                                   fill_mode='nearest')\n",
    "test_datagen = ImageDataGenerator(rescale=1. / 255)\n",
    "\n",
    "# Create sets\n",
    "training_set = train_datagen.flow_from_directory('train',\n",
    "                                                 target_size=(img_rows, img_cols),\n",
    "                                                 batch_size=batch_size,\n",
    "                                                 class_mode='categorical')\n",
    "\n",
    "\n",
    "test_set = test_datagen.flow_from_directory('val',\n",
    "                                            target_size=(img_rows, img_cols),\n",
    "                                            batch_size=batch_size, shuffle = False,\n",
    "                                            class_mode='categorical')\n",
    "\n",
    "# Define model\n",
    "model50 = model_with_dropout()\n",
    "# Fit model\n",
    "history = model50.fit_generator(training_set, \n",
    "                              steps_per_epoch=len(training_set),\n",
    "                              validation_data=test_set, \n",
    "                              validation_steps=len(test_set), \n",
    "                              epochs= 85, callbacks=[ES, MC])"
   ]
  },
  {
   "cell_type": "code",
   "execution_count": 45,
   "metadata": {},
   "outputs": [
    {
     "name": "stdout",
     "output_type": "stream",
     "text": [
      "Accuracy: 62.5000\n"
     ]
    }
   ],
   "source": [
    "# Evaluate model\n",
    "_, acc = model50.evaluate_generator(test_set, steps=len(test_set), verbose=0)\n",
    "print(\"Accuracy: %.4f\" % (acc * 100.0))"
   ]
  },
  {
   "cell_type": "code",
   "execution_count": 46,
   "metadata": {},
   "outputs": [
    {
     "data": {
      "image/png": "[encoded data removed]",
      "text/plain": [
       "<Figure size 720x360 with 2 Axes>"
      ]
     },
     "metadata": {
      "needs_background": "light"
     },
     "output_type": "display_data"
    }
   ],
   "source": [
    "# Build graphs\n",
    "summarize_diagnostics(history)"
   ]
  },
  {
   "cell_type": "markdown",
   "metadata": {},
   "source": [
    "<h4>Trained for 50 epochs and bigger size of pictures (224*224px)</h4>"
   ]
  },
  {
   "cell_type": "code",
   "execution_count": 73,
   "metadata": {},
   "outputs": [
    {
     "name": "stdout",
     "output_type": "stream",
     "text": [
      "Found 3360 images belonging to 6 classes.\n",
      "Found 1440 images belonging to 6 classes.\n",
      "Epoch 1/50\n",
      "53/53 [==============================] - 128s 2s/step - loss: 1.8221 - accuracy: 0.2036 - val_loss: 1.6638 - val_accuracy: 0.3354\n",
      "Epoch 2/50\n",
      "53/53 [==============================] - 128s 2s/step - loss: 1.6753 - accuracy: 0.2994 - val_loss: 1.5774 - val_accuracy: 0.3653\n",
      "Epoch 3/50\n",
      "53/53 [==============================] - 127s 2s/step - loss: 1.6048 - accuracy: 0.3506 - val_loss: 1.5210 - val_accuracy: 0.4354\n",
      "Epoch 4/50\n",
      "53/53 [==============================] - 130s 2s/step - loss: 1.5792 - accuracy: 0.3592 - val_loss: 1.4641 - val_accuracy: 0.4701\n",
      "Epoch 5/50\n",
      "53/53 [==============================] - 130s 2s/step - loss: 1.5374 - accuracy: 0.3857 - val_loss: 1.4301 - val_accuracy: 0.4715\n",
      "Epoch 6/50\n",
      "53/53 [==============================] - 128s 2s/step - loss: 1.5021 - accuracy: 0.3974 - val_loss: 1.4329 - val_accuracy: 0.4826\n",
      "Epoch 7/50\n",
      "53/53 [==============================] - 132s 2s/step - loss: 1.5005 - accuracy: 0.4010 - val_loss: 1.4086 - val_accuracy: 0.4917\n",
      "Epoch 8/50\n",
      "53/53 [==============================] - 127s 2s/step - loss: 1.4828 - accuracy: 0.4322 - val_loss: 1.3766 - val_accuracy: 0.4979\n",
      "Epoch 9/50\n",
      "53/53 [==============================] - 128s 2s/step - loss: 1.4529 - accuracy: 0.4382 - val_loss: 1.3733 - val_accuracy: 0.4910\n",
      "Epoch 10/50\n",
      "53/53 [==============================] - 128s 2s/step - loss: 1.4387 - accuracy: 0.4389 - val_loss: 1.3425 - val_accuracy: 0.4931\n",
      "Epoch 11/50\n",
      "53/53 [==============================] - 130s 2s/step - loss: 1.4007 - accuracy: 0.4593 - val_loss: 1.3517 - val_accuracy: 0.4868\n",
      "Epoch 12/50\n",
      "53/53 [==============================] - 130s 2s/step - loss: 1.4023 - accuracy: 0.4588 - val_loss: 1.3245 - val_accuracy: 0.5097\n",
      "Epoch 13/50\n",
      "53/53 [==============================] - 129s 2s/step - loss: 1.3733 - accuracy: 0.4783 - val_loss: 1.3284 - val_accuracy: 0.4986\n",
      "Epoch 14/50\n",
      "53/53 [==============================] - 131s 2s/step - loss: 1.3627 - accuracy: 0.4834 - val_loss: 1.2643 - val_accuracy: 0.5340\n",
      "Epoch 15/50\n",
      "53/53 [==============================] - 128s 2s/step - loss: 1.3481 - accuracy: 0.4928 - val_loss: 1.2734 - val_accuracy: 0.5431\n",
      "Epoch 16/50\n",
      "53/53 [==============================] - 128s 2s/step - loss: 1.3239 - accuracy: 0.5040 - val_loss: 1.2384 - val_accuracy: 0.5701\n",
      "Epoch 17/50\n",
      "53/53 [==============================] - 130s 2s/step - loss: 1.3705 - accuracy: 0.4756 - val_loss: 1.2070 - val_accuracy: 0.5618\n",
      "Epoch 18/50\n",
      "53/53 [==============================] - 130s 2s/step - loss: 1.2931 - accuracy: 0.5113 - val_loss: 1.2760 - val_accuracy: 0.5285\n",
      "Epoch 19/50\n",
      "53/53 [==============================] - 129s 2s/step - loss: 1.2608 - accuracy: 0.5131 - val_loss: 1.2062 - val_accuracy: 0.5688\n",
      "Epoch 20/50\n",
      "53/53 [==============================] - 129s 2s/step - loss: 1.2471 - accuracy: 0.5394 - val_loss: 1.2241 - val_accuracy: 0.5278\n",
      "Epoch 21/50\n",
      "53/53 [==============================] - 131s 2s/step - loss: 1.2580 - accuracy: 0.5264 - val_loss: 1.1461 - val_accuracy: 0.5854\n",
      "Epoch 22/50\n",
      "53/53 [==============================] - 131s 2s/step - loss: 1.2539 - accuracy: 0.5271 - val_loss: 1.1706 - val_accuracy: 0.5674\n",
      "Epoch 23/50\n",
      "53/53 [==============================] - 131s 2s/step - loss: 1.2159 - accuracy: 0.5442 - val_loss: 1.2003 - val_accuracy: 0.5639\n",
      "Epoch 24/50\n",
      "53/53 [==============================] - 129s 2s/step - loss: 1.2105 - accuracy: 0.5470 - val_loss: 1.0946 - val_accuracy: 0.6118\n",
      "Epoch 25/50\n",
      "53/53 [==============================] - 122s 2s/step - loss: 1.2184 - accuracy: 0.5442 - val_loss: 1.1331 - val_accuracy: 0.5861\n",
      "Epoch 26/50\n",
      "53/53 [==============================] - 116s 2s/step - loss: 1.2088 - accuracy: 0.5444 - val_loss: 1.1690 - val_accuracy: 0.5833\n",
      "Epoch 27/50\n",
      "53/53 [==============================] - 115s 2s/step - loss: 1.1293 - accuracy: 0.5819 - val_loss: 1.1936 - val_accuracy: 0.5604\n",
      "Epoch 28/50\n",
      "53/53 [==============================] - 116s 2s/step - loss: 1.1634 - accuracy: 0.5748 - val_loss: 1.1599 - val_accuracy: 0.5708\n",
      "Epoch 29/50\n",
      "53/53 [==============================] - 114s 2s/step - loss: 1.1772 - accuracy: 0.5762 - val_loss: 1.1123 - val_accuracy: 0.5944\n",
      "Epoch 30/50\n",
      "53/53 [==============================] - 115s 2s/step - loss: 1.1111 - accuracy: 0.5842 - val_loss: 1.1461 - val_accuracy: 0.5736\n",
      "Epoch 31/50\n",
      "53/53 [==============================] - 117s 2s/step - loss: 1.1046 - accuracy: 0.5870 - val_loss: 1.1003 - val_accuracy: 0.6028\n",
      "Epoch 32/50\n",
      "53/53 [==============================] - 120s 2s/step - loss: 1.1386 - accuracy: 0.5859 - val_loss: 1.1772 - val_accuracy: 0.5757\n",
      "Epoch 33/50\n",
      "53/53 [==============================] - 121s 2s/step - loss: 1.0792 - accuracy: 0.6073 - val_loss: 1.1023 - val_accuracy: 0.6083\n",
      "Epoch 34/50\n",
      "53/53 [==============================] - 119s 2s/step - loss: 1.1040 - accuracy: 0.6021 - val_loss: 1.1436 - val_accuracy: 0.5813\n",
      "Epoch 35/50\n",
      "53/53 [==============================] - 115s 2s/step - loss: 1.0721 - accuracy: 0.6096 - val_loss: 1.1421 - val_accuracy: 0.5944\n",
      "Epoch 36/50\n",
      "53/53 [==============================] - 117s 2s/step - loss: 1.0771 - accuracy: 0.6096 - val_loss: 1.1018 - val_accuracy: 0.5958\n",
      "Epoch 37/50\n",
      "53/53 [==============================] - 115s 2s/step - loss: 1.0407 - accuracy: 0.6134 - val_loss: 1.0852 - val_accuracy: 0.6069\n",
      "Epoch 38/50\n",
      "53/53 [==============================] - 116s 2s/step - loss: 1.0232 - accuracy: 0.6183 - val_loss: 1.0878 - val_accuracy: 0.6076\n",
      "Epoch 39/50\n",
      "53/53 [==============================] - 114s 2s/step - loss: 1.0190 - accuracy: 0.6356 - val_loss: 1.0954 - val_accuracy: 0.6035\n",
      "Epoch 40/50\n",
      "53/53 [==============================] - 114s 2s/step - loss: 1.0401 - accuracy: 0.6070 - val_loss: 1.1851 - val_accuracy: 0.5701\n",
      "Epoch 41/50\n",
      "53/53 [==============================] - 114s 2s/step - loss: 1.0343 - accuracy: 0.6098 - val_loss: 1.1520 - val_accuracy: 0.5854\n",
      "Epoch 42/50\n",
      "53/53 [==============================] - 114s 2s/step - loss: 1.0060 - accuracy: 0.6369 - val_loss: 1.0327 - val_accuracy: 0.6361\n",
      "Epoch 43/50\n",
      "53/53 [==============================] - 119s 2s/step - loss: 1.0217 - accuracy: 0.6305 - val_loss: 1.1048 - val_accuracy: 0.6104\n",
      "Epoch 44/50\n",
      "53/53 [==============================] - 115s 2s/step - loss: 1.0124 - accuracy: 0.6353 - val_loss: 1.0982 - val_accuracy: 0.5965\n",
      "Epoch 45/50\n",
      "53/53 [==============================] - 115s 2s/step - loss: 0.9978 - accuracy: 0.6304 - val_loss: 1.1119 - val_accuracy: 0.5917\n",
      "Epoch 46/50\n",
      "53/53 [==============================] - 117s 2s/step - loss: 1.0007 - accuracy: 0.6297 - val_loss: 1.0744 - val_accuracy: 0.6069\n",
      "Epoch 47/50\n",
      "53/53 [==============================] - 120s 2s/step - loss: 0.9884 - accuracy: 0.6436 - val_loss: 1.0633 - val_accuracy: 0.6076\n",
      "Epoch 48/50\n",
      "53/53 [==============================] - 122s 2s/step - loss: 0.9383 - accuracy: 0.6671 - val_loss: 1.2851 - val_accuracy: 0.5708\n",
      "Epoch 49/50\n",
      "53/53 [==============================] - 115s 2s/step - loss: 0.9409 - accuracy: 0.6485 - val_loss: 1.1903 - val_accuracy: 0.5868\n",
      "Epoch 50/50\n",
      "53/53 [==============================] - 115s 2s/step - loss: 0.9643 - accuracy: 0.6488 - val_loss: 1.1129 - val_accuracy: 0.5986\n"
     ]
    }
   ],
   "source": [
    "# Let's try to change pictures size from 128 to 224 and check accuracy\n",
    "# Create data generators\n",
    "train_datagen = ImageDataGenerator(rescale=1. / 255,\n",
    "                                   shear_range=0.2,\n",
    "                                   zoom_range=0.2,\n",
    "                                   horizontal_flip=True,\n",
    "                                   fill_mode='nearest')\n",
    "test_datagen = ImageDataGenerator(rescale=1. / 255)\n",
    "\n",
    "img_rows = 224\n",
    "img_cols = 224\n",
    "# Create sets\n",
    "training_set = train_datagen.flow_from_directory('train',\n",
    "                                                 target_size=(img_rows, img_cols),\n",
    "                                                 batch_size=batch_size,\n",
    "                                                 class_mode='categorical')\n",
    "\n",
    "\n",
    "test_set = test_datagen.flow_from_directory('val',\n",
    "                                            target_size=(img_rows, img_cols),\n",
    "                                            batch_size=batch_size, shuffle = False,\n",
    "                                            class_mode='categorical')\n",
    "\n",
    "# Define model\n",
    "model224 = model_with_dropout()\n",
    "# Fit model\n",
    "history = model224.fit_generator(training_set, \n",
    "                              steps_per_epoch=len(training_set),\n",
    "                              validation_data=test_set, \n",
    "                              validation_steps=len(test_set), \n",
    "                              epochs= 85, callbacks=[ES, MC])"
   ]
  },
  {
   "cell_type": "code",
   "execution_count": 74,
   "metadata": {},
   "outputs": [
    {
     "name": "stdout",
     "output_type": "stream",
     "text": [
      "Accuracy: 59.8611\n"
     ]
    }
   ],
   "source": [
    "# Evaluate model\n",
    "_, acc = model224.evaluate_generator(test_set, steps=len(test_set), verbose=0)\n",
    "print(\"Accuracy: %.4f\" % (acc * 100.0))"
   ]
  },
  {
   "cell_type": "code",
   "execution_count": 75,
   "metadata": {},
   "outputs": [
    {
     "data": {
      "image/png": "[encoded data removed]",
      "text/plain": [
       "<Figure size 720x360 with 2 Axes>"
      ]
     },
     "metadata": {
      "needs_background": "light"
     },
     "output_type": "display_data"
    }
   ],
   "source": [
    "# Build graphs\n",
    "summarize_diagnostics(history)"
   ]
  },
  {
   "cell_type": "code",
   "execution_count": null,
   "metadata": {},
   "outputs": [],
   "source": []
  },
  {
   "cell_type": "code",
   "execution_count": null,
   "metadata": {},
   "outputs": [],
   "source": []
  },
  {
   "cell_type": "markdown",
   "metadata": {},
   "source": [
    "<h3>Model with a bit different architecture of VGG blocks, dropout, data augmentation</h3>\n",
    "<h4>Trained for 35 epochs and small size of pictures (128*128px)</h4>"
   ]
  },
  {
   "cell_type": "code",
   "execution_count": 4,
   "metadata": {},
   "outputs": [],
   "source": []
  },
  {
   "cell_type": "code",
   "execution_count": null,
   "metadata": {},
   "outputs": [],
   "source": [
    "# Let's try out a bit different architecture with VGG blocks"
   ]
  },
  {
   "cell_type": "code",
   "execution_count": 47,
   "metadata": {},
   "outputs": [],
   "source": [
    "# Define CNN model\n",
    "img_rows = 128\n",
    "img_cols = 128\n",
    "def model_blocks():\n",
    "    #reset_random_seeds()\n",
    "    model = Sequential()\n",
    "   \n",
    "    model.add(Conv2D(64, (3, 3), activation='relu', padding='same', input_shape=(img_rows, img_cols, 3)))\n",
    "    model.add(Conv2D(64, (3, 3), activation='relu',padding='same'))\n",
    "    model.add(MaxPooling2D((2, 2), strides=(2,2)))\n",
    "   \n",
    "   \n",
    "    model.add(Conv2D(128, (3, 3), activation='relu', padding='same'))\n",
    "\n",
    "    model.add(Conv2D(128, (3, 3), activation='relu', padding='same'))\n",
    "    model.add(MaxPooling2D((2, 2), strides=(2,2)))\n",
    "    \n",
    "    \n",
    "    model.add(Conv2D(256, (3, 3), activation='relu', padding='same'))\n",
    "\n",
    "    model.add(Conv2D(256, (3, 3), activation='relu', padding='same'))\n",
    "    model.add(MaxPooling2D((2, 2), strides=(2,2)))\n",
    "    \n",
    "    \n",
    "   \n",
    "    model.add(Flatten())\n",
    "    model.add(Dense(256, activation='relu', name='fc1'))\n",
    "    model.add(Dense(128, activation='relu', name='fc2'))\n",
    "    model.add(Dense(6, activation='softmax', name='output'))\n",
    "    # Compilation of a model\n",
    "    opt = SGD(lr=0.001, momentum=0.9) # Gradient descent (with momentum) optimizer.\n",
    "    model.compile(optimizer=opt, loss='categorical_crossentropy', metrics=['accuracy'])\n",
    "    return model"
   ]
  },
  {
   "cell_type": "code",
   "execution_count": 6,
   "metadata": {},
   "outputs": [
    {
     "ename": "NameError",
     "evalue": "name 'batch_size' is not defined",
     "output_type": "error",
     "traceback": [
      "\u001b[1;31m---------------------------------------------------------------------------\u001b[0m",
      "\u001b[1;31mNameError\u001b[0m                                 Traceback (most recent call last)",
      "\u001b[1;32m<ipython-input-6-ce13e2e049af>\u001b[0m in \u001b[0;36m<module>\u001b[1;34m\u001b[0m\n\u001b[0;32m     12\u001b[0m training_set = train_datagen.flow_from_directory('train',\n\u001b[0;32m     13\u001b[0m                                                  \u001b[0mtarget_size\u001b[0m\u001b[1;33m=\u001b[0m\u001b[1;33m(\u001b[0m\u001b[0mimg_rows\u001b[0m\u001b[1;33m,\u001b[0m \u001b[0mimg_cols\u001b[0m\u001b[1;33m)\u001b[0m\u001b[1;33m,\u001b[0m\u001b[1;33m\u001b[0m\u001b[1;33m\u001b[0m\u001b[0m\n\u001b[1;32m---> 14\u001b[1;33m                                                  \u001b[0mbatch_size\u001b[0m\u001b[1;33m=\u001b[0m\u001b[0mbatch_size\u001b[0m\u001b[1;33m,\u001b[0m\u001b[1;33m\u001b[0m\u001b[1;33m\u001b[0m\u001b[0m\n\u001b[0m\u001b[0;32m     15\u001b[0m                                                  class_mode='categorical')\n\u001b[0;32m     16\u001b[0m \u001b[1;33m\u001b[0m\u001b[0m\n",
      "\u001b[1;31mNameError\u001b[0m: name 'batch_size' is not defined"
     ]
    }
   ],
   "source": [
    "# Create data generators\n",
    "train_datagen = ImageDataGenerator(rescale=1. / 255,\n",
    "                                   shear_range=0.2,\n",
    "                                   zoom_range=0.2,\n",
    "                                   horizontal_flip=True,\n",
    "                                   fill_mode='nearest')\n",
    "test_datagen = ImageDataGenerator(rescale=1. / 255)\n",
    "\n",
    "# Create sets\n",
    "training_set = train_datagen.flow_from_directory('train',\n",
    "                                                 target_size=(img_rows, img_cols),\n",
    "                                                 batch_size=batch_size,\n",
    "                                                 class_mode='categorical')\n",
    "\n",
    "\n",
    "test_set = test_datagen.flow_from_directory('val',\n",
    "                                            target_size=(img_rows, img_cols),\n",
    "                                            batch_size=batch_size, shuffle = False,\n",
    "                                            class_mode='categorical')\n",
    "\n",
    "# Define model\n",
    "model_blocks = model_blocks()\n",
    "# Fit model\n",
    "history = model_blocks.fit_generator(training_set, \n",
    "                              steps_per_epoch=len(training_set),\n",
    "                              validation_data=test_set, \n",
    "                              validation_steps=len(test_set), \n",
    "                              epochs= 35)"
   ]
  },
  {
   "cell_type": "code",
   "execution_count": 70,
   "metadata": {},
   "outputs": [
    {
     "name": "stdout",
     "output_type": "stream",
     "text": [
      "Accuracy: 57.6389\n"
     ]
    }
   ],
   "source": [
    "# Evaluate model\n",
    "_, acc = model_blocks.evaluate_generator(test_set, steps=len(test_set), verbose=0)\n",
    "print(\"Accuracy: %.4f\" % (acc * 100.0))"
   ]
  },
  {
   "cell_type": "code",
   "execution_count": 71,
   "metadata": {},
   "outputs": [
    {
     "data": {
      "image/png": "[encoded data removed]",
      "text/plain": [
       "<Figure size 720x360 with 2 Axes>"
      ]
     },
     "metadata": {
      "needs_background": "light"
     },
     "output_type": "display_data"
    }
   ],
   "source": [
    "# Build graphs\n",
    "summarize_diagnostics(history)"
   ]
  },
  {
   "cell_type": "markdown",
   "metadata": {},
   "source": [
    "<h3>Model VGG16</h3>"
   ]
  },
  {
   "cell_type": "code",
   "execution_count": 59,
   "metadata": {},
   "outputs": [],
   "source": [
    "\n",
    "img_rows = 224\n",
    "img_cols = 224\n",
    "def VGG16():\n",
    "    model = Sequential()\n",
    "    model.add(Conv2D(input_shape=(img_rows,img_cols,3),filters=64, kernel_size=(3,3),padding=\"same\", activation=\"relu\"))\n",
    "    model.add(Conv2D(filters=64,kernel_size=(3,3),padding=\"same\", activation=\"relu\"))\n",
    "    model.add(MaxPooling2D(pool_size=(2,2),strides=(2,2)))\n",
    "    \n",
    "    model.add(Conv2D(filters=128, kernel_size=(3,3), padding=\"same\", activation=\"relu\"))\n",
    "    model.add(Conv2D(filters=128, kernel_size=(3,3), padding=\"same\", activation=\"relu\"))\n",
    "    model.add(MaxPooling2D(pool_size=(2,2),strides=(2,2)))\n",
    "    \n",
    "    model.add(Conv2D(filters=256, kernel_size=(3,3), padding=\"same\", activation=\"relu\"))\n",
    "    model.add(Conv2D(filters=256, kernel_size=(3,3), padding=\"same\", activation=\"relu\"))\n",
    "    model.add(Conv2D(filters=256, kernel_size=(3,3), padding=\"same\", activation=\"relu\"))\n",
    "    model.add(MaxPooling2D(pool_size=(2,2),strides=(2,2)))\n",
    "    \n",
    "    model.add(Conv2D(filters=512, kernel_size=(3,3), padding=\"same\", activation=\"relu\"))\n",
    "    model.add(Conv2D(filters=512, kernel_size=(3,3), padding=\"same\", activation=\"relu\"))\n",
    "    model.add(Conv2D(filters=512, kernel_size=(3,3), padding=\"same\", activation=\"relu\"))\n",
    "    model.add(MaxPooling2D(pool_size=(2,2),strides=(2,2)))\n",
    "    \n",
    "    model.add(Conv2D(filters=512, kernel_size=(3,3), padding=\"same\", activation=\"relu\"))\n",
    "    model.add(Conv2D(filters=512, kernel_size=(3,3), padding=\"same\", activation=\"relu\"))\n",
    "    model.add(Conv2D(filters=512, kernel_size=(3,3), padding=\"same\", activation=\"relu\"))\n",
    "    model.add(MaxPooling2D(pool_size=(2,2),strides=(2,2),name='vgg16'))\n",
    "   \n",
    "    model.add(Flatten(name='flatten'))\n",
    "    model.add(Dense(units=4096, activation=\"relu\", name='fc1'))\n",
    "    model.add(Dense(units=4096,activation=\"relu\", name='fc2'))\n",
    "    model.add(Dense(units=6, activation='softmax', name='output'))\n",
    "    \n",
    "    opt = Adam(lr=0.001)\n",
    "    model.compile(optimizer=opt, loss='categorical_crossentropy', metrics=['accuracy'])\n",
    "    return model"
   ]
  },
  {
   "cell_type": "code",
   "execution_count": null,
   "metadata": {},
   "outputs": [
    {
     "name": "stdout",
     "output_type": "stream",
     "text": [
      "Found 3360 images belonging to 6 classes.\n",
      "Found 1440 images belonging to 6 classes.\n",
      "Epoch 1/100\n",
      " 2/53 [>.............................] - ETA: 20:35 - loss: 4.7275 - accuracy: 0.1953"
     ]
    }
   ],
   "source": [
    "# Create sets\n",
    "training_set = train_datagen.flow_from_directory('train',\n",
    "                                                 target_size=(img_rows, img_cols),\n",
    "                                                 batch_size=batch_size,\n",
    "                                                 class_mode='categorical')\n",
    "\n",
    "\n",
    "test_set = test_datagen.flow_from_directory('val',\n",
    "                                            target_size=(img_rows, img_cols),\n",
    "                                            batch_size=batch_size, shuffle = False,\n",
    "                                            class_mode='categorical')\n",
    "\n",
    "# Define model\n",
    "model_vgg = VGG16()\n",
    "# Fit model\n",
    "history = model_vgg.fit_generator(training_set, \n",
    "                              steps_per_epoch=len(training_set),\n",
    "                              validation_data=test_set, \n",
    "                              validation_steps=len(test_set), \n",
    "                              epochs= 100, callbacks=[ES, MC])"
   ]
  },
  {
   "cell_type": "code",
   "execution_count": 52,
   "metadata": {},
   "outputs": [
    {
     "ename": "AttributeError",
     "evalue": "'function' object has no attribute 'evaluate_generator'",
     "output_type": "error",
     "traceback": [
      "\u001b[1;31m---------------------------------------------------------------------------\u001b[0m",
      "\u001b[1;31mAttributeError\u001b[0m                            Traceback (most recent call last)",
      "\u001b[1;32m<ipython-input-52-a8ef6e066d57>\u001b[0m in \u001b[0;36m<module>\u001b[1;34m\u001b[0m\n\u001b[0;32m      1\u001b[0m \u001b[1;31m# Evaluate model\u001b[0m\u001b[1;33m\u001b[0m\u001b[1;33m\u001b[0m\u001b[1;33m\u001b[0m\u001b[0m\n\u001b[1;32m----> 2\u001b[1;33m \u001b[0m_\u001b[0m\u001b[1;33m,\u001b[0m \u001b[0macc\u001b[0m \u001b[1;33m=\u001b[0m \u001b[0mmodel_blocks\u001b[0m\u001b[1;33m.\u001b[0m\u001b[0mevaluate_generator\u001b[0m\u001b[1;33m(\u001b[0m\u001b[0mtest_set\u001b[0m\u001b[1;33m,\u001b[0m \u001b[0msteps\u001b[0m\u001b[1;33m=\u001b[0m\u001b[0mlen\u001b[0m\u001b[1;33m(\u001b[0m\u001b[0mtest_set\u001b[0m\u001b[1;33m)\u001b[0m\u001b[1;33m,\u001b[0m \u001b[0mverbose\u001b[0m\u001b[1;33m=\u001b[0m\u001b[1;36m0\u001b[0m\u001b[1;33m)\u001b[0m\u001b[1;33m\u001b[0m\u001b[1;33m\u001b[0m\u001b[0m\n\u001b[0m\u001b[0;32m      3\u001b[0m \u001b[0mprint\u001b[0m\u001b[1;33m(\u001b[0m\u001b[1;34m\"Accuracy: %.4f\"\u001b[0m \u001b[1;33m%\u001b[0m \u001b[1;33m(\u001b[0m\u001b[0macc\u001b[0m \u001b[1;33m*\u001b[0m \u001b[1;36m100.0\u001b[0m\u001b[1;33m)\u001b[0m\u001b[1;33m)\u001b[0m\u001b[1;33m\u001b[0m\u001b[1;33m\u001b[0m\u001b[0m\n",
      "\u001b[1;31mAttributeError\u001b[0m: 'function' object has no attribute 'evaluate_generator'"
     ]
    }
   ],
   "source": [
    "# Evaluate model\n",
    "_, acc = model_vgg.evaluate_generator(test_set, steps=len(test_set), verbose=0)\n",
    "print(\"Accuracy: %.4f\" % (acc * 100.0))"
   ]
  },
  {
   "cell_type": "code",
   "execution_count": null,
   "metadata": {},
   "outputs": [],
   "source": [
    "# Build graphs\n",
    "summarize_diagnostics(history)"
   ]
  },
  {
   "cell_type": "code",
   "execution_count": null,
   "metadata": {},
   "outputs": [],
   "source": []
  },
  {
   "cell_type": "code",
   "execution_count": null,
   "metadata": {},
   "outputs": [],
   "source": [
    "# The Residual Network, or ResNet, architecture for convolutional neural networks was proposed\n",
    "# by Kaiming He, et al. in their 2016 paper titled Deep Residual Learning for Image Recognition,\n",
    "# which achieved success on the 2015 version of the ILSVRC challenge"
   ]
  },
  {
   "cell_type": "code",
   "execution_count": null,
   "metadata": {},
   "outputs": [],
   "source": [
    "# Here maybe could be ResNet models but maybe it is too much"
   ]
  },
  {
   "cell_type": "code",
   "execution_count": null,
   "metadata": {},
   "outputs": [],
   "source": []
  },
  {
   "cell_type": "code",
   "execution_count": null,
   "metadata": {},
   "outputs": [],
   "source": []
  },
  {
   "cell_type": "code",
   "execution_count": null,
   "metadata": {},
   "outputs": [],
   "source": []
  },
  {
   "cell_type": "code",
   "execution_count": null,
   "metadata": {},
   "outputs": [],
   "source": []
  },
  {
   "cell_type": "code",
   "execution_count": null,
   "metadata": {},
   "outputs": [],
   "source": []
  },
  {
   "cell_type": "code",
   "execution_count": null,
   "metadata": {},
   "outputs": [],
   "source": []
  },
  {
   "cell_type": "code",
   "execution_count": null,
   "metadata": {},
   "outputs": [],
   "source": []
  }
 ],
 "metadata": {
  "kernelspec": {
   "display_name": "Python 3",
   "language": "python",
   "name": "python3"
  },
  "language_info": {
   "codemirror_mode": {
    "name": "ipython",
    "version": 3
   },
   "file_extension": ".py",
   "mimetype": "text/x-python",
   "name": "python",
   "nbconvert_exporter": "python",
   "pygments_lexer": "ipython3",
   "version": "3.8.5"
  }
 },
 "nbformat": 4,
 "nbformat_minor": 5
}
