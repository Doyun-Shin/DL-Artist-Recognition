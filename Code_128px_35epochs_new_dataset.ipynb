{
 "cells": [
  {
   "cell_type": "code",
   "execution_count": 1,
   "metadata": {},
   "outputs": [],
   "source": [
    "# Importing the Keras libraries and packages\n",
    "from matplotlib import pyplot\n",
    "from keras.models import Sequential\n",
    "from keras.layers import Conv2D\n",
    "from keras.layers import MaxPooling2D\n",
    "from keras.layers import Flatten\n",
    "from keras.layers import Dense\n",
    "from keras.layers.core import Dense, Dropout, Activation, Flatten\n",
    "import warnings\n",
    "warnings.filterwarnings(\"ignore\")\n",
    "import numpy as np\n",
    "import tensorflow\n",
    "from sklearn.metrics import classification_report, confusion_matrix\n",
    "from keras.optimizers import SGD\n",
    "from keras.preprocessing.image import ImageDataGenerator\n",
    "from numpy.random import seed\n",
    "import os\n",
    "import random\n"
   ]
  },
  {
   "cell_type": "code",
   "execution_count": 2,
   "metadata": {},
   "outputs": [],
   "source": [
    "# seed = 2\n",
    "# def reset_random_seeds():\n",
    "#     os.environ['PYTHONHASHSEED'] = str(seed)\n",
    "#     tensorflow.random.set_seed(seed)\n",
    "#     np.random.seed(seed)\n",
    "#     random.seed(seed)"
   ]
  },
  {
   "cell_type": "code",
   "execution_count": 11,
   "metadata": {},
   "outputs": [],
   "source": [
    "# Part 1 - Develop a Baseline CNN Model\n",
    "\n",
    "# A baseline model will show us a minimal model performance \n",
    "# to which other models will be compared\n",
    "\n",
    "\n",
    "img_rows = 128\n",
    "img_cols = 128\n",
    "epochs = 35\n",
    "batch_size = 64\n",
    "num_of_train_samples = 5606\n",
    "num_of_test_samples = 2397"
   ]
  },
  {
   "cell_type": "code",
   "execution_count": 4,
   "metadata": {},
   "outputs": [],
   "source": [
    "# plot diagnostic learning curves\n",
    "def summarize_diagnostics(history):\n",
    "    pyplot.figure(figsize=(10,5))\n",
    "    # plot loss\n",
    "    pyplot.subplot(121)\n",
    "    pyplot.title('Entropy Loss')\n",
    "    pyplot.plot(history.history['loss'], color='green', label='train')\n",
    "    pyplot.plot(history.history['val_loss'], color='blue', label='test')\n",
    "    pyplot.legend()\n",
    "    # plot accuracy\n",
    "    pyplot.subplot(122)\n",
    "    pyplot.title('\\nClassification Accuracy')\n",
    "    pyplot.plot(history.history['accuracy'], color='green', label='train')\n",
    "    pyplot.plot(history.history['val_accuracy'], color='blue', label='test')\n",
    "    pyplot.legend()\n",
    "    # save plot to file\n",
    "#     filename = sys.argv[0].split('/')[-1]\n",
    "#     pyplot.savefig(filename + '_plot.png')\n",
    "#     pyplot.close()\n",
    "    pyplot.show()"
   ]
  },
  {
   "cell_type": "code",
   "execution_count": 104,
   "metadata": {},
   "outputs": [],
   "source": [
    "# Function that calculates Confusion Matrix and shows Classification Report\n",
    "def class_report(test_set, model):\n",
    "    Y_pred = model.predict(test_set, num_of_test_samples // batch_size+1)\n",
    "    y_pred = np.argmax(Y_pred, axis=1)\n",
    "    print('Confusion Matrix')\n",
    "    print(confusion_matrix(test_set.classes, y_pred))\n",
    "    print('Classification Report')\n",
    "    target_names = list(training_set.class_indices.keys())\n",
    "    print(classification_report(test_set.classes, y_pred, target_names=target_names))"
   ]
  },
  {
   "cell_type": "code",
   "execution_count": 88,
   "metadata": {},
   "outputs": [
    {
     "name": "stdout",
     "output_type": "stream",
     "text": [
      "Found 3360 images belonging to 6 classes.\n",
      "Found 1440 images belonging to 6 classes.\n"
     ]
    }
   ],
   "source": [
    "# Prepare the data. Instanciate ImageDataGenerator that scalse the pixel values to the range of 0-1\n",
    "# We don't use data augmentation, dropout etc for the Baseline models to check a minimal model performance \n",
    "datagen = ImageDataGenerator(rescale=1. / 255, validation_split=0.3)\n",
    "\n",
    "training_set = datagen.flow_from_directory('artists', \n",
    "                                                 subset=\"training\",\n",
    "                                                 target_size=(img_rows, img_cols),\n",
    "                                                 batch_size=batch_size,\n",
    "                                                 class_mode='categorical')\n",
    "\n",
    "test_set = datagen.flow_from_directory('artists', \n",
    "                                            subset=\"validation\",\n",
    "                                            target_size=(img_rows, img_cols),\n",
    "                                            batch_size=batch_size, shuffle=False,\n",
    "                                            class_mode='categorical')"
   ]
  },
  {
   "cell_type": "code",
   "execution_count": 17,
   "metadata": {},
   "outputs": [
    {
     "name": "stdout",
     "output_type": "stream",
     "text": [
      "{'Matisse': 0, 'Monet': 1, 'Pissaro': 2, 'Renoir': 3, 'Sargent': 4, 'VanGogh': 5}\n"
     ]
    }
   ],
   "source": [
    "print(test_set.class_indices)"
   ]
  },
  {
   "cell_type": "code",
   "execution_count": 18,
   "metadata": {},
   "outputs": [],
   "source": [
    "# VGG Blocks\n",
    "# The basic building block of classic CNNs is a sequence of the following: \n",
    "#     (i) a convolutional layer with padding to maintain the resolution, \n",
    "#     (ii) a nonlinearity such as a ReLU, \n",
    "#     (iii) a pooling layer such as a max pooling layer. \n",
    "# One VGG block consists of a sequence of convolutional layers, \n",
    "# followed by a max pooling layer for spatial downsampling. \n",
    "# In the original VGG paper [Simonyan & Zisserman, 2014], the authors employed convolutions with  3×3  kernels \n",
    "# with padding of 1 (keeping height and width) \n",
    "# and  2×2  max pooling with stride of 2 (halving the resolution after each block). "
   ]
  },
  {
   "cell_type": "code",
   "execution_count": 19,
   "metadata": {},
   "outputs": [],
   "source": [
    "# Define CNN model with one VGG-style block\n",
    "# The 1-block VGG model has a single convolutional layer with 32 filters \n",
    "# followed by a max pooling layer\n",
    "def baseline_model_1():\n",
    "    #reset_random_seeds()\n",
    "    model = Sequential()\n",
    "    \n",
    "    model.add(Conv2D(32, (3, 3), activation='relu', \n",
    "                     kernel_initializer='he_uniform', \n",
    "                     padding='same', input_shape=(img_rows, img_cols, 3)))\n",
    "    model.add(MaxPooling2D((2, 2)))\n",
    "    \n",
    "    model.add(Flatten())\n",
    "    model.add(Dense(128, activation='relu', \n",
    "                    kernel_initializer='he_uniform'))\n",
    "    model.add(Dense(6, activation='softmax'))\n",
    "    # Compilation of a model\n",
    "    opt = SGD(lr=0.001, momentum=0.9) # Gradient descent (with momentum) optimizer.\n",
    "    model.compile(optimizer=opt, loss='categorical_crossentropy', metrics=['accuracy'])\n",
    "    return model"
   ]
  },
  {
   "cell_type": "code",
   "execution_count": 20,
   "metadata": {},
   "outputs": [
    {
     "name": "stdout",
     "output_type": "stream",
     "text": [
      "Epoch 1/35\n",
      "53/53 [==============================] - 42s 792ms/step - loss: 2.6405 - accuracy: 0.1943 - val_loss: 1.6988 - val_accuracy: 0.2326\n",
      "Epoch 2/35\n",
      "53/53 [==============================] - 18s 334ms/step - loss: 1.6659 - accuracy: 0.2947 - val_loss: 1.6685 - val_accuracy: 0.3083\n",
      "Epoch 3/35\n",
      "53/53 [==============================] - 18s 335ms/step - loss: 1.6025 - accuracy: 0.3256 - val_loss: 1.7247 - val_accuracy: 0.2139\n",
      "Epoch 4/35\n",
      "53/53 [==============================] - 18s 334ms/step - loss: 1.6451 - accuracy: 0.2970 - val_loss: 1.6109 - val_accuracy: 0.3354\n",
      "Epoch 5/35\n",
      "53/53 [==============================] - 18s 335ms/step - loss: 1.5763 - accuracy: 0.3341 - val_loss: 1.6241 - val_accuracy: 0.3181\n",
      "Epoch 6/35\n",
      "53/53 [==============================] - 18s 334ms/step - loss: 1.5179 - accuracy: 0.3510 - val_loss: 1.5840 - val_accuracy: 0.3319\n",
      "Epoch 7/35\n",
      "53/53 [==============================] - 18s 335ms/step - loss: 1.5006 - accuracy: 0.3649 - val_loss: 1.5594 - val_accuracy: 0.3500\n",
      "Epoch 8/35\n",
      "53/53 [==============================] - 18s 348ms/step - loss: 1.4911 - accuracy: 0.3839 - val_loss: 1.6538 - val_accuracy: 0.3215\n",
      "Epoch 9/35\n",
      "53/53 [==============================] - 18s 343ms/step - loss: 1.5039 - accuracy: 0.3754 - val_loss: 1.5812 - val_accuracy: 0.3542\n",
      "Epoch 10/35\n",
      "53/53 [==============================] - 18s 339ms/step - loss: 1.4455 - accuracy: 0.3853 - val_loss: 1.5676 - val_accuracy: 0.3528\n",
      "Epoch 11/35\n",
      "53/53 [==============================] - 18s 336ms/step - loss: 1.4444 - accuracy: 0.3878 - val_loss: 1.5923 - val_accuracy: 0.3347\n",
      "Epoch 12/35\n",
      "53/53 [==============================] - 18s 334ms/step - loss: 1.4370 - accuracy: 0.4144 - val_loss: 1.6033 - val_accuracy: 0.3354\n",
      "Epoch 13/35\n",
      "53/53 [==============================] - 18s 344ms/step - loss: 1.4630 - accuracy: 0.3934 - val_loss: 1.5912 - val_accuracy: 0.3222\n",
      "Epoch 14/35\n",
      "53/53 [==============================] - 19s 349ms/step - loss: 1.4144 - accuracy: 0.4158 - val_loss: 1.5522 - val_accuracy: 0.3521\n",
      "Epoch 15/35\n",
      "53/53 [==============================] - 18s 336ms/step - loss: 1.3549 - accuracy: 0.4216 - val_loss: 1.5498 - val_accuracy: 0.3590\n",
      "Epoch 16/35\n",
      "53/53 [==============================] - 18s 340ms/step - loss: 1.3605 - accuracy: 0.4425 - val_loss: 1.6054 - val_accuracy: 0.3493\n",
      "Epoch 17/35\n",
      "53/53 [==============================] - 18s 339ms/step - loss: 1.3393 - accuracy: 0.4405 - val_loss: 1.6586 - val_accuracy: 0.3368\n",
      "Epoch 18/35\n",
      "53/53 [==============================] - 18s 334ms/step - loss: 1.3630 - accuracy: 0.4331 - val_loss: 1.5664 - val_accuracy: 0.3479\n",
      "Epoch 19/35\n",
      "53/53 [==============================] - 18s 336ms/step - loss: 1.3144 - accuracy: 0.4551 - val_loss: 1.6061 - val_accuracy: 0.3375\n",
      "Epoch 20/35\n",
      "53/53 [==============================] - 18s 334ms/step - loss: 1.3277 - accuracy: 0.4486 - val_loss: 1.6844 - val_accuracy: 0.3250\n",
      "Epoch 21/35\n",
      "53/53 [==============================] - 18s 334ms/step - loss: 1.3065 - accuracy: 0.4726 - val_loss: 1.5762 - val_accuracy: 0.3632\n",
      "Epoch 22/35\n",
      "53/53 [==============================] - 18s 338ms/step - loss: 1.2476 - accuracy: 0.4915 - val_loss: 1.7757 - val_accuracy: 0.3160\n",
      "Epoch 23/35\n",
      "53/53 [==============================] - 18s 334ms/step - loss: 1.3293 - accuracy: 0.4529 - val_loss: 1.5790 - val_accuracy: 0.3646\n",
      "Epoch 24/35\n",
      "53/53 [==============================] - 18s 335ms/step - loss: 1.1962 - accuracy: 0.5261 - val_loss: 1.6991 - val_accuracy: 0.3326\n",
      "Epoch 25/35\n",
      "53/53 [==============================] - 18s 339ms/step - loss: 1.2285 - accuracy: 0.4959 - val_loss: 1.5763 - val_accuracy: 0.3750\n",
      "Epoch 26/35\n",
      "53/53 [==============================] - 18s 333ms/step - loss: 1.1520 - accuracy: 0.5298 - val_loss: 1.5955 - val_accuracy: 0.3569\n",
      "Epoch 27/35\n",
      "53/53 [==============================] - 18s 332ms/step - loss: 1.2091 - accuracy: 0.5141 - val_loss: 1.5857 - val_accuracy: 0.3688\n",
      "Epoch 28/35\n",
      "53/53 [==============================] - 18s 335ms/step - loss: 1.0945 - accuracy: 0.5533 - val_loss: 1.5714 - val_accuracy: 0.3826\n",
      "Epoch 29/35\n",
      "53/53 [==============================] - 18s 332ms/step - loss: 1.0877 - accuracy: 0.5705 - val_loss: 1.6754 - val_accuracy: 0.3576\n",
      "Epoch 30/35\n",
      "53/53 [==============================] - 18s 338ms/step - loss: 1.1441 - accuracy: 0.5560 - val_loss: 1.6023 - val_accuracy: 0.3764\n",
      "Epoch 31/35\n",
      "53/53 [==============================] - 19s 356ms/step - loss: 1.0094 - accuracy: 0.6124 - val_loss: 1.6375 - val_accuracy: 0.3771\n",
      "Epoch 32/35\n",
      "53/53 [==============================] - 19s 352ms/step - loss: 1.0181 - accuracy: 0.6068 - val_loss: 1.9069 - val_accuracy: 0.3444\n",
      "Epoch 33/35\n",
      "53/53 [==============================] - 19s 353ms/step - loss: 1.0098 - accuracy: 0.6191 - val_loss: 1.5982 - val_accuracy: 0.3889\n",
      "Epoch 34/35\n",
      "53/53 [==============================] - 19s 353ms/step - loss: 0.9193 - accuracy: 0.6623 - val_loss: 1.6922 - val_accuracy: 0.3722\n",
      "Epoch 35/35\n",
      "53/53 [==============================] - 19s 353ms/step - loss: 0.9184 - accuracy: 0.6602 - val_loss: 1.7082 - val_accuracy: 0.3993\n"
     ]
    }
   ],
   "source": [
    "# The model will be fit for 35 epochs - to check if the model can learn the problem.\n",
    "# Define model\n",
    "model = baseline_model_1()\n",
    "# Fit model\n",
    "history = model.fit_generator(training_set, \n",
    "                              steps_per_epoch=len(training_set), # = num_of_train_samples // batch_size +1\n",
    "                              validation_data=test_set, \n",
    "                              validation_steps=len(test_set), # = num_of_test_samples // batch_size +1\n",
    "                              epochs= epochs)"
   ]
  },
  {
   "cell_type": "code",
   "execution_count": 21,
   "metadata": {},
   "outputs": [
    {
     "name": "stdout",
     "output_type": "stream",
     "text": [
      "Accuracy: 39.9306\n"
     ]
    }
   ],
   "source": [
    "# Evaluate model\n",
    "_, acc = model.evaluate_generator(test_set, steps=len(test_set), verbose=0)\n",
    "print(\"Accuracy: %.4f\" % (acc * 100.0))"
   ]
  },
  {
   "cell_type": "code",
   "execution_count": 22,
   "metadata": {},
   "outputs": [
    {
     "data": {
      "image/png": "[encoded data removed]",
      "text/plain": [
       "<Figure size 720x360 with 2 Axes>"
      ]
     },
     "metadata": {
      "needs_background": "light"
     },
     "output_type": "display_data"
    }
   ],
   "source": [
    "# Build graphs\n",
    "summarize_diagnostics(history)"
   ]
  },
  {
   "cell_type": "code",
   "execution_count": 23,
   "metadata": {},
   "outputs": [
    {
     "name": "stdout",
     "output_type": "stream",
     "text": [
      "WARNING:tensorflow:Your input ran out of data; interrupting training. Make sure that your dataset or generator can generate at least `steps_per_epoch * epochs` batches (in this case, 38 batches). You may need to use the repeat() function when building your dataset.\n",
      "Confusion Matrix\n",
      "[[ 80  50  20  43  13  34]\n",
      " [ 17 112  39   9   5  58]\n",
      " [ 11  30  63  17   3 116]\n",
      " [ 28  13  16 114  17  52]\n",
      " [ 26  29  20  54  63  48]\n",
      " [  8  24  34  25   6 143]]\n",
      "Classification Report\n",
      "              precision    recall  f1-score   support\n",
      "\n",
      "     Matisse       0.47      0.33      0.39       240\n",
      "       Monet       0.43      0.47      0.45       240\n",
      "     Pissaro       0.33      0.26      0.29       240\n",
      "      Renoir       0.44      0.47      0.45       240\n",
      "     Sargent       0.59      0.26      0.36       240\n",
      "     VanGogh       0.32      0.60      0.41       240\n",
      "\n",
      "    accuracy                           0.40      1440\n",
      "   macro avg       0.43      0.40      0.39      1440\n",
      "weighted avg       0.43      0.40      0.39      1440\n",
      "\n"
     ]
    }
   ],
   "source": [
    "class_report(test_set, model)"
   ]
  },
  {
   "cell_type": "code",
   "execution_count": 31,
   "metadata": {},
   "outputs": [],
   "source": [
    "# Define CNN model with two VGG-style blocks\n",
    "def baseline_model_2():\n",
    "   # reset_random_seeds()\n",
    "    model = Sequential()\n",
    "# 1st block    \n",
    "    model.add(Conv2D(32, (3, 3), activation='relu', \n",
    "                     kernel_initializer='he_uniform', \n",
    "                     padding='same', input_shape=(img_rows, img_cols, 3)))\n",
    "    model.add(MaxPooling2D((2, 2)))\n",
    "# 2d block    \n",
    "    model.add(Conv2D(64, (3, 3), activation='relu', \n",
    "                     kernel_initializer='he_uniform', \n",
    "                     padding='same', input_shape=(img_rows, img_cols, 3)))\n",
    "    model.add(MaxPooling2D((2, 2)))\n",
    "   \n",
    "    model.add(Flatten())\n",
    "    model.add(Dense(128, activation='relu', \n",
    "                    kernel_initializer='he_uniform'))\n",
    "    model.add(Dense(6, activation='softmax'))\n",
    "    # Compilation of a model\n",
    "    opt = SGD(lr=0.001, momentum=0.9) # Gradient descent (with momentum) optimizer.\n",
    "    model.compile(optimizer=opt, loss='categorical_crossentropy', metrics=['accuracy'])\n",
    "    return model"
   ]
  },
  {
   "cell_type": "code",
   "execution_count": 32,
   "metadata": {},
   "outputs": [],
   "source": [
    "# The model will be fit for 20 epochs - to check if the model can learn the problem.\n",
    "# define model\n",
    "model = baseline_model_2()\n",
    "# fit model\n",
    "history = model.fit_generator(training_set, steps_per_epoch=len(training_set),\n",
    "                              validation_data=test_set, \n",
    "                              validation_steps=len(test_set), \n",
    "                              epochs= epochs, \n",
    "                              verbose = 0)"
   ]
  },
  {
   "cell_type": "code",
   "execution_count": 33,
   "metadata": {},
   "outputs": [
    {
     "name": "stdout",
     "output_type": "stream",
     "text": [
      "Accuracy: 50.1389\n"
     ]
    }
   ],
   "source": [
    "# evaluate model\n",
    "_, acc = model.evaluate_generator(test_set, steps=len(test_set), verbose=0)\n",
    "print(\"Accuracy: %.4f\" % (acc * 100.0))"
   ]
  },
  {
   "cell_type": "code",
   "execution_count": 34,
   "metadata": {},
   "outputs": [
    {
     "name": "stdout",
     "output_type": "stream",
     "text": [
      "WARNING:tensorflow:Your input ran out of data; interrupting training. Make sure that your dataset or generator can generate at least `steps_per_epoch * epochs` batches (in this case, 38 batches). You may need to use the repeat() function when building your dataset.\n",
      "Confusion Matrix\n",
      "[[160  24   5  22  19  10]\n",
      " [ 16 146  25  12   9  32]\n",
      " [ 14  72  87  26  10  31]\n",
      " [ 35  23  10 128  23  21]\n",
      " [ 59  18  12  45  93  13]\n",
      " [ 19  39  26  25  23 108]]\n",
      "Classification Report\n",
      "              precision    recall  f1-score   support\n",
      "\n",
      "     Matisse       0.53      0.67      0.59       240\n",
      "       Monet       0.45      0.61      0.52       240\n",
      "     Pissaro       0.53      0.36      0.43       240\n",
      "      Renoir       0.50      0.53      0.51       240\n",
      "     Sargent       0.53      0.39      0.45       240\n",
      "     VanGogh       0.50      0.45      0.47       240\n",
      "\n",
      "    accuracy                           0.50      1440\n",
      "   macro avg       0.51      0.50      0.50      1440\n",
      "weighted avg       0.51      0.50      0.50      1440\n",
      "\n"
     ]
    }
   ],
   "source": [
    "class_report(test_set, model)"
   ]
  },
  {
   "cell_type": "code",
   "execution_count": 35,
   "metadata": {},
   "outputs": [
    {
     "data": {
      "image/png": "[encoded data removed]",
      "text/plain": [
       "<Figure size 720x360 with 2 Axes>"
      ]
     },
     "metadata": {
      "needs_background": "light"
     },
     "output_type": "display_data"
    }
   ],
   "source": [
    "# Build graphs\n",
    "summarize_diagnostics(history)"
   ]
  },
  {
   "cell_type": "code",
   "execution_count": null,
   "metadata": {},
   "outputs": [],
   "source": []
  },
  {
   "cell_type": "code",
   "execution_count": 36,
   "metadata": {},
   "outputs": [],
   "source": [
    "# Define CNN model with three VGG-style blocks\n",
    "def baseline_model_3():\n",
    "    #reset_random_seeds()\n",
    "    model = Sequential()\n",
    "# 1st block    \n",
    "    model.add(Conv2D(32, (3, 3), activation='relu', \n",
    "                     kernel_initializer='he_uniform', \n",
    "                     padding='same', input_shape=(img_rows, img_cols, 3)))\n",
    "    model.add(MaxPooling2D((2, 2)))\n",
    "# 2d block    \n",
    "    model.add(Conv2D(64, (3, 3), activation='relu', \n",
    "                     kernel_initializer='he_uniform', \n",
    "                     padding='same', input_shape=(img_rows, img_cols, 3)))\n",
    "    model.add(MaxPooling2D((2, 2)))\n",
    "# 3d block\n",
    "    model.add(Conv2D(128, (3, 3), activation='relu', \n",
    "                     kernel_initializer='he_uniform', \n",
    "                     padding='same', input_shape= (img_rows, img_cols, 3)))\n",
    "    model.add(MaxPooling2D((2, 2)))\n",
    "   \n",
    "    model.add(Flatten())\n",
    "    model.add(Dense(128, activation='relu', \n",
    "                    kernel_initializer='he_uniform'))\n",
    "    model.add(Dense(6, activation='softmax'))\n",
    "    # Compilation of a model\n",
    "    opt = SGD(lr=0.001, momentum=0.9) # Gradient descent (with momentum) optimizer.\n",
    "    model.compile(optimizer=opt, loss='categorical_crossentropy', metrics=['accuracy'])\n",
    "    return model"
   ]
  },
  {
   "cell_type": "code",
   "execution_count": 37,
   "metadata": {},
   "outputs": [
    {
     "name": "stdout",
     "output_type": "stream",
     "text": [
      "Epoch 1/35\n",
      "53/53 [==============================] - 39s 722ms/step - loss: 2.0734 - accuracy: 0.2381 - val_loss: 1.6134 - val_accuracy: 0.3701\n",
      "Epoch 2/35\n",
      "53/53 [==============================] - 39s 728ms/step - loss: 1.5407 - accuracy: 0.4164 - val_loss: 1.5616 - val_accuracy: 0.4229\n",
      "Epoch 3/35\n",
      "53/53 [==============================] - 41s 777ms/step - loss: 1.4403 - accuracy: 0.4737 - val_loss: 1.4520 - val_accuracy: 0.4451\n",
      "Epoch 4/35\n",
      "53/53 [==============================] - 38s 719ms/step - loss: 1.3168 - accuracy: 0.5184 - val_loss: 1.4693 - val_accuracy: 0.4597\n",
      "Epoch 5/35\n",
      "53/53 [==============================] - 38s 716ms/step - loss: 1.2878 - accuracy: 0.5315 - val_loss: 1.4468 - val_accuracy: 0.4437\n",
      "Epoch 6/35\n",
      "53/53 [==============================] - 38s 718ms/step - loss: 1.2390 - accuracy: 0.5261 - val_loss: 1.4668 - val_accuracy: 0.4514\n",
      "Epoch 7/35\n",
      "53/53 [==============================] - 38s 718ms/step - loss: 1.1975 - accuracy: 0.5589 - val_loss: 1.3403 - val_accuracy: 0.4778\n",
      "Epoch 8/35\n",
      "53/53 [==============================] - 38s 717ms/step - loss: 1.1176 - accuracy: 0.5860 - val_loss: 1.3455 - val_accuracy: 0.4924\n",
      "Epoch 9/35\n",
      "53/53 [==============================] - 38s 717ms/step - loss: 1.0777 - accuracy: 0.5998 - val_loss: 1.3391 - val_accuracy: 0.4792\n",
      "Epoch 10/35\n",
      "53/53 [==============================] - 38s 723ms/step - loss: 1.0281 - accuracy: 0.6258 - val_loss: 1.3047 - val_accuracy: 0.4993\n",
      "Epoch 11/35\n",
      "53/53 [==============================] - 38s 718ms/step - loss: 1.0009 - accuracy: 0.6400 - val_loss: 1.2898 - val_accuracy: 0.5139\n",
      "Epoch 12/35\n",
      "53/53 [==============================] - 38s 718ms/step - loss: 0.9207 - accuracy: 0.6693 - val_loss: 1.2924 - val_accuracy: 0.4938\n",
      "Epoch 13/35\n",
      "53/53 [==============================] - 39s 742ms/step - loss: 0.8926 - accuracy: 0.6795 - val_loss: 1.3527 - val_accuracy: 0.4896\n",
      "Epoch 14/35\n",
      "53/53 [==============================] - 41s 770ms/step - loss: 0.8499 - accuracy: 0.6955 - val_loss: 1.3378 - val_accuracy: 0.5090\n",
      "Epoch 15/35\n",
      "53/53 [==============================] - 41s 769ms/step - loss: 0.8453 - accuracy: 0.7090 - val_loss: 1.2813 - val_accuracy: 0.5208\n",
      "Epoch 16/35\n",
      "53/53 [==============================] - 41s 768ms/step - loss: 0.7785 - accuracy: 0.7356 - val_loss: 1.5491 - val_accuracy: 0.4694\n",
      "Epoch 17/35\n",
      "53/53 [==============================] - 41s 767ms/step - loss: 0.7766 - accuracy: 0.7212 - val_loss: 1.3848 - val_accuracy: 0.5153\n",
      "Epoch 18/35\n",
      "53/53 [==============================] - 43s 805ms/step - loss: 0.6709 - accuracy: 0.7780 - val_loss: 1.2680 - val_accuracy: 0.5347\n",
      "Epoch 19/35\n",
      "53/53 [==============================] - 41s 773ms/step - loss: 0.6134 - accuracy: 0.8016 - val_loss: 1.3860 - val_accuracy: 0.5063\n",
      "Epoch 20/35\n",
      "53/53 [==============================] - 41s 775ms/step - loss: 0.6019 - accuracy: 0.7841 - val_loss: 1.4306 - val_accuracy: 0.5160\n",
      "Epoch 21/35\n",
      "53/53 [==============================] - 41s 774ms/step - loss: 0.5484 - accuracy: 0.8136 - val_loss: 1.3760 - val_accuracy: 0.5160\n",
      "Epoch 22/35\n",
      "53/53 [==============================] - 41s 777ms/step - loss: 0.5116 - accuracy: 0.8405 - val_loss: 1.6333 - val_accuracy: 0.4868\n",
      "Epoch 23/35\n",
      "53/53 [==============================] - 45s 851ms/step - loss: 0.4869 - accuracy: 0.8422 - val_loss: 1.4981 - val_accuracy: 0.5174\n",
      "Epoch 24/35\n",
      "53/53 [==============================] - 46s 870ms/step - loss: 0.4218 - accuracy: 0.8688 - val_loss: 1.4338 - val_accuracy: 0.5368\n",
      "Epoch 25/35\n",
      "53/53 [==============================] - 46s 875ms/step - loss: 0.3756 - accuracy: 0.8945 - val_loss: 1.4756 - val_accuracy: 0.5181\n",
      "Epoch 26/35\n",
      "53/53 [==============================] - 41s 767ms/step - loss: 0.3893 - accuracy: 0.8810 - val_loss: 1.5903 - val_accuracy: 0.5285\n",
      "Epoch 27/35\n",
      "53/53 [==============================] - 39s 741ms/step - loss: 0.3098 - accuracy: 0.9139 - val_loss: 1.7402 - val_accuracy: 0.4882\n",
      "Epoch 28/35\n",
      "53/53 [==============================] - 38s 722ms/step - loss: 0.2978 - accuracy: 0.9128 - val_loss: 1.7032 - val_accuracy: 0.5007\n",
      "Epoch 29/35\n",
      "53/53 [==============================] - 39s 733ms/step - loss: 0.2542 - accuracy: 0.9329 - val_loss: 1.5847 - val_accuracy: 0.5146\n",
      "Epoch 30/35\n",
      "53/53 [==============================] - 40s 746ms/step - loss: 0.2070 - accuracy: 0.9617 - val_loss: 1.6916 - val_accuracy: 0.5174\n",
      "Epoch 31/35\n",
      "53/53 [==============================] - 40s 746ms/step - loss: 0.1886 - accuracy: 0.9534 - val_loss: 1.7068 - val_accuracy: 0.5125\n",
      "Epoch 32/35\n",
      "53/53 [==============================] - 40s 753ms/step - loss: 0.1808 - accuracy: 0.9532 - val_loss: 1.8254 - val_accuracy: 0.5215\n",
      "Epoch 33/35\n",
      "53/53 [==============================] - 41s 781ms/step - loss: 0.1370 - accuracy: 0.9749 - val_loss: 1.7720 - val_accuracy: 0.5271\n",
      "Epoch 34/35\n",
      "53/53 [==============================] - 40s 748ms/step - loss: 0.0975 - accuracy: 0.9877 - val_loss: 1.8539 - val_accuracy: 0.5083\n",
      "Epoch 35/35\n",
      "53/53 [==============================] - 39s 740ms/step - loss: 0.0979 - accuracy: 0.9877 - val_loss: 2.0033 - val_accuracy: 0.4944\n"
     ]
    }
   ],
   "source": [
    "# The model will be fit for 20 epochs - to check if the model can learn the problem.\n",
    "# Define model\n",
    "model = baseline_model_3()\n",
    "# Fit model\n",
    "history = model.fit_generator(training_set, steps_per_epoch=len(training_set),\n",
    "                              validation_data=test_set, \n",
    "                              validation_steps=len(test_set), \n",
    "                              epochs= epochs)"
   ]
  },
  {
   "cell_type": "code",
   "execution_count": 38,
   "metadata": {},
   "outputs": [
    {
     "name": "stdout",
     "output_type": "stream",
     "text": [
      "Accuracy: 49.4444\n"
     ]
    }
   ],
   "source": [
    "# Evaluate model\n",
    "_, acc = model.evaluate_generator(test_set, steps=len(test_set), verbose=0)\n",
    "print(\"Accuracy: %.4f\" % (acc * 100.0))"
   ]
  },
  {
   "cell_type": "code",
   "execution_count": 39,
   "metadata": {},
   "outputs": [
    {
     "data": {
      "image/png": "[encoded data removed]",
      "text/plain": [
       "<Figure size 720x360 with 2 Axes>"
      ]
     },
     "metadata": {
      "needs_background": "light"
     },
     "output_type": "display_data"
    }
   ],
   "source": [
    "# Build graphs\n",
    "summarize_diagnostics(history)"
   ]
  },
  {
   "cell_type": "code",
   "execution_count": 40,
   "metadata": {},
   "outputs": [
    {
     "name": "stdout",
     "output_type": "stream",
     "text": [
      "WARNING:tensorflow:Your input ran out of data; interrupting training. Make sure that your dataset or generator can generate at least `steps_per_epoch * epochs` batches (in this case, 38 batches). You may need to use the repeat() function when building your dataset.\n",
      "Confusion Matrix\n",
      "[[133  28   3   4  29  43]\n",
      " [  9 119  26   2   9  75]\n",
      " [ 12  38  75  19   9  87]\n",
      " [ 37  13  10  90  34  56]\n",
      " [ 46  14   8  15 113  44]\n",
      " [ 13  14   7   8  16 182]]\n",
      "Classification Report\n",
      "              precision    recall  f1-score   support\n",
      "\n",
      "     Matisse       0.53      0.55      0.54       240\n",
      "       Monet       0.53      0.50      0.51       240\n",
      "     Pissaro       0.58      0.31      0.41       240\n",
      "      Renoir       0.65      0.38      0.48       240\n",
      "     Sargent       0.54      0.47      0.50       240\n",
      "     VanGogh       0.37      0.76      0.50       240\n",
      "\n",
      "    accuracy                           0.49      1440\n",
      "   macro avg       0.53      0.49      0.49      1440\n",
      "weighted avg       0.53      0.49      0.49      1440\n",
      "\n"
     ]
    }
   ],
   "source": [
    "class_report(test_set, model)"
   ]
  },
  {
   "cell_type": "code",
   "execution_count": 83,
   "metadata": {},
   "outputs": [],
   "source": [
    "# Part 2 - Add Dropout Regularization and Data Augmentation\n",
    "# to our Baseline model step by step and evaluate an efficiency  \n",
    "# ___________________________________________________________\n",
    "\n",
    "\n",
    "# 1 step - Add Dropout"
   ]
  },
  {
   "cell_type": "code",
   "execution_count": 92,
   "metadata": {},
   "outputs": [
    {
     "name": "stdout",
     "output_type": "stream",
     "text": [
      "Found 3360 images belonging to 6 classes.\n",
      "Found 1440 images belonging to 6 classes.\n"
     ]
    }
   ],
   "source": [
    "# Prepare the data. Instanciate ImageDataGenerator that scalse the pixel values to the range of 0-1\n",
    "# We don't use data augmentation, dropout etc for the Baseline models to check a minimal model performance \n",
    "datagen = ImageDataGenerator(rescale=1. / 255, validation_split=0.3)\n",
    "\n",
    "training_set = datagen.flow_from_directory('artists', \n",
    "                                                 subset=\"training\",\n",
    "                                                 target_size=(img_rows, img_cols),\n",
    "                                                 batch_size=batch_size,\n",
    "                                                 class_mode='categorical')\n",
    "\n",
    "test_set = datagen.flow_from_directory('artists', \n",
    "                                            subset=\"validation\",\n",
    "                                            target_size=(img_rows, img_cols),\n",
    "                                            batch_size=batch_size, \n",
    "                                            class_mode='categorical')"
   ]
  },
  {
   "cell_type": "code",
   "execution_count": 93,
   "metadata": {},
   "outputs": [],
   "source": [
    "# Define CNN model with Dropout Regularization\n",
    "def model_with_dropout():\n",
    "    #reset_random_seeds()\n",
    "    model = Sequential()\n",
    "   \n",
    "    model.add(Conv2D(32, (3, 3), activation='relu', \n",
    "                     kernel_initializer='he_uniform', \n",
    "                     padding='same', input_shape=(img_rows, img_cols, 3)))\n",
    "    model.add(MaxPooling2D((2, 2)))\n",
    "   \n",
    "   \n",
    "    model.add(Conv2D(64, (3, 3), activation='relu', \n",
    "                     kernel_initializer='he_uniform', \n",
    "                     padding='same', input_shape=(img_rows, img_cols, 3)))\n",
    "    model.add(MaxPooling2D((2, 2)))\n",
    "   \n",
    "\n",
    "    model.add(Conv2D(128, (3, 3), activation='relu', \n",
    "                     kernel_initializer='he_uniform', \n",
    "                     padding='same', input_shape= (img_rows, img_cols, 3)))\n",
    "    model.add(MaxPooling2D((2, 2)))\n",
    "    \n",
    "   \n",
    "    model.add(Flatten())\n",
    "    model.add(Dense(128, activation='relu', \n",
    "                    kernel_initializer='he_uniform'))\n",
    "    model.add(Dropout(0.5))\n",
    "    model.add(Dense(6, activation='softmax'))\n",
    "    # Compilation of a model\n",
    "    opt = SGD(lr=0.001, momentum=0.9) # Gradient descent (with momentum) optimizer.\n",
    "    model.compile(optimizer=opt, loss='categorical_crossentropy', metrics=['accuracy'])\n",
    "    return model"
   ]
  },
  {
   "cell_type": "code",
   "execution_count": 94,
   "metadata": {},
   "outputs": [
    {
     "name": "stdout",
     "output_type": "stream",
     "text": [
      "Epoch 1/35\n",
      "53/53 [==============================] - 42s 778ms/step - loss: 2.1668 - accuracy: 0.1701 - val_loss: 1.7807 - val_accuracy: 0.1625\n",
      "Epoch 2/35\n",
      "53/53 [==============================] - 40s 746ms/step - loss: 1.7573 - accuracy: 0.2043 - val_loss: 1.7310 - val_accuracy: 0.2632\n",
      "Epoch 3/35\n",
      "53/53 [==============================] - 40s 745ms/step - loss: 1.7313 - accuracy: 0.2604 - val_loss: 1.7200 - val_accuracy: 0.2931\n",
      "Epoch 4/35\n",
      "53/53 [==============================] - 40s 752ms/step - loss: 1.7262 - accuracy: 0.2551 - val_loss: 1.7267 - val_accuracy: 0.2590\n",
      "Epoch 5/35\n",
      "53/53 [==============================] - 40s 755ms/step - loss: 1.7107 - accuracy: 0.2691 - val_loss: 1.7182 - val_accuracy: 0.2562\n",
      "Epoch 6/35\n",
      "53/53 [==============================] - 39s 735ms/step - loss: 1.7182 - accuracy: 0.2500 - val_loss: 1.7139 - val_accuracy: 0.2632\n",
      "Epoch 7/35\n",
      "53/53 [==============================] - 39s 736ms/step - loss: 1.6959 - accuracy: 0.2756 - val_loss: 1.6733 - val_accuracy: 0.3208\n",
      "Epoch 8/35\n",
      "53/53 [==============================] - 39s 742ms/step - loss: 1.6735 - accuracy: 0.3026 - val_loss: 1.6567 - val_accuracy: 0.3792\n",
      "Epoch 9/35\n",
      "53/53 [==============================] - 42s 793ms/step - loss: 1.6611 - accuracy: 0.3100 - val_loss: 1.6542 - val_accuracy: 0.3562\n",
      "Epoch 10/35\n",
      "53/53 [==============================] - 39s 736ms/step - loss: 1.6560 - accuracy: 0.2916 - val_loss: 1.6725 - val_accuracy: 0.3562\n",
      "Epoch 11/35\n",
      "53/53 [==============================] - 39s 736ms/step - loss: 1.6798 - accuracy: 0.2709 - val_loss: 1.6300 - val_accuracy: 0.3472\n",
      "Epoch 12/35\n",
      "53/53 [==============================] - 39s 734ms/step - loss: 1.6422 - accuracy: 0.3119 - val_loss: 1.6048 - val_accuracy: 0.3854\n",
      "Epoch 13/35\n",
      "53/53 [==============================] - 39s 732ms/step - loss: 1.6057 - accuracy: 0.3379 - val_loss: 1.6353 - val_accuracy: 0.3319\n",
      "Epoch 14/35\n",
      "53/53 [==============================] - 39s 731ms/step - loss: 1.6256 - accuracy: 0.3099 - val_loss: 1.6174 - val_accuracy: 0.3903\n",
      "Epoch 15/35\n",
      "53/53 [==============================] - 39s 732ms/step - loss: 1.6070 - accuracy: 0.3332 - val_loss: 1.5884 - val_accuracy: 0.4000\n",
      "Epoch 16/35\n",
      "53/53 [==============================] - 39s 732ms/step - loss: 1.5976 - accuracy: 0.3404 - val_loss: 1.5674 - val_accuracy: 0.4014\n",
      "Epoch 17/35\n",
      "53/53 [==============================] - 39s 732ms/step - loss: 1.5600 - accuracy: 0.3516 - val_loss: 1.5443 - val_accuracy: 0.4097\n",
      "Epoch 18/35\n",
      "53/53 [==============================] - 42s 791ms/step - loss: 1.5407 - accuracy: 0.3683 - val_loss: 1.5212 - val_accuracy: 0.4069\n",
      "Epoch 19/35\n",
      "53/53 [==============================] - 43s 805ms/step - loss: 1.5106 - accuracy: 0.3922 - val_loss: 1.5047 - val_accuracy: 0.4306\n",
      "Epoch 20/35\n",
      "53/53 [==============================] - 43s 805ms/step - loss: 1.4993 - accuracy: 0.3921 - val_loss: 1.4941 - val_accuracy: 0.4319\n",
      "Epoch 21/35\n",
      "53/53 [==============================] - 43s 804ms/step - loss: 1.5116 - accuracy: 0.4040 - val_loss: 1.4722 - val_accuracy: 0.4431\n",
      "Epoch 22/35\n",
      "53/53 [==============================] - 43s 808ms/step - loss: 1.4592 - accuracy: 0.4130 - val_loss: 1.4553 - val_accuracy: 0.4701\n",
      "Epoch 23/35\n",
      "53/53 [==============================] - 43s 807ms/step - loss: 1.4599 - accuracy: 0.4135 - val_loss: 1.4403 - val_accuracy: 0.4521\n",
      "Epoch 24/35\n",
      "53/53 [==============================] - 44s 823ms/step - loss: 1.4592 - accuracy: 0.4033 - val_loss: 1.4348 - val_accuracy: 0.4604\n",
      "Epoch 25/35\n",
      "53/53 [==============================] - 43s 808ms/step - loss: 1.4411 - accuracy: 0.4345 - val_loss: 1.4065 - val_accuracy: 0.4722\n",
      "Epoch 26/35\n",
      "53/53 [==============================] - 42s 799ms/step - loss: 1.4141 - accuracy: 0.4390 - val_loss: 1.4110 - val_accuracy: 0.4736\n",
      "Epoch 27/35\n",
      "53/53 [==============================] - 42s 792ms/step - loss: 1.3718 - accuracy: 0.4509 - val_loss: 1.4112 - val_accuracy: 0.4611\n",
      "Epoch 28/35\n",
      "53/53 [==============================] - 42s 797ms/step - loss: 1.3972 - accuracy: 0.4598 - val_loss: 1.3866 - val_accuracy: 0.4736\n",
      "Epoch 29/35\n",
      "53/53 [==============================] - 42s 799ms/step - loss: 1.3558 - accuracy: 0.4622 - val_loss: 1.3754 - val_accuracy: 0.4889\n",
      "Epoch 30/35\n",
      "53/53 [==============================] - 40s 749ms/step - loss: 1.3300 - accuracy: 0.4777 - val_loss: 1.4362 - val_accuracy: 0.4403\n",
      "Epoch 31/35\n",
      "53/53 [==============================] - 40s 749ms/step - loss: 1.3461 - accuracy: 0.4777 - val_loss: 1.3416 - val_accuracy: 0.4882\n",
      "Epoch 32/35\n",
      "53/53 [==============================] - 39s 744ms/step - loss: 1.3115 - accuracy: 0.4883 - val_loss: 1.3646 - val_accuracy: 0.4889\n",
      "Epoch 33/35\n",
      "53/53 [==============================] - 39s 739ms/step - loss: 1.3023 - accuracy: 0.5099 - val_loss: 1.3416 - val_accuracy: 0.5083\n",
      "Epoch 34/35\n",
      "53/53 [==============================] - 39s 743ms/step - loss: 1.2706 - accuracy: 0.4993 - val_loss: 1.3240 - val_accuracy: 0.5014\n",
      "Epoch 35/35\n",
      "53/53 [==============================] - 39s 744ms/step - loss: 1.2263 - accuracy: 0.5358 - val_loss: 1.3365 - val_accuracy: 0.5097\n"
     ]
    }
   ],
   "source": [
    "# The model will be fit for 35 epochs - to check if the model can learn the problem.\n",
    "# Define model\n",
    "model = model_with_dropout()\n",
    "# Fit model\n",
    "history = model.fit_generator(training_set, steps_per_epoch=len(training_set),\n",
    "                              validation_data=test_set, \n",
    "                              validation_steps=len(test_set), \n",
    "                              epochs= epochs)"
   ]
  },
  {
   "cell_type": "code",
   "execution_count": 95,
   "metadata": {},
   "outputs": [
    {
     "name": "stdout",
     "output_type": "stream",
     "text": [
      "Accuracy: 50.9722\n"
     ]
    }
   ],
   "source": [
    "# Evaluate model\n",
    "_, acc = model.evaluate_generator(test_set, steps=len(test_set), verbose=0)\n",
    "print(\"Accuracy: %.4f\" % (acc * 100.0))"
   ]
  },
  {
   "cell_type": "code",
   "execution_count": 96,
   "metadata": {},
   "outputs": [
    {
     "data": {
      "image/png": "[encoded data removed]",
      "text/plain": [
       "<Figure size 720x360 with 2 Axes>"
      ]
     },
     "metadata": {
      "needs_background": "light"
     },
     "output_type": "display_data"
    }
   ],
   "source": [
    "# Build graphs\n",
    "summarize_diagnostics(history)"
   ]
  },
  {
   "cell_type": "code",
   "execution_count": 97,
   "metadata": {},
   "outputs": [
    {
     "name": "stdout",
     "output_type": "stream",
     "text": [
      "WARNING:tensorflow:Your input ran out of data; interrupting training. Make sure that your dataset or generator can generate at least `steps_per_epoch * epochs` batches (in this case, 38 batches). You may need to use the repeat() function when building your dataset.\n",
      "Confusion Matrix\n",
      "[[50 34 65 36 27 28]\n",
      " [63 40 63 33 20 21]\n",
      " [48 46 62 40 22 22]\n",
      " [58 36 68 26 23 29]\n",
      " [38 56 69 31 22 24]\n",
      " [54 48 51 34 24 29]]\n",
      "Classification Report\n",
      "              precision    recall  f1-score   support\n",
      "\n",
      "     Matisse       0.16      0.21      0.18       240\n",
      "       Monet       0.15      0.17      0.16       240\n",
      "     Pissaro       0.16      0.26      0.20       240\n",
      "      Renoir       0.13      0.11      0.12       240\n",
      "     Sargent       0.16      0.09      0.12       240\n",
      "     VanGogh       0.19      0.12      0.15       240\n",
      "\n",
      "    accuracy                           0.16      1440\n",
      "   macro avg       0.16      0.16      0.15      1440\n",
      "weighted avg       0.16      0.16      0.15      1440\n",
      "\n"
     ]
    }
   ],
   "source": [
    "class_report(test_set, model)"
   ]
  },
  {
   "cell_type": "code",
   "execution_count": 31,
   "metadata": {},
   "outputs": [],
   "source": [
    "# 2 step - Add Data augmentation\n",
    "# Use our model with dropout"
   ]
  },
  {
   "cell_type": "code",
   "execution_count": 98,
   "metadata": {},
   "outputs": [],
   "source": [
    "# Create data generators \n",
    "# Train generator with data augmentation\n",
    "train_datagen = ImageDataGenerator(rescale=1. / 255,\n",
    "                                   rotation_range=20,\n",
    "                                   width_shift_range=0.2,\n",
    "                                   height_shift_range=0.2,\n",
    "                                   shear_range=0.2,\n",
    "                                   zoom_range=0.2,\n",
    "                                   horizontal_flip=True,\n",
    "                                   fill_mode='nearest',\n",
    "                                   validation_split=0.3)\n",
    "\n",
    "test_datagen = ImageDataGenerator(rescale=1. / 255,\n",
    "                                  validation_split=0.3)"
   ]
  },
  {
   "cell_type": "code",
   "execution_count": 99,
   "metadata": {},
   "outputs": [
    {
     "name": "stdout",
     "output_type": "stream",
     "text": [
      "Found 3360 images belonging to 6 classes.\n",
      "Found 1440 images belonging to 6 classes.\n"
     ]
    }
   ],
   "source": [
    "# Create sets\n",
    "training_set = train_datagen.flow_from_directory('artists', \n",
    "                                                 subset=\"training\",\n",
    "                                                 target_size=(img_rows, img_cols),\n",
    "                                                 batch_size=batch_size,\n",
    "                                                 shuffle = True,\n",
    "# - link to discussion why both shuffles should be True - in the end of page- https://github.com/keras-team/keras/issues/5862\n",
    "                                                 seed=42, # seed makes sure that the data is randomized in the same order, same seed for both flows\n",
    "                                                 class_mode='categorical')\n",
    "\n",
    "\n",
    "test_set = test_datagen.flow_from_directory('artists', \n",
    "                                            subset=\"validation\",\n",
    "                                            target_size=(img_rows, img_cols),\n",
    "                                            batch_size=batch_size,\n",
    "                                            shuffle = True,\n",
    "                                            seed=42, #  seed makes sure that the data is randomized in the same order\n",
    "                                            class_mode='categorical')"
   ]
  },
  {
   "cell_type": "code",
   "execution_count": 100,
   "metadata": {},
   "outputs": [
    {
     "name": "stdout",
     "output_type": "stream",
     "text": [
      "Epoch 1/35\n",
      "53/53 [==============================] - 41s 771ms/step - loss: 1.9275 - accuracy: 0.1857 - val_loss: 1.7682 - val_accuracy: 0.2139\n",
      "Epoch 2/35\n",
      "53/53 [==============================] - 41s 776ms/step - loss: 1.7737 - accuracy: 0.2169 - val_loss: 1.7466 - val_accuracy: 0.2889\n",
      "Epoch 3/35\n",
      "53/53 [==============================] - 43s 809ms/step - loss: 1.7538 - accuracy: 0.2316 - val_loss: 1.7036 - val_accuracy: 0.3201\n",
      "Epoch 4/35\n",
      "53/53 [==============================] - 41s 775ms/step - loss: 1.7346 - accuracy: 0.2416 - val_loss: 1.6544 - val_accuracy: 0.3965\n",
      "Epoch 5/35\n",
      "53/53 [==============================] - 42s 782ms/step - loss: 1.6993 - accuracy: 0.2707 - val_loss: 1.6114 - val_accuracy: 0.3868\n",
      "Epoch 6/35\n",
      "53/53 [==============================] - 41s 777ms/step - loss: 1.6784 - accuracy: 0.2798 - val_loss: 1.6008 - val_accuracy: 0.3958\n",
      "Epoch 7/35\n",
      "53/53 [==============================] - 41s 769ms/step - loss: 1.6663 - accuracy: 0.2926 - val_loss: 1.5936 - val_accuracy: 0.3708\n",
      "Epoch 8/35\n",
      "53/53 [==============================] - 41s 780ms/step - loss: 1.6517 - accuracy: 0.2998 - val_loss: 1.5735 - val_accuracy: 0.4076\n",
      "Epoch 9/35\n",
      "53/53 [==============================] - 40s 752ms/step - loss: 1.6493 - accuracy: 0.3102 - val_loss: 1.5620 - val_accuracy: 0.4042\n",
      "Epoch 10/35\n",
      "53/53 [==============================] - 41s 771ms/step - loss: 1.6492 - accuracy: 0.3102 - val_loss: 1.5435 - val_accuracy: 0.4021\n",
      "Epoch 11/35\n",
      "53/53 [==============================] - 40s 759ms/step - loss: 1.5998 - accuracy: 0.3342 - val_loss: 1.5224 - val_accuracy: 0.4146\n",
      "Epoch 12/35\n",
      "53/53 [==============================] - 41s 761ms/step - loss: 1.6170 - accuracy: 0.3142 - val_loss: 1.5078 - val_accuracy: 0.4299\n",
      "Epoch 13/35\n",
      "53/53 [==============================] - 41s 762ms/step - loss: 1.5976 - accuracy: 0.3259 - val_loss: 1.4939 - val_accuracy: 0.4368\n",
      "Epoch 14/35\n",
      "53/53 [==============================] - 41s 778ms/step - loss: 1.5756 - accuracy: 0.3543 - val_loss: 1.4595 - val_accuracy: 0.4549\n",
      "Epoch 15/35\n",
      "53/53 [==============================] - 40s 753ms/step - loss: 1.5572 - accuracy: 0.3752 - val_loss: 1.4667 - val_accuracy: 0.4493\n",
      "Epoch 16/35\n",
      "53/53 [==============================] - 42s 786ms/step - loss: 1.5775 - accuracy: 0.3601 - val_loss: 1.5202 - val_accuracy: 0.4097\n",
      "Epoch 17/35\n",
      "53/53 [==============================] - 41s 761ms/step - loss: 1.5398 - accuracy: 0.3759 - val_loss: 1.4381 - val_accuracy: 0.4535\n",
      "Epoch 18/35\n",
      "53/53 [==============================] - 43s 810ms/step - loss: 1.5448 - accuracy: 0.3851 - val_loss: 1.4294 - val_accuracy: 0.4472\n",
      "Epoch 19/35\n",
      "53/53 [==============================] - 40s 759ms/step - loss: 1.5302 - accuracy: 0.3951 - val_loss: 1.4116 - val_accuracy: 0.4639\n",
      "Epoch 20/35\n",
      "53/53 [==============================] - 40s 753ms/step - loss: 1.5301 - accuracy: 0.3968 - val_loss: 1.4271 - val_accuracy: 0.4611\n",
      "Epoch 21/35\n",
      "53/53 [==============================] - 41s 765ms/step - loss: 1.5131 - accuracy: 0.4039 - val_loss: 1.4091 - val_accuracy: 0.4597\n",
      "Epoch 22/35\n",
      "53/53 [==============================] - 40s 752ms/step - loss: 1.4974 - accuracy: 0.4164 - val_loss: 1.3975 - val_accuracy: 0.4812\n",
      "Epoch 23/35\n",
      "53/53 [==============================] - 40s 757ms/step - loss: 1.4706 - accuracy: 0.4305 - val_loss: 1.3576 - val_accuracy: 0.4785\n",
      "Epoch 24/35\n",
      "53/53 [==============================] - 41s 765ms/step - loss: 1.4845 - accuracy: 0.4381 - val_loss: 1.3726 - val_accuracy: 0.4840\n",
      "Epoch 25/35\n",
      "53/53 [==============================] - 41s 762ms/step - loss: 1.4718 - accuracy: 0.4337 - val_loss: 1.3821 - val_accuracy: 0.4715\n",
      "Epoch 26/35\n",
      "53/53 [==============================] - 41s 773ms/step - loss: 1.4507 - accuracy: 0.4333 - val_loss: 1.4536 - val_accuracy: 0.4514\n",
      "Epoch 27/35\n",
      "53/53 [==============================] - 41s 766ms/step - loss: 1.4650 - accuracy: 0.4210 - val_loss: 1.3706 - val_accuracy: 0.4743\n",
      "Epoch 28/35\n",
      "53/53 [==============================] - 42s 786ms/step - loss: 1.4145 - accuracy: 0.4404 - val_loss: 1.3633 - val_accuracy: 0.4722\n",
      "Epoch 29/35\n",
      "53/53 [==============================] - 40s 757ms/step - loss: 1.4194 - accuracy: 0.4469 - val_loss: 1.3360 - val_accuracy: 0.4868\n",
      "Epoch 30/35\n",
      "53/53 [==============================] - 41s 773ms/step - loss: 1.4043 - accuracy: 0.4705 - val_loss: 1.3574 - val_accuracy: 0.4847\n",
      "Epoch 31/35\n",
      "53/53 [==============================] - 41s 762ms/step - loss: 1.4074 - accuracy: 0.4577 - val_loss: 1.3795 - val_accuracy: 0.4736\n",
      "Epoch 32/35\n",
      "53/53 [==============================] - 41s 779ms/step - loss: 1.3987 - accuracy: 0.4707 - val_loss: 1.3264 - val_accuracy: 0.5035\n",
      "Epoch 33/35\n",
      "53/53 [==============================] - 40s 748ms/step - loss: 1.4001 - accuracy: 0.4607 - val_loss: 1.3070 - val_accuracy: 0.5042\n",
      "Epoch 34/35\n",
      "53/53 [==============================] - 41s 763ms/step - loss: 1.3283 - accuracy: 0.4935 - val_loss: 1.3434 - val_accuracy: 0.4896\n",
      "Epoch 35/35\n",
      "53/53 [==============================] - 40s 752ms/step - loss: 1.3725 - accuracy: 0.4682 - val_loss: 1.4005 - val_accuracy: 0.4674\n"
     ]
    }
   ],
   "source": [
    "# Define model\n",
    "model1 = model_with_dropout()\n",
    "# Fit model\n",
    "history = model1.fit_generator(training_set, \n",
    "                              steps_per_epoch=len(training_set),\n",
    "                              validation_data=test_set, \n",
    "                              validation_steps=len(test_set), \n",
    "                              epochs= epochs)"
   ]
  },
  {
   "cell_type": "code",
   "execution_count": 101,
   "metadata": {},
   "outputs": [
    {
     "name": "stdout",
     "output_type": "stream",
     "text": [
      "Accuracy: 46.7361\n"
     ]
    }
   ],
   "source": [
    "# Evaluate model\n",
    "_, acc = model1.evaluate_generator(test_set, steps=len(test_set), verbose=0)\n",
    "print(\"Accuracy: %.4f\" % (acc * 100.0))"
   ]
  },
  {
   "cell_type": "code",
   "execution_count": 102,
   "metadata": {
    "scrolled": true
   },
   "outputs": [
    {
     "data": {
      "image/png": "[encoded data removed]",
      "text/plain": [
       "<Figure size 720x360 with 2 Axes>"
      ]
     },
     "metadata": {
      "needs_background": "light"
     },
     "output_type": "display_data"
    }
   ],
   "source": [
    "# Build graphs\n",
    "summarize_diagnostics(history)"
   ]
  },
  {
   "cell_type": "code",
   "execution_count": 105,
   "metadata": {},
   "outputs": [
    {
     "name": "stdout",
     "output_type": "stream",
     "text": [
      "Confusion Matrix\n",
      "[[ 27  50  34  12  21  96]\n",
      " [ 31  49  34  15  13  98]\n",
      " [ 29  36  46  16  17  96]\n",
      " [ 28  40  37  17  11 107]\n",
      " [ 27  57  32  12  19  93]\n",
      " [ 29  48  41  12  20  90]]\n",
      "Classification Report\n",
      "              precision    recall  f1-score   support\n",
      "\n",
      "     Matisse       0.16      0.11      0.13       240\n",
      "       Monet       0.17      0.20      0.19       240\n",
      "     Pissaro       0.21      0.19      0.20       240\n",
      "      Renoir       0.20      0.07      0.10       240\n",
      "     Sargent       0.19      0.08      0.11       240\n",
      "     VanGogh       0.16      0.38      0.22       240\n",
      "\n",
      "    accuracy                           0.17      1440\n",
      "   macro avg       0.18      0.17      0.16      1440\n",
      "weighted avg       0.18      0.17      0.16      1440\n",
      "\n"
     ]
    }
   ],
   "source": [
    "class_report(test_set, model1)"
   ]
  },
  {
   "cell_type": "code",
   "execution_count": 106,
   "metadata": {},
   "outputs": [
    {
     "name": "stdout",
     "output_type": "stream",
     "text": [
      "Confusion Matrix\n",
      "[[ 26  44  38  12  16 104]\n",
      " [ 22  45  32  15  21 105]\n",
      " [ 26  44  44  15  21  90]\n",
      " [ 32  60  37  15  11  85]\n",
      " [ 33  43  42  13  14  95]\n",
      " [ 32  44  31  14  18 101]]\n",
      "Classification Report\n",
      "              precision    recall  f1-score   support\n",
      "\n",
      "     Matisse       0.15      0.11      0.13       240\n",
      "       Monet       0.16      0.19      0.17       240\n",
      "     Pissaro       0.20      0.18      0.19       240\n",
      "      Renoir       0.18      0.06      0.09       240\n",
      "     Sargent       0.14      0.06      0.08       240\n",
      "     VanGogh       0.17      0.42      0.25       240\n",
      "\n",
      "    accuracy                           0.17      1440\n",
      "   macro avg       0.17      0.17      0.15      1440\n",
      "weighted avg       0.17      0.17      0.15      1440\n",
      "\n"
     ]
    }
   ],
   "source": [
    "#Confution Matrix and Classification Report\n",
    "Y_pred = model1.predict(test_set, 60)\n",
    "y_pred = np.argmax(Y_pred, axis=1)\n",
    "print('Confusion Matrix')\n",
    "print(confusion_matrix(test_set.classes, y_pred))\n",
    "print('Classification Report')\n",
    "target_names = list(training_set.class_indices.keys())\n",
    "print(classification_report(test_set.classes, y_pred, target_names=target_names))"
   ]
  },
  {
   "cell_type": "code",
   "execution_count": null,
   "metadata": {},
   "outputs": [],
   "source": []
  },
  {
   "cell_type": "code",
   "execution_count": null,
   "metadata": {},
   "outputs": [],
   "source": [
    "# model = Sequential()\n",
    "# model.add(Conv2D(32, (5, 5), input_shape=(img_rows, img_cols, 3), padding='valid'))\n",
    "# model.add(Activation('relu'))\n",
    "# model.add(MaxPooling2D(pool_size=(2, 2)))\n",
    "\n",
    "# model.add(Conv2D(32, (5, 5), padding='valid'))\n",
    "# model.add(Activation('relu'))\n",
    "# model.add(MaxPooling2D(pool_size=(2, 2)))\n",
    "\n",
    "# model.add(Conv2D(64, (5, 5), padding='valid'))\n",
    "# model.add(Activation('relu'))\n",
    "# model.add(MaxPooling2D(pool_size=(2, 2)))\n",
    "\n",
    "# model.add(Flatten())\n",
    "# model.add(Dense(64))\n",
    "# model.add(Activation('relu'))\n",
    "# model.add(Dropout(0.5))\n",
    "# model.add(Dense(11))\n",
    "# model.add(Activation('softmax'))\n",
    "\n",
    "# model.compile(loss='categorical_crossentropy',\n",
    "#               optimizer='rmsprop',\n",
    "#               metrics=['accuracy'])\n",
    "\n",
    "# #Train\n",
    "# model.fit(training_set,\n",
    "#                     steps_per_epoch=num_of_train_samples // batch_size,\n",
    "#                     epochs=epochs,\n",
    "#                     validation_data=test_set,\n",
    "#                     validation_steps=num_of_test_samples // batch_size)"
   ]
  },
  {
   "cell_type": "code",
   "execution_count": null,
   "metadata": {},
   "outputs": [],
   "source": []
  }
 ],
 "metadata": {
  "kernelspec": {
   "display_name": "Python 3",
   "language": "python",
   "name": "python3"
  },
  "language_info": {
   "codemirror_mode": {
    "name": "ipython",
    "version": 3
   },
   "file_extension": ".py",
   "mimetype": "text/x-python",
   "name": "python",
   "nbconvert_exporter": "python",
   "pygments_lexer": "ipython3",
   "version": "3.8.5"
  }
 },
 "nbformat": 4,
 "nbformat_minor": 5
}
