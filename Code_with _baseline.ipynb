{
 "cells": [
  {
   "cell_type": "code",
   "execution_count": 45,
   "metadata": {},
   "outputs": [],
   "source": [
    "# Importing the Keras libraries and packages\n",
    "from matplotlib import pyplot\n",
    "from keras.models import Sequential\n",
    "from keras.layers import Conv2D\n",
    "from keras.layers import MaxPooling2D\n",
    "from keras.layers import Flatten\n",
    "from keras.layers import Dense\n",
    "from keras.layers.core import Dense, Dropout, Activation, Flatten\n",
    "import warnings\n",
    "warnings.filterwarnings(\"ignore\")\n",
    "import numpy as np\n",
    "from sklearn.metrics import classification_report, confusion_matrix\n",
    "from keras.optimizers import SGD\n",
    "from keras.preprocessing.image import ImageDataGenerator"
   ]
  },
  {
   "cell_type": "code",
   "execution_count": 46,
   "metadata": {},
   "outputs": [],
   "source": [
    "# Part 1 - Develop a Baseline CNN Model\n",
    "\n",
    "# A baseline model will show us a minimal model performance \n",
    "# to which other models will be compared\n",
    "\n",
    "img_rows = 200\n",
    "img_cols = 200\n",
    "epochs = 20\n",
    "batch_size = 64\n",
    "num_of_train_samples = 5606\n",
    "num_of_test_samples = 2397"
   ]
  },
  {
   "cell_type": "code",
   "execution_count": 47,
   "metadata": {},
   "outputs": [],
   "source": [
    "# plot diagnostic learning curves\n",
    "def summarize_diagnostics(history):\n",
    "    pyplot.figure(figsize=(10,5))\n",
    "    # plot loss\n",
    "    pyplot.subplot(121)\n",
    "    pyplot.title('Entropy Loss')\n",
    "    pyplot.plot(history.history['loss'], color='green', label='train')\n",
    "    pyplot.plot(history.history['val_loss'], color='blue', label='test')\n",
    "    pyplot.legend()\n",
    "    # plot accuracy\n",
    "    pyplot.subplot(122)\n",
    "    pyplot.title('\\nClassification Accuracy')\n",
    "    pyplot.plot(history.history['accuracy'], color='green', label='train')\n",
    "    pyplot.plot(history.history['val_accuracy'], color='blue', label='test')\n",
    "    pyplot.legend()\n",
    "    # save plot to file\n",
    "#     filename = sys.argv[0].split('/')[-1]\n",
    "#     pyplot.savefig(filename + '_plot.png')\n",
    "#     pyplot.close()\n",
    "    pyplot.show()"
   ]
  },
  {
   "cell_type": "code",
   "execution_count": 48,
   "metadata": {},
   "outputs": [],
   "source": [
    "# Function that calculates Confusion Matrix and shows Classification Report\n",
    "def class_report(test_set, model):\n",
    "    Y_pred = model.predict_generator(test_set, num_of_test_samples // batch_size+1)\n",
    "    y_pred = np.argmax(Y_pred, axis=1)\n",
    "    print('Confusion Matrix')\n",
    "    print(confusion_matrix(test_set.classes, y_pred))\n",
    "    print('Classification Report')\n",
    "    target_names = list(training_set.class_indices.keys())\n",
    "    print(classification_report(test_set.classes, y_pred, target_names=target_names))"
   ]
  },
  {
   "cell_type": "code",
   "execution_count": 49,
   "metadata": {},
   "outputs": [],
   "source": [
    "# Prepare the data. Instanciate ImageDataGenerator that scalse the pixel values to the range of 0-1\n",
    "# We don't use data augmentation, dropout etc for the Baseline models to check a minimal model performance \n",
    "datagen = ImageDataGenerator(rescale=1. / 255, validation_split=0.3)\n"
   ]
  },
  {
   "cell_type": "code",
   "execution_count": 51,
   "metadata": {},
   "outputs": [
    {
     "name": "stdout",
     "output_type": "stream",
     "text": [
      "Found 5606 images belonging to 11 classes.\n",
      "Found 2397 images belonging to 11 classes.\n"
     ]
    }
   ],
   "source": [
    "training_set = datagen.flow_from_directory('Artists_dataset', \n",
    "                                                 subset=\"training\",\n",
    "                                                 target_size=(img_rows, img_cols),\n",
    "                                                 batch_size=batch_size, shuffle = False,\n",
    "                                                 class_mode='categorical')\n",
    "\n",
    "test_set = datagen.flow_from_directory('Artists_dataset', \n",
    "                                            subset=\"validation\",\n",
    "                                            target_size=(img_rows, img_cols),\n",
    "                                            batch_size=batch_size, shuffle=False,\n",
    "                                            class_mode='categorical')"
   ]
  },
  {
   "cell_type": "code",
   "execution_count": 52,
   "metadata": {},
   "outputs": [
    {
     "name": "stdout",
     "output_type": "stream",
     "text": [
      "{'Cezanne': 0, 'Degas': 1, 'Manet': 2, 'Matisse': 3, 'Monet': 4, 'Morisot': 5, 'Pissaro': 6, 'Renoir': 7, 'Sargent': 8, 'Sisley': 9, 'Sorolla': 10}\n"
     ]
    }
   ],
   "source": [
    "print(test_set.class_indices)"
   ]
  },
  {
   "cell_type": "code",
   "execution_count": 8,
   "metadata": {},
   "outputs": [],
   "source": [
    "# VGG Blocks\n",
    "# The basic building block of classic CNNs is a sequence of the following: \n",
    "#     (i) a convolutional layer with padding to maintain the resolution, \n",
    "#     (ii) a nonlinearity such as a ReLU, \n",
    "#     (iii) a pooling layer such as a max pooling layer. \n",
    "# One VGG block consists of a sequence of convolutional layers, \n",
    "# followed by a max pooling layer for spatial downsampling. \n",
    "# In the original VGG paper [Simonyan & Zisserman, 2014], the authors employed convolutions with  3×3  kernels \n",
    "# with padding of 1 (keeping height and width) \n",
    "# and  2×2  max pooling with stride of 2 (halving the resolution after each block). "
   ]
  },
  {
   "cell_type": "code",
   "execution_count": 54,
   "metadata": {},
   "outputs": [],
   "source": [
    "# Define CNN model with one VGG-style block\n",
    "# The 1-block VGG model has a single convolutional layer with 32 filters \n",
    "# followed by a max pooling layer\n",
    "def baseline_model_1():\n",
    "    model = Sequential()\n",
    "    \n",
    "    model.add(Conv2D(32, (3, 3), activation='relu', \n",
    "                     kernel_initializer='he_uniform', \n",
    "                     padding='same', input_shape=(200, 200, 3)))\n",
    "    model.add(MaxPooling2D((2, 2)))\n",
    "    \n",
    "    model.add(Flatten())\n",
    "    model.add(Dense(128, activation='relu', \n",
    "                    kernel_initializer='he_uniform'))\n",
    "    model.add(Dense(11, activation='softmax'))\n",
    "    # Compilation of a model\n",
    "    opt = SGD(lr=0.001, momentum=0.9) # Gradient descent (with momentum) optimizer.\n",
    "    model.compile(optimizer=opt, loss='categorical_crossentropy', metrics=['accuracy'])\n",
    "    return model"
   ]
  },
  {
   "cell_type": "code",
   "execution_count": 59,
   "metadata": {},
   "outputs": [],
   "source": [
    "# The model will be fit for 20 epochs - to check if the model can learn the problem.\n",
    "# Define model\n",
    "model = baseline_model_1()\n",
    "# Fit model\n",
    "history = model.fit_generator(training_set, \n",
    "                              steps_per_epoch=len(training_set), # = num_of_train_samples // batch_size +1\n",
    "                              validation_data=test_set, \n",
    "                              validation_steps=len(test_set), # = num_of_test_samples // batch_size +1\n",
    "                              epochs= epochs, \n",
    "                              verbose = 0)"
   ]
  },
  {
   "cell_type": "code",
   "execution_count": 60,
   "metadata": {},
   "outputs": [
    {
     "name": "stdout",
     "output_type": "stream",
     "text": [
      "Accuracy: 37.2966\n"
     ]
    }
   ],
   "source": [
    "# evaluate model\n",
    "_, acc = model.evaluate_generator(test_set, steps=len(test_set), verbose=0)\n",
    "print(\"Accuracy: %.4f\" % (acc * 100.0))"
   ]
  },
  {
   "cell_type": "code",
   "execution_count": 61,
   "metadata": {},
   "outputs": [
    {
     "data": {
      "image/png": "[encoded data removed]",
      "text/plain": [
       "<Figure size 720x360 with 2 Axes>"
      ]
     },
     "metadata": {
      "needs_background": "light"
     },
     "output_type": "display_data"
    }
   ],
   "source": [
    "# Build graphs\n",
    "summarize_diagnostics(history)"
   ]
  },
  {
   "cell_type": "code",
   "execution_count": 13,
   "metadata": {},
   "outputs": [
    {
     "name": "stdout",
     "output_type": "stream",
     "text": [
      "Confusion Matrix\n",
      "[[ 53  23   0  38  18   0   8  13   7   0  16]\n",
      " [ 17 101   0  13   5   0   4  36   6   0   5]\n",
      " [ 23  11   0   2   7   0   3   8  14   0   2]\n",
      " [ 39  33   0 161  25   0   3  26   6   0   9]\n",
      " [ 47  34   0  54 183   0  54  19  10   4   5]\n",
      " [  8  20   0  15   8   0   7  10   0   0   4]\n",
      " [ 36  38   0  13  45   0 117   9   1   2   5]\n",
      " [ 33  90   0  38  15   0  32 192  19   1   3]\n",
      " [ 35  47   0  38  28   0  12  24  50   0   6]\n",
      " [ 14  10   0  11  52   0  40   5   1   7   1]\n",
      " [ 17  27   0  17   8   0   7  10   3   0  21]]\n",
      "Classification Report\n",
      "              precision    recall  f1-score   support\n",
      "\n",
      "     Cezanne       0.16      0.30      0.21       176\n",
      "       Degas       0.23      0.54      0.33       187\n",
      "       Manet       0.00      0.00      0.00        70\n",
      "     Matisse       0.40      0.53      0.46       302\n",
      "       Monet       0.46      0.45      0.46       410\n",
      "     Morisot       0.00      0.00      0.00        72\n",
      "     Pissaro       0.41      0.44      0.42       266\n",
      "      Renoir       0.55      0.45      0.50       423\n",
      "     Sargent       0.43      0.21      0.28       240\n",
      "      Sisley       0.50      0.05      0.09       141\n",
      "     Sorolla       0.27      0.19      0.22       110\n",
      "\n",
      "    accuracy                           0.37      2397\n",
      "   macro avg       0.31      0.29      0.27      2397\n",
      "weighted avg       0.39      0.37      0.35      2397\n",
      "\n"
     ]
    }
   ],
   "source": [
    "class_report(test_set, model)"
   ]
  },
  {
   "cell_type": "code",
   "execution_count": 14,
   "metadata": {},
   "outputs": [],
   "source": [
    "# Define CNN model with two VGG-style blocks\n",
    "def baseline_model_2():\n",
    "    model = Sequential()\n",
    "# 1st block    \n",
    "    model.add(Conv2D(32, (3, 3), activation='relu', \n",
    "                     kernel_initializer='he_uniform', \n",
    "                     padding='same', input_shape=(200, 200, 3)))\n",
    "    model.add(MaxPooling2D((2, 2)))\n",
    "# 2d block    \n",
    "    model.add(Conv2D(64, (3, 3), activation='relu', \n",
    "                     kernel_initializer='he_uniform', \n",
    "                     padding='same', input_shape=(200, 200, 3)))\n",
    "    model.add(MaxPooling2D((2, 2)))\n",
    "   \n",
    "    model.add(Flatten())\n",
    "    model.add(Dense(128, activation='relu', \n",
    "                    kernel_initializer='he_uniform'))\n",
    "    model.add(Dense(11, activation='softmax'))\n",
    "    # Compilation of a model\n",
    "    opt = SGD(lr=0.001, momentum=0.9) # Gradient descent (with momentum) optimizer.\n",
    "    model.compile(optimizer=opt, loss='categorical_crossentropy', metrics=['accuracy'])\n",
    "    return model"
   ]
  },
  {
   "cell_type": "code",
   "execution_count": 15,
   "metadata": {},
   "outputs": [],
   "source": [
    "# The model will be fit for 20 epochs - to check if the model can learn the problem.\n",
    "# define model\n",
    "model = baseline_model_2()\n",
    "# fit model\n",
    "history = model.fit_generator(training_set, steps_per_epoch=len(training_set),\n",
    "                              validation_data=test_set, \n",
    "                              validation_steps=len(test_set), \n",
    "                              epochs= epochs, \n",
    "                              verbose = 0)"
   ]
  },
  {
   "cell_type": "code",
   "execution_count": 16,
   "metadata": {},
   "outputs": [
    {
     "name": "stdout",
     "output_type": "stream",
     "text": [
      "Accuracy: 37.5887\n"
     ]
    }
   ],
   "source": [
    "# evaluate model\n",
    "_, acc = model.evaluate_generator(test_set, steps=len(test_set), verbose=0)\n",
    "print(\"Accuracy: %.4f\" % (acc * 100.0))"
   ]
  },
  {
   "cell_type": "code",
   "execution_count": 17,
   "metadata": {},
   "outputs": [
    {
     "data": {
      "image/png": "[encoded data removed]",
      "text/plain": [
       "<Figure size 720x360 with 2 Axes>"
      ]
     },
     "metadata": {
      "needs_background": "light"
     },
     "output_type": "display_data"
    }
   ],
   "source": [
    "# Build graphs\n",
    "summarize_diagnostics(history)"
   ]
  },
  {
   "cell_type": "code",
   "execution_count": 18,
   "metadata": {},
   "outputs": [],
   "source": [
    "# Define CNN model with three VGG-style blocks\n",
    "def baseline_model_3():\n",
    "    model = Sequential()\n",
    "# 1st block    \n",
    "    model.add(Conv2D(32, (3, 3), activation='relu', \n",
    "                     kernel_initializer='he_uniform', \n",
    "                     padding='same', input_shape=(200, 200, 3)))\n",
    "    model.add(MaxPooling2D((2, 2)))\n",
    "# 2d block    \n",
    "    model.add(Conv2D(64, (3, 3), activation='relu', \n",
    "                     kernel_initializer='he_uniform', \n",
    "                     padding='same', input_shape=(200, 200, 3)))\n",
    "    model.add(MaxPooling2D((2, 2)))\n",
    "# 3d block\n",
    "    model.add(Conv2D(128, (3, 3), activation='relu', \n",
    "                     kernel_initializer='he_uniform', \n",
    "                     padding='same', input_shape=(200, 200, 3)))\n",
    "    model.add(MaxPooling2D((2, 2)))\n",
    "   \n",
    "    model.add(Flatten())\n",
    "    model.add(Dense(128, activation='relu', \n",
    "                    kernel_initializer='he_uniform'))\n",
    "    model.add(Dense(11, activation='softmax'))\n",
    "    # Compilation of a model\n",
    "    opt = SGD(lr=0.001, momentum=0.9) # Gradient descent (with momentum) optimizer.\n",
    "    model.compile(optimizer=opt, loss='categorical_crossentropy', metrics=['accuracy'])\n",
    "    return model"
   ]
  },
  {
   "cell_type": "code",
   "execution_count": 19,
   "metadata": {},
   "outputs": [],
   "source": [
    "# The model will be fit for 20 epochs - to check if the model can learn the problem.\n",
    "# Define model\n",
    "model = baseline_model_3()\n",
    "# Fit model\n",
    "history = model.fit_generator(training_set, steps_per_epoch=len(training_set),\n",
    "                              validation_data=test_set, \n",
    "                              validation_steps=len(test_set), \n",
    "                              epochs= epochs, \n",
    "                              verbose = 0)"
   ]
  },
  {
   "cell_type": "code",
   "execution_count": 20,
   "metadata": {},
   "outputs": [
    {
     "name": "stdout",
     "output_type": "stream",
     "text": [
      "Accuracy: 43.3458\n"
     ]
    }
   ],
   "source": [
    "# Evaluate model\n",
    "_, acc = model.evaluate_generator(test_set, steps=len(test_set), verbose=0)\n",
    "print(\"Accuracy: %.4f\" % (acc * 100.0))"
   ]
  },
  {
   "cell_type": "code",
   "execution_count": 21,
   "metadata": {},
   "outputs": [
    {
     "data": {
      "image/png": "[encoded data removed]",
      "text/plain": [
       "<Figure size 720x360 with 2 Axes>"
      ]
     },
     "metadata": {
      "needs_background": "light"
     },
     "output_type": "display_data"
    }
   ],
   "source": [
    "# Build graphs\n",
    "summarize_diagnostics(history)"
   ]
  },
  {
   "cell_type": "code",
   "execution_count": 3,
   "metadata": {},
   "outputs": [],
   "source": [
    "# Part 2 - Add Dropout Regularization and Data Augmentation\n",
    "# to our Baseline model step by step and evaluate an efficiency  \n",
    "# ___________________________________________________________\n",
    "\n",
    "\n",
    "# 1 step - Add Dropout"
   ]
  },
  {
   "cell_type": "code",
   "execution_count": 29,
   "metadata": {},
   "outputs": [],
   "source": []
  },
  {
   "cell_type": "code",
   "execution_count": 33,
   "metadata": {},
   "outputs": [],
   "source": [
    "# Define CNN model with Dropout Regularization\n",
    "def model_with_dropout():\n",
    "    model = Sequential()\n",
    "# 1st block    \n",
    "    model.add(Conv2D(32, (3, 3), activation='relu', \n",
    "                     kernel_initializer='he_uniform', \n",
    "                     padding='same', input_shape=(200, 200, 3)))\n",
    "    model.add(MaxPooling2D((2, 2)))\n",
    "   \n",
    "   \n",
    "    model.add(Conv2D(64, (3, 3), activation='relu', \n",
    "                     kernel_initializer='he_uniform', \n",
    "                     padding='same', input_shape=(200, 200, 3)))\n",
    "    model.add(MaxPooling2D((2, 2)))\n",
    "   \n",
    "\n",
    "    model.add(Conv2D(128, (3, 3), activation='relu', \n",
    "                     kernel_initializer='he_uniform', \n",
    "                     padding='same', input_shape=(200, 200, 3)))\n",
    "    model.add(MaxPooling2D((2, 2)))\n",
    "    \n",
    "   \n",
    "    model.add(Flatten())\n",
    "    model.add(Dense(128, activation='relu', \n",
    "                    kernel_initializer='he_uniform'))\n",
    "    model.add(Dropout(0.5))\n",
    "    model.add(Dense(11, activation='softmax'))\n",
    "    # Compilation of a model\n",
    "    opt = SGD(lr=0.001, momentum=0.9) # Gradient descent (with momentum) optimizer.\n",
    "    model.compile(optimizer=opt, loss='categorical_crossentropy', metrics=['accuracy'])\n",
    "    return model"
   ]
  },
  {
   "cell_type": "code",
   "execution_count": 34,
   "metadata": {},
   "outputs": [
    {
     "name": "stdout",
     "output_type": "stream",
     "text": [
      "Epoch 1/20\n",
      "88/88 [==============================] - 174s 2s/step - loss: 2.3661 - accuracy: 0.1617 - val_loss: 2.1674 - val_accuracy: 0.2858\n",
      "Epoch 2/20\n",
      "88/88 [==============================] - 192s 2s/step - loss: 2.2082 - accuracy: 0.2440 - val_loss: 2.0763 - val_accuracy: 0.3116\n",
      "Epoch 3/20\n",
      "88/88 [==============================] - 193s 2s/step - loss: 2.1458 - accuracy: 0.2692 - val_loss: 2.0508 - val_accuracy: 0.3100\n",
      "Epoch 4/20\n",
      "88/88 [==============================] - 203s 2s/step - loss: 2.0748 - accuracy: 0.3103 - val_loss: 2.0054 - val_accuracy: 0.3588\n",
      "Epoch 5/20\n",
      "88/88 [==============================] - 200s 2s/step - loss: 2.0762 - accuracy: 0.3000 - val_loss: 1.9889 - val_accuracy: 0.3358\n",
      "Epoch 6/20\n",
      "88/88 [==============================] - 182s 2s/step - loss: 1.9926 - accuracy: 0.3450 - val_loss: 1.9064 - val_accuracy: 0.3725\n",
      "Epoch 7/20\n",
      "88/88 [==============================] - 169s 2s/step - loss: 1.9720 - accuracy: 0.3366 - val_loss: 1.8716 - val_accuracy: 0.3655\n",
      "Epoch 8/20\n",
      "88/88 [==============================] - 162s 2s/step - loss: 1.9057 - accuracy: 0.3629 - val_loss: 1.8488 - val_accuracy: 0.3700\n",
      "Epoch 9/20\n",
      "88/88 [==============================] - 158s 2s/step - loss: 1.9039 - accuracy: 0.3582 - val_loss: 1.8514 - val_accuracy: 0.3913\n",
      "Epoch 10/20\n",
      "88/88 [==============================] - 160s 2s/step - loss: 1.8634 - accuracy: 0.3793 - val_loss: 1.7765 - val_accuracy: 0.3997\n",
      "Epoch 11/20\n",
      "88/88 [==============================] - 158s 2s/step - loss: 1.8042 - accuracy: 0.3933 - val_loss: 1.7571 - val_accuracy: 0.4134\n",
      "Epoch 12/20\n",
      "88/88 [==============================] - 160s 2s/step - loss: 1.7511 - accuracy: 0.4180 - val_loss: 1.7170 - val_accuracy: 0.4406\n",
      "Epoch 13/20\n",
      "88/88 [==============================] - 158s 2s/step - loss: 1.7248 - accuracy: 0.4306 - val_loss: 1.6902 - val_accuracy: 0.4305\n",
      "Epoch 14/20\n",
      "88/88 [==============================] - 165s 2s/step - loss: 1.6406 - accuracy: 0.4570 - val_loss: 1.6840 - val_accuracy: 0.4326\n",
      "Epoch 15/20\n",
      "88/88 [==============================] - 162s 2s/step - loss: 1.6388 - accuracy: 0.4458 - val_loss: 1.6354 - val_accuracy: 0.4568\n",
      "Epoch 16/20\n",
      "88/88 [==============================] - 166s 2s/step - loss: 1.5617 - accuracy: 0.4852 - val_loss: 1.6313 - val_accuracy: 0.4652\n",
      "Epoch 17/20\n",
      "88/88 [==============================] - 168s 2s/step - loss: 1.5517 - accuracy: 0.4804 - val_loss: 1.6413 - val_accuracy: 0.4376\n",
      "Epoch 18/20\n",
      "88/88 [==============================] - 173s 2s/step - loss: 1.4830 - accuracy: 0.5010 - val_loss: 1.5956 - val_accuracy: 0.4643\n",
      "Epoch 19/20\n",
      "88/88 [==============================] - 172s 2s/step - loss: 1.4466 - accuracy: 0.5151 - val_loss: 1.6277 - val_accuracy: 0.4497\n",
      "Epoch 20/20\n",
      "88/88 [==============================] - 170s 2s/step - loss: 1.3892 - accuracy: 0.5361 - val_loss: 1.5885 - val_accuracy: 0.4743\n"
     ]
    }
   ],
   "source": [
    "# The model will be fit for 20 epochs - to check if the model can learn the problem.\n",
    "# Define model\n",
    "model = model_with_dropout()\n",
    "# Fit model\n",
    "history = model.fit_generator(training_set, steps_per_epoch=len(training_set),\n",
    "                              validation_data=test_set, \n",
    "                              validation_steps=len(test_set), \n",
    "                              epochs= epochs, \n",
    "                              verbose=0)"
   ]
  },
  {
   "cell_type": "code",
   "execution_count": 35,
   "metadata": {},
   "outputs": [
    {
     "name": "stdout",
     "output_type": "stream",
     "text": [
      "Accuracy: 47.4343\n"
     ]
    }
   ],
   "source": [
    "# Evaluate model\n",
    "_, acc = model.evaluate_generator(test_set, steps=len(test_set), verbose=0)\n",
    "print(\"Accuracy: %.4f\" % (acc * 100.0))"
   ]
  },
  {
   "cell_type": "code",
   "execution_count": 36,
   "metadata": {},
   "outputs": [
    {
     "data": {
      "image/png": "[encoded data removed]",
      "text/plain": [
       "<Figure size 720x360 with 2 Axes>"
      ]
     },
     "metadata": {
      "needs_background": "light"
     },
     "output_type": "display_data"
    }
   ],
   "source": [
    "# Build graphs\n",
    "summarize_diagnostics(history)"
   ]
  },
  {
   "cell_type": "code",
   "execution_count": null,
   "metadata": {},
   "outputs": [],
   "source": [
    "# 2 step - Add Data augmentation\n",
    "# Use our model with dropout"
   ]
  },
  {
   "cell_type": "code",
   "execution_count": 68,
   "metadata": {},
   "outputs": [],
   "source": [
    "# # Create data generators \n",
    "# # Train generator with data augmentation\n",
    "# train_datagen = ImageDataGenerator(rescale=1. / 255,\n",
    "#                                    rotation_range=40,\n",
    "#                                    width_shift_range=0.2,\n",
    "#                                    height_shift_range=0.2,\n",
    "#                                    shear_range=0.2,\n",
    "#                                    zoom_range=0.2,\n",
    "#                                    horizontal_flip=True,\n",
    "#                                    fill_mode='nearest',\n",
    "#                                    validation_split=0.3,\n",
    "#                                   )\n",
    "\n",
    "# test_datagen = ImageDataGenerator(rescale=1. / 255,\n",
    "#                                   validation_split=0.3)"
   ]
  },
  {
   "cell_type": "code",
   "execution_count": 70,
   "metadata": {},
   "outputs": [
    {
     "name": "stdout",
     "output_type": "stream",
     "text": [
      "Found 5606 images belonging to 11 classes.\n",
      "Found 2397 images belonging to 11 classes.\n"
     ]
    }
   ],
   "source": [
    "# # Create sets\n",
    "# training_set = train_datagen.flow_from_directory('Artists_dataset', \n",
    "#                                                  subset=\"training\",\n",
    "#                                                  target_size=(img_rows, img_cols),\n",
    "#                                                  batch_size=batch_size,\n",
    "#                                                  shuffle=False,\n",
    "#                                                  class_mode='categorical')\n",
    "\n",
    "\n",
    "# test_set = train_datagen.flow_from_directory('Artists_dataset', \n",
    "#                                             subset=\"validation\",\n",
    "#                                             target_size=(img_rows, img_cols),\n",
    "#                                             batch_size=batch_size,\n",
    "#                                             shuffle=False,\n",
    "#                                             class_mode='categorical')"
   ]
  },
  {
   "cell_type": "code",
   "execution_count": 71,
   "metadata": {},
   "outputs": [
    {
     "name": "stdout",
     "output_type": "stream",
     "text": [
      "Epoch 1/20\n",
      "77/88 [=========================>....] - ETA: 18s - loss: 4.9713 - accuracy: 0.1271"
     ]
    },
    {
     "ename": "KeyboardInterrupt",
     "evalue": "",
     "output_type": "error",
     "traceback": [
      "\u001b[1;31m---------------------------------------------------------------------------\u001b[0m",
      "\u001b[1;31mKeyboardInterrupt\u001b[0m                         Traceback (most recent call last)",
      "\u001b[1;32m<ipython-input-71-8ed5d0f7f612>\u001b[0m in \u001b[0;36m<module>\u001b[1;34m\u001b[0m\n\u001b[0;32m      2\u001b[0m \u001b[0mmodel\u001b[0m \u001b[1;33m=\u001b[0m \u001b[0mmodel_with_dropout\u001b[0m\u001b[1;33m(\u001b[0m\u001b[1;33m)\u001b[0m\u001b[1;33m\u001b[0m\u001b[1;33m\u001b[0m\u001b[0m\n\u001b[0;32m      3\u001b[0m \u001b[1;31m# Fit model\u001b[0m\u001b[1;33m\u001b[0m\u001b[1;33m\u001b[0m\u001b[1;33m\u001b[0m\u001b[0m\n\u001b[1;32m----> 4\u001b[1;33m history = model.fit_generator(training_set, \n\u001b[0m\u001b[0;32m      5\u001b[0m                               \u001b[0msteps_per_epoch\u001b[0m\u001b[1;33m=\u001b[0m\u001b[0mlen\u001b[0m\u001b[1;33m(\u001b[0m\u001b[0mtraining_set\u001b[0m\u001b[1;33m)\u001b[0m\u001b[1;33m,\u001b[0m\u001b[1;33m\u001b[0m\u001b[1;33m\u001b[0m\u001b[0m\n\u001b[0;32m      6\u001b[0m                               \u001b[0mvalidation_data\u001b[0m\u001b[1;33m=\u001b[0m\u001b[0mtest_set\u001b[0m\u001b[1;33m,\u001b[0m\u001b[1;33m\u001b[0m\u001b[1;33m\u001b[0m\u001b[0m\n",
      "\u001b[1;32m~\\anaconda3\\lib\\site-packages\\tensorflow\\python\\keras\\engine\\training.py\u001b[0m in \u001b[0;36mfit_generator\u001b[1;34m(self, generator, steps_per_epoch, epochs, verbose, callbacks, validation_data, validation_steps, validation_freq, class_weight, max_queue_size, workers, use_multiprocessing, shuffle, initial_epoch)\u001b[0m\n\u001b[0;32m   1845\u001b[0m                   \u001b[1;34m'will be removed in a future version. '\u001b[0m\u001b[1;33m\u001b[0m\u001b[1;33m\u001b[0m\u001b[0m\n\u001b[0;32m   1846\u001b[0m                   'Please use `Model.fit`, which supports generators.')\n\u001b[1;32m-> 1847\u001b[1;33m     return self.fit(\n\u001b[0m\u001b[0;32m   1848\u001b[0m         \u001b[0mgenerator\u001b[0m\u001b[1;33m,\u001b[0m\u001b[1;33m\u001b[0m\u001b[1;33m\u001b[0m\u001b[0m\n\u001b[0;32m   1849\u001b[0m         \u001b[0msteps_per_epoch\u001b[0m\u001b[1;33m=\u001b[0m\u001b[0msteps_per_epoch\u001b[0m\u001b[1;33m,\u001b[0m\u001b[1;33m\u001b[0m\u001b[1;33m\u001b[0m\u001b[0m\n",
      "\u001b[1;32m~\\anaconda3\\lib\\site-packages\\tensorflow\\python\\keras\\engine\\training.py\u001b[0m in \u001b[0;36mfit\u001b[1;34m(self, x, y, batch_size, epochs, verbose, callbacks, validation_split, validation_data, shuffle, class_weight, sample_weight, initial_epoch, steps_per_epoch, validation_steps, validation_batch_size, validation_freq, max_queue_size, workers, use_multiprocessing)\u001b[0m\n\u001b[0;32m   1098\u001b[0m                 _r=1):\n\u001b[0;32m   1099\u001b[0m               \u001b[0mcallbacks\u001b[0m\u001b[1;33m.\u001b[0m\u001b[0mon_train_batch_begin\u001b[0m\u001b[1;33m(\u001b[0m\u001b[0mstep\u001b[0m\u001b[1;33m)\u001b[0m\u001b[1;33m\u001b[0m\u001b[1;33m\u001b[0m\u001b[0m\n\u001b[1;32m-> 1100\u001b[1;33m               \u001b[0mtmp_logs\u001b[0m \u001b[1;33m=\u001b[0m \u001b[0mself\u001b[0m\u001b[1;33m.\u001b[0m\u001b[0mtrain_function\u001b[0m\u001b[1;33m(\u001b[0m\u001b[0miterator\u001b[0m\u001b[1;33m)\u001b[0m\u001b[1;33m\u001b[0m\u001b[1;33m\u001b[0m\u001b[0m\n\u001b[0m\u001b[0;32m   1101\u001b[0m               \u001b[1;32mif\u001b[0m \u001b[0mdata_handler\u001b[0m\u001b[1;33m.\u001b[0m\u001b[0mshould_sync\u001b[0m\u001b[1;33m:\u001b[0m\u001b[1;33m\u001b[0m\u001b[1;33m\u001b[0m\u001b[0m\n\u001b[0;32m   1102\u001b[0m                 \u001b[0mcontext\u001b[0m\u001b[1;33m.\u001b[0m\u001b[0masync_wait\u001b[0m\u001b[1;33m(\u001b[0m\u001b[1;33m)\u001b[0m\u001b[1;33m\u001b[0m\u001b[1;33m\u001b[0m\u001b[0m\n",
      "\u001b[1;32m~\\anaconda3\\lib\\site-packages\\tensorflow\\python\\eager\\def_function.py\u001b[0m in \u001b[0;36m__call__\u001b[1;34m(self, *args, **kwds)\u001b[0m\n\u001b[0;32m    826\u001b[0m     \u001b[0mtracing_count\u001b[0m \u001b[1;33m=\u001b[0m \u001b[0mself\u001b[0m\u001b[1;33m.\u001b[0m\u001b[0mexperimental_get_tracing_count\u001b[0m\u001b[1;33m(\u001b[0m\u001b[1;33m)\u001b[0m\u001b[1;33m\u001b[0m\u001b[1;33m\u001b[0m\u001b[0m\n\u001b[0;32m    827\u001b[0m     \u001b[1;32mwith\u001b[0m \u001b[0mtrace\u001b[0m\u001b[1;33m.\u001b[0m\u001b[0mTrace\u001b[0m\u001b[1;33m(\u001b[0m\u001b[0mself\u001b[0m\u001b[1;33m.\u001b[0m\u001b[0m_name\u001b[0m\u001b[1;33m)\u001b[0m \u001b[1;32mas\u001b[0m \u001b[0mtm\u001b[0m\u001b[1;33m:\u001b[0m\u001b[1;33m\u001b[0m\u001b[1;33m\u001b[0m\u001b[0m\n\u001b[1;32m--> 828\u001b[1;33m       \u001b[0mresult\u001b[0m \u001b[1;33m=\u001b[0m \u001b[0mself\u001b[0m\u001b[1;33m.\u001b[0m\u001b[0m_call\u001b[0m\u001b[1;33m(\u001b[0m\u001b[1;33m*\u001b[0m\u001b[0margs\u001b[0m\u001b[1;33m,\u001b[0m \u001b[1;33m**\u001b[0m\u001b[0mkwds\u001b[0m\u001b[1;33m)\u001b[0m\u001b[1;33m\u001b[0m\u001b[1;33m\u001b[0m\u001b[0m\n\u001b[0m\u001b[0;32m    829\u001b[0m       \u001b[0mcompiler\u001b[0m \u001b[1;33m=\u001b[0m \u001b[1;34m\"xla\"\u001b[0m \u001b[1;32mif\u001b[0m \u001b[0mself\u001b[0m\u001b[1;33m.\u001b[0m\u001b[0m_experimental_compile\u001b[0m \u001b[1;32melse\u001b[0m \u001b[1;34m\"nonXla\"\u001b[0m\u001b[1;33m\u001b[0m\u001b[1;33m\u001b[0m\u001b[0m\n\u001b[0;32m    830\u001b[0m       \u001b[0mnew_tracing_count\u001b[0m \u001b[1;33m=\u001b[0m \u001b[0mself\u001b[0m\u001b[1;33m.\u001b[0m\u001b[0mexperimental_get_tracing_count\u001b[0m\u001b[1;33m(\u001b[0m\u001b[1;33m)\u001b[0m\u001b[1;33m\u001b[0m\u001b[1;33m\u001b[0m\u001b[0m\n",
      "\u001b[1;32m~\\anaconda3\\lib\\site-packages\\tensorflow\\python\\eager\\def_function.py\u001b[0m in \u001b[0;36m_call\u001b[1;34m(self, *args, **kwds)\u001b[0m\n\u001b[0;32m    853\u001b[0m       \u001b[1;31m# In this case we have created variables on the first call, so we run the\u001b[0m\u001b[1;33m\u001b[0m\u001b[1;33m\u001b[0m\u001b[1;33m\u001b[0m\u001b[0m\n\u001b[0;32m    854\u001b[0m       \u001b[1;31m# defunned version which is guaranteed to never create variables.\u001b[0m\u001b[1;33m\u001b[0m\u001b[1;33m\u001b[0m\u001b[1;33m\u001b[0m\u001b[0m\n\u001b[1;32m--> 855\u001b[1;33m       \u001b[1;32mreturn\u001b[0m \u001b[0mself\u001b[0m\u001b[1;33m.\u001b[0m\u001b[0m_stateless_fn\u001b[0m\u001b[1;33m(\u001b[0m\u001b[1;33m*\u001b[0m\u001b[0margs\u001b[0m\u001b[1;33m,\u001b[0m \u001b[1;33m**\u001b[0m\u001b[0mkwds\u001b[0m\u001b[1;33m)\u001b[0m  \u001b[1;31m# pylint: disable=not-callable\u001b[0m\u001b[1;33m\u001b[0m\u001b[1;33m\u001b[0m\u001b[0m\n\u001b[0m\u001b[0;32m    856\u001b[0m     \u001b[1;32melif\u001b[0m \u001b[0mself\u001b[0m\u001b[1;33m.\u001b[0m\u001b[0m_stateful_fn\u001b[0m \u001b[1;32mis\u001b[0m \u001b[1;32mnot\u001b[0m \u001b[1;32mNone\u001b[0m\u001b[1;33m:\u001b[0m\u001b[1;33m\u001b[0m\u001b[1;33m\u001b[0m\u001b[0m\n\u001b[0;32m    857\u001b[0m       \u001b[1;31m# Release the lock early so that multiple threads can perform the call\u001b[0m\u001b[1;33m\u001b[0m\u001b[1;33m\u001b[0m\u001b[1;33m\u001b[0m\u001b[0m\n",
      "\u001b[1;32m~\\anaconda3\\lib\\site-packages\\tensorflow\\python\\eager\\function.py\u001b[0m in \u001b[0;36m__call__\u001b[1;34m(self, *args, **kwargs)\u001b[0m\n\u001b[0;32m   2940\u001b[0m       (graph_function,\n\u001b[0;32m   2941\u001b[0m        filtered_flat_args) = self._maybe_define_function(args, kwargs)\n\u001b[1;32m-> 2942\u001b[1;33m     return graph_function._call_flat(\n\u001b[0m\u001b[0;32m   2943\u001b[0m         filtered_flat_args, captured_inputs=graph_function.captured_inputs)  # pylint: disable=protected-access\n\u001b[0;32m   2944\u001b[0m \u001b[1;33m\u001b[0m\u001b[0m\n",
      "\u001b[1;32m~\\anaconda3\\lib\\site-packages\\tensorflow\\python\\eager\\function.py\u001b[0m in \u001b[0;36m_call_flat\u001b[1;34m(self, args, captured_inputs, cancellation_manager)\u001b[0m\n\u001b[0;32m   1916\u001b[0m         and executing_eagerly):\n\u001b[0;32m   1917\u001b[0m       \u001b[1;31m# No tape is watching; skip to running the function.\u001b[0m\u001b[1;33m\u001b[0m\u001b[1;33m\u001b[0m\u001b[1;33m\u001b[0m\u001b[0m\n\u001b[1;32m-> 1918\u001b[1;33m       return self._build_call_outputs(self._inference_function.call(\n\u001b[0m\u001b[0;32m   1919\u001b[0m           ctx, args, cancellation_manager=cancellation_manager))\n\u001b[0;32m   1920\u001b[0m     forward_backward = self._select_forward_and_backward_functions(\n",
      "\u001b[1;32m~\\anaconda3\\lib\\site-packages\\tensorflow\\python\\eager\\function.py\u001b[0m in \u001b[0;36mcall\u001b[1;34m(self, ctx, args, cancellation_manager)\u001b[0m\n\u001b[0;32m    553\u001b[0m       \u001b[1;32mwith\u001b[0m \u001b[0m_InterpolateFunctionError\u001b[0m\u001b[1;33m(\u001b[0m\u001b[0mself\u001b[0m\u001b[1;33m)\u001b[0m\u001b[1;33m:\u001b[0m\u001b[1;33m\u001b[0m\u001b[1;33m\u001b[0m\u001b[0m\n\u001b[0;32m    554\u001b[0m         \u001b[1;32mif\u001b[0m \u001b[0mcancellation_manager\u001b[0m \u001b[1;32mis\u001b[0m \u001b[1;32mNone\u001b[0m\u001b[1;33m:\u001b[0m\u001b[1;33m\u001b[0m\u001b[1;33m\u001b[0m\u001b[0m\n\u001b[1;32m--> 555\u001b[1;33m           outputs = execute.execute(\n\u001b[0m\u001b[0;32m    556\u001b[0m               \u001b[0mstr\u001b[0m\u001b[1;33m(\u001b[0m\u001b[0mself\u001b[0m\u001b[1;33m.\u001b[0m\u001b[0msignature\u001b[0m\u001b[1;33m.\u001b[0m\u001b[0mname\u001b[0m\u001b[1;33m)\u001b[0m\u001b[1;33m,\u001b[0m\u001b[1;33m\u001b[0m\u001b[1;33m\u001b[0m\u001b[0m\n\u001b[0;32m    557\u001b[0m               \u001b[0mnum_outputs\u001b[0m\u001b[1;33m=\u001b[0m\u001b[0mself\u001b[0m\u001b[1;33m.\u001b[0m\u001b[0m_num_outputs\u001b[0m\u001b[1;33m,\u001b[0m\u001b[1;33m\u001b[0m\u001b[1;33m\u001b[0m\u001b[0m\n",
      "\u001b[1;32m~\\anaconda3\\lib\\site-packages\\tensorflow\\python\\eager\\execute.py\u001b[0m in \u001b[0;36mquick_execute\u001b[1;34m(op_name, num_outputs, inputs, attrs, ctx, name)\u001b[0m\n\u001b[0;32m     57\u001b[0m   \u001b[1;32mtry\u001b[0m\u001b[1;33m:\u001b[0m\u001b[1;33m\u001b[0m\u001b[1;33m\u001b[0m\u001b[0m\n\u001b[0;32m     58\u001b[0m     \u001b[0mctx\u001b[0m\u001b[1;33m.\u001b[0m\u001b[0mensure_initialized\u001b[0m\u001b[1;33m(\u001b[0m\u001b[1;33m)\u001b[0m\u001b[1;33m\u001b[0m\u001b[1;33m\u001b[0m\u001b[0m\n\u001b[1;32m---> 59\u001b[1;33m     tensors = pywrap_tfe.TFE_Py_Execute(ctx._handle, device_name, op_name,\n\u001b[0m\u001b[0;32m     60\u001b[0m                                         inputs, attrs, num_outputs)\n\u001b[0;32m     61\u001b[0m   \u001b[1;32mexcept\u001b[0m \u001b[0mcore\u001b[0m\u001b[1;33m.\u001b[0m\u001b[0m_NotOkStatusException\u001b[0m \u001b[1;32mas\u001b[0m \u001b[0me\u001b[0m\u001b[1;33m:\u001b[0m\u001b[1;33m\u001b[0m\u001b[1;33m\u001b[0m\u001b[0m\n",
      "\u001b[1;31mKeyboardInterrupt\u001b[0m: "
     ]
    }
   ],
   "source": [
    "# # Define model\n",
    "# model = model_with_dropout()\n",
    "# # Fit model\n",
    "# history = model.fit_generator(training_set, \n",
    "#                               steps_per_epoch=len(training_set),\n",
    "#                               validation_data=test_set, \n",
    "#                               validation_steps=len(test_set), \n",
    "#                               epochs= epochs)"
   ]
  },
  {
   "cell_type": "code",
   "execution_count": null,
   "metadata": {},
   "outputs": [],
   "source": [
    "# Evaluate model\n",
    "_, acc = model.evaluate_generator(test_set, steps=len(test_set), verbose=0)\n",
    "print(\"Accuracy: %.4f\" % (acc * 100.0))"
   ]
  },
  {
   "cell_type": "code",
   "execution_count": null,
   "metadata": {},
   "outputs": [],
   "source": [
    "# Build graphs\n",
    "summarize_diagnostics(history)"
   ]
  },
  {
   "cell_type": "code",
   "execution_count": null,
   "metadata": {},
   "outputs": [],
   "source": []
  },
  {
   "cell_type": "code",
   "execution_count": null,
   "metadata": {},
   "outputs": [],
   "source": []
  },
  {
   "cell_type": "code",
   "execution_count": null,
   "metadata": {},
   "outputs": [],
   "source": []
  },
  {
   "cell_type": "code",
   "execution_count": null,
   "metadata": {},
   "outputs": [],
   "source": []
  },
  {
   "cell_type": "code",
   "execution_count": null,
   "metadata": {},
   "outputs": [],
   "source": []
  },
  {
   "cell_type": "code",
   "execution_count": null,
   "metadata": {},
   "outputs": [],
   "source": [
    "# model = Sequential()\n",
    "# model.add(Conv2D(32, (5, 5), input_shape=(img_rows, img_cols, 3), padding='valid'))\n",
    "# model.add(Activation('relu'))\n",
    "# model.add(MaxPooling2D(pool_size=(2, 2)))\n",
    "\n",
    "# model.add(Conv2D(32, (5, 5), padding='valid'))\n",
    "# model.add(Activation('relu'))\n",
    "# model.add(MaxPooling2D(pool_size=(2, 2)))\n",
    "\n",
    "# model.add(Conv2D(64, (5, 5), padding='valid'))\n",
    "# model.add(Activation('relu'))\n",
    "# model.add(MaxPooling2D(pool_size=(2, 2)))\n",
    "\n",
    "# model.add(Flatten())\n",
    "# model.add(Dense(64))\n",
    "# model.add(Activation('relu'))\n",
    "# model.add(Dropout(0.5))\n",
    "# model.add(Dense(11))\n",
    "# model.add(Activation('softmax'))\n",
    "\n",
    "# model.compile(loss='categorical_crossentropy',\n",
    "#               optimizer='rmsprop',\n",
    "#               metrics=['accuracy'])\n",
    "\n",
    "# #Train\n",
    "# model.fit(training_set,\n",
    "#                     steps_per_epoch=num_of_train_samples // batch_size,\n",
    "#                     epochs=epochs,\n",
    "#                     validation_data=test_set,\n",
    "#                     validation_steps=num_of_test_samples // batch_size)"
   ]
  },
  {
   "cell_type": "code",
   "execution_count": null,
   "metadata": {},
   "outputs": [],
   "source": []
  }
 ],
 "metadata": {
  "kernelspec": {
   "display_name": "Python 3",
   "language": "python",
   "name": "python3"
  },
  "language_info": {
   "codemirror_mode": {
    "name": "ipython",
    "version": 3
   },
   "file_extension": ".py",
   "mimetype": "text/x-python",
   "name": "python",
   "nbconvert_exporter": "python",
   "pygments_lexer": "ipython3",
   "version": "3.8.5"
  }
 },
 "nbformat": 4,
 "nbformat_minor": 5
}
