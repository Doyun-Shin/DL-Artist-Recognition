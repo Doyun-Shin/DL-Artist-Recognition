{
 "cells": [
  {
   "cell_type": "code",
   "execution_count": 1,
   "id": "worthy-syndicate",
   "metadata": {},
   "outputs": [],
   "source": [
    "# Importing the Keras libraries and packages\n",
    "from keras.models import Sequential\n",
    "from keras.layers import Conv2D\n",
    "from keras.layers import MaxPooling2D\n",
    "from keras.layers import Flatten\n",
    "from keras.layers import Dense\n",
    "from keras.layers.core import Dense, Dropout, Activation, Flatten"
   ]
  },
  {
   "cell_type": "code",
   "execution_count": 2,
   "id": "designing-morrison",
   "metadata": {},
   "outputs": [],
   "source": [
    "# Part 2 - Fitting the CNN to the images\n",
    "\n",
    "from keras.preprocessing.image import ImageDataGenerator"
   ]
  },
  {
   "cell_type": "code",
   "execution_count": 3,
   "id": "closing-california",
   "metadata": {},
   "outputs": [],
   "source": [
    "img_rows = 150\n",
    "img_cols = 150\n",
    "epochs = 10\n",
    "batch_size = 128\n",
    "num_of_train_samples = 3000\n",
    "num_of_test_samples = 600"
   ]
  },
  {
   "cell_type": "code",
   "execution_count": 4,
   "id": "numerous-chemistry",
   "metadata": {},
   "outputs": [],
   "source": [
    "train_datagen = ImageDataGenerator(rescale=1. / 255,\n",
    "                                   rotation_range=40,\n",
    "                                   width_shift_range=0.2,\n",
    "                                   height_shift_range=0.2,\n",
    "                                   shear_range=0.2,\n",
    "                                   zoom_range=0.2,\n",
    "                                   horizontal_flip=True,\n",
    "                                   fill_mode='nearest',validation_split=0.3)\n",
    "\n",
    "test_datagen = ImageDataGenerator(rescale=1. / 255,validation_split=0.3)"
   ]
  },
  {
   "cell_type": "code",
   "execution_count": 5,
   "id": "assisted-barrier",
   "metadata": {},
   "outputs": [
    {
     "name": "stdout",
     "output_type": "stream",
     "text": [
      "Found 5606 images belonging to 11 classes.\n",
      "Found 2397 images belonging to 11 classes.\n"
     ]
    }
   ],
   "source": [
    "training_set = train_datagen.flow_from_directory('Artists_dataset', \n",
    "                                                 subset=\"training\",\n",
    "                                                 target_size=(img_rows, img_cols),\n",
    "                                                 batch_size=batch_size,\n",
    "                                                 class_mode='categorical')\n",
    "\n",
    "\n",
    "test_set = test_datagen.flow_from_directory('Artists_dataset', \n",
    "                                            subset=\"validation\",\n",
    "                                            target_size=(img_rows, img_cols),\n",
    "                                            batch_size=batch_size,shuffle=False,\n",
    "                                            class_mode='categorical')\n"
   ]
  },
  {
   "cell_type": "code",
   "execution_count": 6,
   "id": "corrected-reggae",
   "metadata": {},
   "outputs": [
    {
     "data": {
      "text/plain": [
       "{'Cezanne': 0,\n",
       " 'Degas': 1,\n",
       " 'Manet': 2,\n",
       " 'Matisse': 3,\n",
       " 'Monet': 4,\n",
       " 'Morisot': 5,\n",
       " 'Pissaro': 6,\n",
       " 'Renoir': 7,\n",
       " 'Sargent': 8,\n",
       " 'Sisley': 9,\n",
       " 'Sorolla': 10}"
      ]
     },
     "execution_count": 6,
     "metadata": {},
     "output_type": "execute_result"
    }
   ],
   "source": [
    "test_set.class_indices"
   ]
  },
  {
   "cell_type": "code",
   "execution_count": 7,
   "id": "suffering-flooring",
   "metadata": {},
   "outputs": [
    {
     "name": "stdout",
     "output_type": "stream",
     "text": [
      "Epoch 1/10\n",
      "23/23 [==============================] - 153s 7s/step - loss: 4.2278 - accuracy: 0.1137 - val_loss: 2.4322 - val_accuracy: 0.0000e+00\n",
      "Epoch 2/10\n",
      "23/23 [==============================] - 160s 7s/step - loss: 2.4249 - accuracy: 0.1330 - val_loss: 2.4647 - val_accuracy: 0.0000e+00\n",
      "Epoch 3/10\n",
      "23/23 [==============================] - 151s 6s/step - loss: 2.4237 - accuracy: 0.1315 - val_loss: 2.4995 - val_accuracy: 0.0000e+00\n",
      "Epoch 4/10\n",
      "23/23 [==============================] - 144s 6s/step - loss: 2.2923 - accuracy: 0.1681 - val_loss: 2.5472 - val_accuracy: 0.0000e+00\n",
      "Epoch 5/10\n",
      "23/23 [==============================] - 144s 6s/step - loss: 2.2878 - accuracy: 0.1549 - val_loss: 2.5373 - val_accuracy: 0.0000e+00\n",
      "Epoch 6/10\n",
      "23/23 [==============================] - 143s 6s/step - loss: 2.7131 - accuracy: 0.1710 - val_loss: 2.5848 - val_accuracy: 0.0000e+00\n",
      "Epoch 7/10\n",
      "23/23 [==============================] - 142s 6s/step - loss: 2.2634 - accuracy: 0.1591 - val_loss: 2.5737 - val_accuracy: 0.0000e+00\n",
      "Epoch 8/10\n",
      "23/23 [==============================] - 143s 6s/step - loss: 2.2846 - accuracy: 0.1663 - val_loss: 2.5472 - val_accuracy: 0.0000e+00\n",
      "Epoch 9/10\n",
      "23/23 [==============================] - 152s 7s/step - loss: 2.3814 - accuracy: 0.1690 - val_loss: 2.6043 - val_accuracy: 0.0000e+00\n",
      "Epoch 10/10\n",
      "23/23 [==============================] - 143s 6s/step - loss: 2.2751 - accuracy: 0.1781 - val_loss: 2.6121 - val_accuracy: 0.0000e+00\n"
     ]
    },
    {
     "data": {
      "text/plain": [
       "<tensorflow.python.keras.callbacks.History at 0x1c529255a60>"
      ]
     },
     "execution_count": 7,
     "metadata": {},
     "output_type": "execute_result"
    }
   ],
   "source": [
    "model = Sequential()\n",
    "model.add(Conv2D(32, (14, 14), input_shape=(img_rows, img_cols, 3), padding='valid'))\n",
    "model.add(Activation('relu'))\n",
    "model.add(MaxPooling2D(pool_size=(2, 2)))\n",
    "\n",
    "model.add(Conv2D(32, (14, 14), padding='valid'))\n",
    "model.add(Activation('relu'))\n",
    "model.add(MaxPooling2D(pool_size=(2, 2)))\n",
    "\n",
    "model.add(Conv2D(64, (14, 14), padding='valid'))\n",
    "model.add(Activation('relu'))\n",
    "model.add(MaxPooling2D(pool_size=(2, 2)))\n",
    "\n",
    "model.add(Flatten())\n",
    "model.add(Dense(64))\n",
    "model.add(Activation('relu'))\n",
    "model.add(Dropout(0.5))\n",
    "model.add(Dense(11))\n",
    "model.add(Activation('softmax'))\n",
    "\n",
    "model.compile(loss='categorical_crossentropy',\n",
    "              optimizer='rmsprop',\n",
    "              metrics=['accuracy'])\n",
    "\n",
    "#Train\n",
    "model.fit(training_set,\n",
    "                    steps_per_epoch=num_of_train_samples // batch_size,\n",
    "                    epochs=epochs,\n",
    "                    validation_data=test_set,\n",
    "                    validation_steps=num_of_test_samples // batch_size)"
   ]
  },
  {
   "cell_type": "code",
   "execution_count": 9,
   "id": "disturbed-combining",
   "metadata": {},
   "outputs": [],
   "source": [
    "import numpy as np\n",
    "from sklearn.metrics import classification_report, confusion_matrix"
   ]
  },
  {
   "cell_type": "code",
   "execution_count": 10,
   "id": "damaged-wound",
   "metadata": {},
   "outputs": [
    {
     "name": "stderr",
     "output_type": "stream",
     "text": [
      "C:\\Users\\User\\AppData\\Roaming\\Python\\Python38\\site-packages\\tensorflow\\python\\keras\\engine\\training.py:1905: UserWarning: `Model.predict_generator` is deprecated and will be removed in a future version. Please use `Model.predict`, which supports generators.\n",
      "  warnings.warn('`Model.predict_generator` is deprecated and '\n"
     ]
    },
    {
     "name": "stdout",
     "output_type": "stream",
     "text": [
      "WARNING:tensorflow:Your input ran out of data; interrupting training. Make sure that your dataset or generator can generate at least `steps_per_epoch * epochs` batches (in this case, 60 batches). You may need to use the repeat() function when building your dataset.\n",
      "Confusion Matrix\n",
      "[[  0   0   0   0 176   0   0   0   0   0   0]\n",
      " [  0   0   0   0 187   0   0   0   0   0   0]\n",
      " [  0   0   0   0  68   0   0   2   0   0   0]\n",
      " [  0   0   0   0 302   0   0   0   0   0   0]\n",
      " [  0   0   0   0 410   0   0   0   0   0   0]\n",
      " [  0   0   0   0  72   0   0   0   0   0   0]\n",
      " [  0   0   0   0 266   0   0   0   0   0   0]\n",
      " [  0   0   0   0 421   0   0   2   0   0   0]\n",
      " [  0   0   0   0 237   0   0   2   1   0   0]\n",
      " [  0   0   0   0 140   0   0   1   0   0   0]\n",
      " [  0   0   0   0 109   0   0   1   0   0   0]]\n",
      "Classification Report\n",
      "              precision    recall  f1-score   support\n",
      "\n",
      "     Cezanne       0.00      0.00      0.00       176\n",
      "       Degas       0.00      0.00      0.00       187\n",
      "       Manet       0.00      0.00      0.00        70\n",
      "     Matisse       0.00      0.00      0.00       302\n",
      "       Monet       0.17      1.00      0.29       410\n",
      "     Morisot       0.00      0.00      0.00        72\n",
      "     Pissaro       0.00      0.00      0.00       266\n",
      "      Renoir       0.25      0.00      0.01       423\n",
      "     Sargent       1.00      0.00      0.01       240\n",
      "      Sisley       0.00      0.00      0.00       141\n",
      "     Sorolla       0.00      0.00      0.00       110\n",
      "\n",
      "    accuracy                           0.17      2397\n",
      "   macro avg       0.13      0.09      0.03      2397\n",
      "weighted avg       0.17      0.17      0.05      2397\n",
      "\n"
     ]
    },
    {
     "name": "stderr",
     "output_type": "stream",
     "text": [
      "C:\\Users\\User\\anaconda3\\lib\\site-packages\\sklearn\\metrics\\_classification.py:1245: UndefinedMetricWarning: Precision and F-score are ill-defined and being set to 0.0 in labels with no predicted samples. Use `zero_division` parameter to control this behavior.\n",
      "  _warn_prf(average, modifier, msg_start, len(result))\n",
      "C:\\Users\\User\\anaconda3\\lib\\site-packages\\sklearn\\metrics\\_classification.py:1245: UndefinedMetricWarning: Precision and F-score are ill-defined and being set to 0.0 in labels with no predicted samples. Use `zero_division` parameter to control this behavior.\n",
      "  _warn_prf(average, modifier, msg_start, len(result))\n",
      "C:\\Users\\User\\anaconda3\\lib\\site-packages\\sklearn\\metrics\\_classification.py:1245: UndefinedMetricWarning: Precision and F-score are ill-defined and being set to 0.0 in labels with no predicted samples. Use `zero_division` parameter to control this behavior.\n",
      "  _warn_prf(average, modifier, msg_start, len(result))\n"
     ]
    }
   ],
   "source": [
    "#Confution Matrix and Classification Report\n",
    "Y_pred = model.predict_generator(test_set, 60)\n",
    "y_pred = np.argmax(Y_pred, axis=1)\n",
    "print('Confusion Matrix')\n",
    "print(confusion_matrix(test_set.classes, y_pred))\n",
    "print('Classification Report')\n",
    "target_names = list(training_set.class_indices.keys())\n",
    "print(classification_report(test_set.classes, y_pred, target_names=target_names))"
   ]
  },
  {
   "cell_type": "code",
   "execution_count": null,
   "id": "joined-batman",
   "metadata": {},
   "outputs": [],
   "source": []
  }
 ],
 "metadata": {
  "kernelspec": {
   "display_name": "my_env",
   "language": "python",
   "name": "my_env"
  },
  "language_info": {
   "codemirror_mode": {
    "name": "ipython",
    "version": 3
   },
   "file_extension": ".py",
   "mimetype": "text/x-python",
   "name": "python",
   "nbconvert_exporter": "python",
   "pygments_lexer": "ipython3",
   "version": "3.8.5"
  }
 },
 "nbformat": 4,
 "nbformat_minor": 5
}
